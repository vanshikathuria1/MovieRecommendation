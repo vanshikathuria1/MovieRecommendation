{
  "nbformat": 4,
  "nbformat_minor": 0,
  "metadata": {
    "colab": {
      "provenance": []
    },
    "kernelspec": {
      "name": "python3",
      "display_name": "Python 3"
    },
    "language_info": {
      "name": "python"
    }
  },
  "cells": [
    {
      "cell_type": "markdown",
      "source": [
        "***Movie Recommendation System***"
      ],
      "metadata": {
        "id": "LrD3AxehGEbp"
      }
    },
    {
      "cell_type": "markdown",
      "source": [
        "**Objective**: To develop a movie recommendation system utilizing machine learning techniques to provide personalized and engaging movie suggestions based on user preferences."
      ],
      "metadata": {
        "id": "dSK9PieDGU_N"
      }
    },
    {
      "cell_type": "markdown",
      "source": [
        "**Data Source**: Github"
      ],
      "metadata": {
        "id": "_Iu9zdOBG3tO"
      }
    },
    {
      "cell_type": "markdown",
      "source": [
        "Import **Libraries**"
      ],
      "metadata": {
        "id": "-WNfvbFfG6mw"
      }
    },
    {
      "cell_type": "code",
      "execution_count": 1,
      "metadata": {
        "id": "Khg4Je38u60H"
      },
      "outputs": [],
      "source": [
        "import pandas as pd"
      ]
    },
    {
      "cell_type": "code",
      "source": [
        "import numpy as np"
      ],
      "metadata": {
        "id": "CVg5etm6vYbm"
      },
      "execution_count": 2,
      "outputs": []
    },
    {
      "cell_type": "markdown",
      "source": [
        "Import **Data**"
      ],
      "metadata": {
        "id": "rlclN533HBOe"
      }
    },
    {
      "cell_type": "code",
      "source": [
        "df= pd.read_csv(r'https://raw.githubusercontent.com/YBI-Foundation/Dataset/main/Movies%20Recommendation.csv')"
      ],
      "metadata": {
        "id": "ayLowz3yvqU6"
      },
      "execution_count": 5,
      "outputs": []
    },
    {
      "cell_type": "markdown",
      "source": [
        "Describe **Data**"
      ],
      "metadata": {
        "id": "3Z8HGXDYHoms"
      }
    },
    {
      "cell_type": "code",
      "source": [
        "df.head()"
      ],
      "metadata": {
        "colab": {
          "base_uri": "https://localhost:8080/",
          "height": 637
        },
        "id": "Q2nsOHwqwY32",
        "outputId": "2623d5d3-82b7-40d2-f9cd-75a4b046457a"
      },
      "execution_count": 6,
      "outputs": [
        {
          "output_type": "execute_result",
          "data": {
            "text/plain": [
              "   Movie_ID      Movie_Title                       Movie_Genre Movie_Language  \\\n",
              "0         1       Four Rooms                      Crime Comedy             en   \n",
              "1         2        Star Wars  Adventure Action Science Fiction             en   \n",
              "2         3     Finding Nemo                  Animation Family             en   \n",
              "3         4     Forrest Gump              Comedy Drama Romance             en   \n",
              "4         5  American Beauty                             Drama             en   \n",
              "\n",
              "   Movie_Budget  Movie_Popularity Movie_Release_Date  Movie_Revenue  \\\n",
              "0       4000000         22.876230         09-12-1995        4300000   \n",
              "1      11000000        126.393695         25-05-1977      775398007   \n",
              "2      94000000         85.688789         30-05-2003      940335536   \n",
              "3      55000000        138.133331         06-07-1994      677945399   \n",
              "4      15000000         80.878605         15-09-1999      356296601   \n",
              "\n",
              "   Movie_Runtime  Movie_Vote  ...  \\\n",
              "0           98.0         6.5  ...   \n",
              "1          121.0         8.1  ...   \n",
              "2          100.0         7.6  ...   \n",
              "3          142.0         8.2  ...   \n",
              "4          122.0         7.9  ...   \n",
              "\n",
              "                                      Movie_Homepage  \\\n",
              "0                                                NaN   \n",
              "1  http://www.starwars.com/films/star-wars-episod...   \n",
              "2              http://movies.disney.com/finding-nemo   \n",
              "3                                                NaN   \n",
              "4                      http://www.dreamworks.com/ab/   \n",
              "\n",
              "                                      Movie_Keywords  \\\n",
              "0          hotel new year's eve witch bet hotel room   \n",
              "1        android galaxy hermit death star lightsaber   \n",
              "2  father son relationship harbor underwater fish...   \n",
              "3  vietnam veteran hippie mentally disabled runni...   \n",
              "4  male nudity female nudity adultery midlife cri...   \n",
              "\n",
              "                                      Movie_Overview  \\\n",
              "0  It's Ted the Bellhop's first night on the job....   \n",
              "1  Princess Leia is captured and held hostage by ...   \n",
              "2  Nemo, an adventurous young clownfish, is unexp...   \n",
              "3  A man with a low IQ has accomplished great thi...   \n",
              "4  Lester Burnham, a depressed suburban father in...   \n",
              "\n",
              "                              Movie_Production_House  \\\n",
              "0  [{\"name\": \"Miramax Films\", \"id\": 14}, {\"name\":...   \n",
              "1  [{\"name\": \"Lucasfilm\", \"id\": 1}, {\"name\": \"Twe...   \n",
              "2     [{\"name\": \"Pixar Animation Studios\", \"id\": 3}]   \n",
              "3          [{\"name\": \"Paramount Pictures\", \"id\": 4}]   \n",
              "4  [{\"name\": \"DreamWorks SKG\", \"id\": 27}, {\"name\"...   \n",
              "\n",
              "                            Movie_Production_Country  \\\n",
              "0  [{\"iso_3166_1\": \"US\", \"name\": \"United States o...   \n",
              "1  [{\"iso_3166_1\": \"US\", \"name\": \"United States o...   \n",
              "2  [{\"iso_3166_1\": \"US\", \"name\": \"United States o...   \n",
              "3  [{\"iso_3166_1\": \"US\", \"name\": \"United States o...   \n",
              "4  [{\"iso_3166_1\": \"US\", \"name\": \"United States o...   \n",
              "\n",
              "                      Movie_Spoken_Language  \\\n",
              "0  [{\"iso_639_1\": \"en\", \"name\": \"English\"}]   \n",
              "1  [{\"iso_639_1\": \"en\", \"name\": \"English\"}]   \n",
              "2  [{\"iso_639_1\": \"en\", \"name\": \"English\"}]   \n",
              "3  [{\"iso_639_1\": \"en\", \"name\": \"English\"}]   \n",
              "4  [{\"iso_639_1\": \"en\", \"name\": \"English\"}]   \n",
              "\n",
              "                                       Movie_Tagline  \\\n",
              "0  Twelve outrageous guests. Four scandalous requ...   \n",
              "1       A long time ago in a galaxy far, far away...   \n",
              "2  There are 3.7 trillion fish in the ocean, they...   \n",
              "3  The world will never be the same, once you've ...   \n",
              "4                                       Look closer.   \n",
              "\n",
              "                                          Movie_Cast  \\\n",
              "0  Tim Roth Antonio Banderas Jennifer Beals Madon...   \n",
              "1  Mark Hamill Harrison Ford Carrie Fisher Peter ...   \n",
              "2  Albert Brooks Ellen DeGeneres Alexander Gould ...   \n",
              "3  Tom Hanks Robin Wright Gary Sinise Mykelti Wil...   \n",
              "4  Kevin Spacey Annette Bening Thora Birch Wes Be...   \n",
              "\n",
              "                                          Movie_Crew   Movie_Director  \n",
              "0  [{'name': 'Allison Anders', 'gender': 1, 'depa...   Allison Anders  \n",
              "1  [{'name': 'George Lucas', 'gender': 2, 'depart...     George Lucas  \n",
              "2  [{'name': 'Andrew Stanton', 'gender': 2, 'depa...   Andrew Stanton  \n",
              "3  [{'name': 'Alan Silvestri', 'gender': 2, 'depa...  Robert Zemeckis  \n",
              "4  [{'name': 'Thomas Newman', 'gender': 2, 'depar...       Sam Mendes  \n",
              "\n",
              "[5 rows x 21 columns]"
            ],
            "text/html": [
              "\n",
              "  <div id=\"df-03b98498-370b-448f-8519-d5dfb55fb0a0\" class=\"colab-df-container\">\n",
              "    <div>\n",
              "<style scoped>\n",
              "    .dataframe tbody tr th:only-of-type {\n",
              "        vertical-align: middle;\n",
              "    }\n",
              "\n",
              "    .dataframe tbody tr th {\n",
              "        vertical-align: top;\n",
              "    }\n",
              "\n",
              "    .dataframe thead th {\n",
              "        text-align: right;\n",
              "    }\n",
              "</style>\n",
              "<table border=\"1\" class=\"dataframe\">\n",
              "  <thead>\n",
              "    <tr style=\"text-align: right;\">\n",
              "      <th></th>\n",
              "      <th>Movie_ID</th>\n",
              "      <th>Movie_Title</th>\n",
              "      <th>Movie_Genre</th>\n",
              "      <th>Movie_Language</th>\n",
              "      <th>Movie_Budget</th>\n",
              "      <th>Movie_Popularity</th>\n",
              "      <th>Movie_Release_Date</th>\n",
              "      <th>Movie_Revenue</th>\n",
              "      <th>Movie_Runtime</th>\n",
              "      <th>Movie_Vote</th>\n",
              "      <th>...</th>\n",
              "      <th>Movie_Homepage</th>\n",
              "      <th>Movie_Keywords</th>\n",
              "      <th>Movie_Overview</th>\n",
              "      <th>Movie_Production_House</th>\n",
              "      <th>Movie_Production_Country</th>\n",
              "      <th>Movie_Spoken_Language</th>\n",
              "      <th>Movie_Tagline</th>\n",
              "      <th>Movie_Cast</th>\n",
              "      <th>Movie_Crew</th>\n",
              "      <th>Movie_Director</th>\n",
              "    </tr>\n",
              "  </thead>\n",
              "  <tbody>\n",
              "    <tr>\n",
              "      <th>0</th>\n",
              "      <td>1</td>\n",
              "      <td>Four Rooms</td>\n",
              "      <td>Crime Comedy</td>\n",
              "      <td>en</td>\n",
              "      <td>4000000</td>\n",
              "      <td>22.876230</td>\n",
              "      <td>09-12-1995</td>\n",
              "      <td>4300000</td>\n",
              "      <td>98.0</td>\n",
              "      <td>6.5</td>\n",
              "      <td>...</td>\n",
              "      <td>NaN</td>\n",
              "      <td>hotel new year's eve witch bet hotel room</td>\n",
              "      <td>It's Ted the Bellhop's first night on the job....</td>\n",
              "      <td>[{\"name\": \"Miramax Films\", \"id\": 14}, {\"name\":...</td>\n",
              "      <td>[{\"iso_3166_1\": \"US\", \"name\": \"United States o...</td>\n",
              "      <td>[{\"iso_639_1\": \"en\", \"name\": \"English\"}]</td>\n",
              "      <td>Twelve outrageous guests. Four scandalous requ...</td>\n",
              "      <td>Tim Roth Antonio Banderas Jennifer Beals Madon...</td>\n",
              "      <td>[{'name': 'Allison Anders', 'gender': 1, 'depa...</td>\n",
              "      <td>Allison Anders</td>\n",
              "    </tr>\n",
              "    <tr>\n",
              "      <th>1</th>\n",
              "      <td>2</td>\n",
              "      <td>Star Wars</td>\n",
              "      <td>Adventure Action Science Fiction</td>\n",
              "      <td>en</td>\n",
              "      <td>11000000</td>\n",
              "      <td>126.393695</td>\n",
              "      <td>25-05-1977</td>\n",
              "      <td>775398007</td>\n",
              "      <td>121.0</td>\n",
              "      <td>8.1</td>\n",
              "      <td>...</td>\n",
              "      <td>http://www.starwars.com/films/star-wars-episod...</td>\n",
              "      <td>android galaxy hermit death star lightsaber</td>\n",
              "      <td>Princess Leia is captured and held hostage by ...</td>\n",
              "      <td>[{\"name\": \"Lucasfilm\", \"id\": 1}, {\"name\": \"Twe...</td>\n",
              "      <td>[{\"iso_3166_1\": \"US\", \"name\": \"United States o...</td>\n",
              "      <td>[{\"iso_639_1\": \"en\", \"name\": \"English\"}]</td>\n",
              "      <td>A long time ago in a galaxy far, far away...</td>\n",
              "      <td>Mark Hamill Harrison Ford Carrie Fisher Peter ...</td>\n",
              "      <td>[{'name': 'George Lucas', 'gender': 2, 'depart...</td>\n",
              "      <td>George Lucas</td>\n",
              "    </tr>\n",
              "    <tr>\n",
              "      <th>2</th>\n",
              "      <td>3</td>\n",
              "      <td>Finding Nemo</td>\n",
              "      <td>Animation Family</td>\n",
              "      <td>en</td>\n",
              "      <td>94000000</td>\n",
              "      <td>85.688789</td>\n",
              "      <td>30-05-2003</td>\n",
              "      <td>940335536</td>\n",
              "      <td>100.0</td>\n",
              "      <td>7.6</td>\n",
              "      <td>...</td>\n",
              "      <td>http://movies.disney.com/finding-nemo</td>\n",
              "      <td>father son relationship harbor underwater fish...</td>\n",
              "      <td>Nemo, an adventurous young clownfish, is unexp...</td>\n",
              "      <td>[{\"name\": \"Pixar Animation Studios\", \"id\": 3}]</td>\n",
              "      <td>[{\"iso_3166_1\": \"US\", \"name\": \"United States o...</td>\n",
              "      <td>[{\"iso_639_1\": \"en\", \"name\": \"English\"}]</td>\n",
              "      <td>There are 3.7 trillion fish in the ocean, they...</td>\n",
              "      <td>Albert Brooks Ellen DeGeneres Alexander Gould ...</td>\n",
              "      <td>[{'name': 'Andrew Stanton', 'gender': 2, 'depa...</td>\n",
              "      <td>Andrew Stanton</td>\n",
              "    </tr>\n",
              "    <tr>\n",
              "      <th>3</th>\n",
              "      <td>4</td>\n",
              "      <td>Forrest Gump</td>\n",
              "      <td>Comedy Drama Romance</td>\n",
              "      <td>en</td>\n",
              "      <td>55000000</td>\n",
              "      <td>138.133331</td>\n",
              "      <td>06-07-1994</td>\n",
              "      <td>677945399</td>\n",
              "      <td>142.0</td>\n",
              "      <td>8.2</td>\n",
              "      <td>...</td>\n",
              "      <td>NaN</td>\n",
              "      <td>vietnam veteran hippie mentally disabled runni...</td>\n",
              "      <td>A man with a low IQ has accomplished great thi...</td>\n",
              "      <td>[{\"name\": \"Paramount Pictures\", \"id\": 4}]</td>\n",
              "      <td>[{\"iso_3166_1\": \"US\", \"name\": \"United States o...</td>\n",
              "      <td>[{\"iso_639_1\": \"en\", \"name\": \"English\"}]</td>\n",
              "      <td>The world will never be the same, once you've ...</td>\n",
              "      <td>Tom Hanks Robin Wright Gary Sinise Mykelti Wil...</td>\n",
              "      <td>[{'name': 'Alan Silvestri', 'gender': 2, 'depa...</td>\n",
              "      <td>Robert Zemeckis</td>\n",
              "    </tr>\n",
              "    <tr>\n",
              "      <th>4</th>\n",
              "      <td>5</td>\n",
              "      <td>American Beauty</td>\n",
              "      <td>Drama</td>\n",
              "      <td>en</td>\n",
              "      <td>15000000</td>\n",
              "      <td>80.878605</td>\n",
              "      <td>15-09-1999</td>\n",
              "      <td>356296601</td>\n",
              "      <td>122.0</td>\n",
              "      <td>7.9</td>\n",
              "      <td>...</td>\n",
              "      <td>http://www.dreamworks.com/ab/</td>\n",
              "      <td>male nudity female nudity adultery midlife cri...</td>\n",
              "      <td>Lester Burnham, a depressed suburban father in...</td>\n",
              "      <td>[{\"name\": \"DreamWorks SKG\", \"id\": 27}, {\"name\"...</td>\n",
              "      <td>[{\"iso_3166_1\": \"US\", \"name\": \"United States o...</td>\n",
              "      <td>[{\"iso_639_1\": \"en\", \"name\": \"English\"}]</td>\n",
              "      <td>Look closer.</td>\n",
              "      <td>Kevin Spacey Annette Bening Thora Birch Wes Be...</td>\n",
              "      <td>[{'name': 'Thomas Newman', 'gender': 2, 'depar...</td>\n",
              "      <td>Sam Mendes</td>\n",
              "    </tr>\n",
              "  </tbody>\n",
              "</table>\n",
              "<p>5 rows × 21 columns</p>\n",
              "</div>\n",
              "    <div class=\"colab-df-buttons\">\n",
              "\n",
              "  <div class=\"colab-df-container\">\n",
              "    <button class=\"colab-df-convert\" onclick=\"convertToInteractive('df-03b98498-370b-448f-8519-d5dfb55fb0a0')\"\n",
              "            title=\"Convert this dataframe to an interactive table.\"\n",
              "            style=\"display:none;\">\n",
              "\n",
              "  <svg xmlns=\"http://www.w3.org/2000/svg\" height=\"24px\" viewBox=\"0 -960 960 960\">\n",
              "    <path d=\"M120-120v-720h720v720H120Zm60-500h600v-160H180v160Zm220 220h160v-160H400v160Zm0 220h160v-160H400v160ZM180-400h160v-160H180v160Zm440 0h160v-160H620v160ZM180-180h160v-160H180v160Zm440 0h160v-160H620v160Z\"/>\n",
              "  </svg>\n",
              "    </button>\n",
              "\n",
              "  <style>\n",
              "    .colab-df-container {\n",
              "      display:flex;\n",
              "      gap: 12px;\n",
              "    }\n",
              "\n",
              "    .colab-df-convert {\n",
              "      background-color: #E8F0FE;\n",
              "      border: none;\n",
              "      border-radius: 50%;\n",
              "      cursor: pointer;\n",
              "      display: none;\n",
              "      fill: #1967D2;\n",
              "      height: 32px;\n",
              "      padding: 0 0 0 0;\n",
              "      width: 32px;\n",
              "    }\n",
              "\n",
              "    .colab-df-convert:hover {\n",
              "      background-color: #E2EBFA;\n",
              "      box-shadow: 0px 1px 2px rgba(60, 64, 67, 0.3), 0px 1px 3px 1px rgba(60, 64, 67, 0.15);\n",
              "      fill: #174EA6;\n",
              "    }\n",
              "\n",
              "    .colab-df-buttons div {\n",
              "      margin-bottom: 4px;\n",
              "    }\n",
              "\n",
              "    [theme=dark] .colab-df-convert {\n",
              "      background-color: #3B4455;\n",
              "      fill: #D2E3FC;\n",
              "    }\n",
              "\n",
              "    [theme=dark] .colab-df-convert:hover {\n",
              "      background-color: #434B5C;\n",
              "      box-shadow: 0px 1px 3px 1px rgba(0, 0, 0, 0.15);\n",
              "      filter: drop-shadow(0px 1px 2px rgba(0, 0, 0, 0.3));\n",
              "      fill: #FFFFFF;\n",
              "    }\n",
              "  </style>\n",
              "\n",
              "    <script>\n",
              "      const buttonEl =\n",
              "        document.querySelector('#df-03b98498-370b-448f-8519-d5dfb55fb0a0 button.colab-df-convert');\n",
              "      buttonEl.style.display =\n",
              "        google.colab.kernel.accessAllowed ? 'block' : 'none';\n",
              "\n",
              "      async function convertToInteractive(key) {\n",
              "        const element = document.querySelector('#df-03b98498-370b-448f-8519-d5dfb55fb0a0');\n",
              "        const dataTable =\n",
              "          await google.colab.kernel.invokeFunction('convertToInteractive',\n",
              "                                                    [key], {});\n",
              "        if (!dataTable) return;\n",
              "\n",
              "        const docLinkHtml = 'Like what you see? Visit the ' +\n",
              "          '<a target=\"_blank\" href=https://colab.research.google.com/notebooks/data_table.ipynb>data table notebook</a>'\n",
              "          + ' to learn more about interactive tables.';\n",
              "        element.innerHTML = '';\n",
              "        dataTable['output_type'] = 'display_data';\n",
              "        await google.colab.output.renderOutput(dataTable, element);\n",
              "        const docLink = document.createElement('div');\n",
              "        docLink.innerHTML = docLinkHtml;\n",
              "        element.appendChild(docLink);\n",
              "      }\n",
              "    </script>\n",
              "  </div>\n",
              "\n",
              "\n",
              "<div id=\"df-8ef63baa-d7a9-4988-a849-a35d717b15d5\">\n",
              "  <button class=\"colab-df-quickchart\" onclick=\"quickchart('df-8ef63baa-d7a9-4988-a849-a35d717b15d5')\"\n",
              "            title=\"Suggest charts.\"\n",
              "            style=\"display:none;\">\n",
              "\n",
              "<svg xmlns=\"http://www.w3.org/2000/svg\" height=\"24px\"viewBox=\"0 0 24 24\"\n",
              "     width=\"24px\">\n",
              "    <g>\n",
              "        <path d=\"M19 3H5c-1.1 0-2 .9-2 2v14c0 1.1.9 2 2 2h14c1.1 0 2-.9 2-2V5c0-1.1-.9-2-2-2zM9 17H7v-7h2v7zm4 0h-2V7h2v10zm4 0h-2v-4h2v4z\"/>\n",
              "    </g>\n",
              "</svg>\n",
              "  </button>\n",
              "\n",
              "<style>\n",
              "  .colab-df-quickchart {\n",
              "    background-color: #E8F0FE;\n",
              "    border: none;\n",
              "    border-radius: 50%;\n",
              "    cursor: pointer;\n",
              "    display: none;\n",
              "    fill: #1967D2;\n",
              "    height: 32px;\n",
              "    padding: 0 0 0 0;\n",
              "    width: 32px;\n",
              "  }\n",
              "\n",
              "  .colab-df-quickchart:hover {\n",
              "    background-color: #E2EBFA;\n",
              "    box-shadow: 0px 1px 2px rgba(60, 64, 67, 0.3), 0px 1px 3px 1px rgba(60, 64, 67, 0.15);\n",
              "    fill: #174EA6;\n",
              "  }\n",
              "\n",
              "  [theme=dark] .colab-df-quickchart {\n",
              "    background-color: #3B4455;\n",
              "    fill: #D2E3FC;\n",
              "  }\n",
              "\n",
              "  [theme=dark] .colab-df-quickchart:hover {\n",
              "    background-color: #434B5C;\n",
              "    box-shadow: 0px 1px 3px 1px rgba(0, 0, 0, 0.15);\n",
              "    filter: drop-shadow(0px 1px 2px rgba(0, 0, 0, 0.3));\n",
              "    fill: #FFFFFF;\n",
              "  }\n",
              "</style>\n",
              "\n",
              "  <script>\n",
              "    async function quickchart(key) {\n",
              "      const charts = await google.colab.kernel.invokeFunction(\n",
              "          'suggestCharts', [key], {});\n",
              "    }\n",
              "    (() => {\n",
              "      let quickchartButtonEl =\n",
              "        document.querySelector('#df-8ef63baa-d7a9-4988-a849-a35d717b15d5 button');\n",
              "      quickchartButtonEl.style.display =\n",
              "        google.colab.kernel.accessAllowed ? 'block' : 'none';\n",
              "    })();\n",
              "  </script>\n",
              "</div>\n",
              "    </div>\n",
              "  </div>\n"
            ]
          },
          "metadata": {},
          "execution_count": 6
        }
      ]
    },
    {
      "cell_type": "markdown",
      "source": [
        "**Data Visualization**"
      ],
      "metadata": {
        "id": "et-LhXu9J43e"
      }
    },
    {
      "cell_type": "code",
      "source": [
        "df.info()"
      ],
      "metadata": {
        "colab": {
          "base_uri": "https://localhost:8080/"
        },
        "id": "gHM7Yx5GwcZA",
        "outputId": "a82ffc5d-7536-4304-9120-218ec57d8ca8"
      },
      "execution_count": 7,
      "outputs": [
        {
          "output_type": "stream",
          "name": "stdout",
          "text": [
            "<class 'pandas.core.frame.DataFrame'>\n",
            "RangeIndex: 4760 entries, 0 to 4759\n",
            "Data columns (total 21 columns):\n",
            " #   Column                    Non-Null Count  Dtype  \n",
            "---  ------                    --------------  -----  \n",
            " 0   Movie_ID                  4760 non-null   int64  \n",
            " 1   Movie_Title               4760 non-null   object \n",
            " 2   Movie_Genre               4760 non-null   object \n",
            " 3   Movie_Language            4760 non-null   object \n",
            " 4   Movie_Budget              4760 non-null   int64  \n",
            " 5   Movie_Popularity          4760 non-null   float64\n",
            " 6   Movie_Release_Date        4760 non-null   object \n",
            " 7   Movie_Revenue             4760 non-null   int64  \n",
            " 8   Movie_Runtime             4758 non-null   float64\n",
            " 9   Movie_Vote                4760 non-null   float64\n",
            " 10  Movie_Vote_Count          4760 non-null   int64  \n",
            " 11  Movie_Homepage            1699 non-null   object \n",
            " 12  Movie_Keywords            4373 non-null   object \n",
            " 13  Movie_Overview            4757 non-null   object \n",
            " 14  Movie_Production_House    4760 non-null   object \n",
            " 15  Movie_Production_Country  4760 non-null   object \n",
            " 16  Movie_Spoken_Language     4760 non-null   object \n",
            " 17  Movie_Tagline             3942 non-null   object \n",
            " 18  Movie_Cast                4733 non-null   object \n",
            " 19  Movie_Crew                4760 non-null   object \n",
            " 20  Movie_Director            4738 non-null   object \n",
            "dtypes: float64(3), int64(4), object(14)\n",
            "memory usage: 781.1+ KB\n"
          ]
        }
      ]
    },
    {
      "cell_type": "code",
      "source": [
        "df.shape"
      ],
      "metadata": {
        "colab": {
          "base_uri": "https://localhost:8080/"
        },
        "id": "WM-EPEGTwlQ4",
        "outputId": "bc850d7b-c687-41f3-a869-b92030a0468c"
      },
      "execution_count": 8,
      "outputs": [
        {
          "output_type": "execute_result",
          "data": {
            "text/plain": [
              "(4760, 21)"
            ]
          },
          "metadata": {},
          "execution_count": 8
        }
      ]
    },
    {
      "cell_type": "markdown",
      "source": [
        "**Data Preprocessing**"
      ],
      "metadata": {
        "id": "H9YEqF9gKAUr"
      }
    },
    {
      "cell_type": "code",
      "source": [
        "df.columns"
      ],
      "metadata": {
        "colab": {
          "base_uri": "https://localhost:8080/"
        },
        "id": "l6w5VYYkwqcX",
        "outputId": "05cd813f-a42a-4e7c-b290-8048d2bbee11"
      },
      "execution_count": 10,
      "outputs": [
        {
          "output_type": "execute_result",
          "data": {
            "text/plain": [
              "Index(['Movie_ID', 'Movie_Title', 'Movie_Genre', 'Movie_Language',\n",
              "       'Movie_Budget', 'Movie_Popularity', 'Movie_Release_Date',\n",
              "       'Movie_Revenue', 'Movie_Runtime', 'Movie_Vote', 'Movie_Vote_Count',\n",
              "       'Movie_Homepage', 'Movie_Keywords', 'Movie_Overview',\n",
              "       'Movie_Production_House', 'Movie_Production_Country',\n",
              "       'Movie_Spoken_Language', 'Movie_Tagline', 'Movie_Cast', 'Movie_Crew',\n",
              "       'Movie_Director'],\n",
              "      dtype='object')"
            ]
          },
          "metadata": {},
          "execution_count": 10
        }
      ]
    },
    {
      "cell_type": "markdown",
      "source": [
        "**Defining Target Variables and Feature Variables**"
      ],
      "metadata": {
        "id": "uPzYd-UuJolI"
      }
    },
    {
      "cell_type": "markdown",
      "source": [
        "*Feature Selection*"
      ],
      "metadata": {
        "id": "99uA_l0oH_GI"
      }
    },
    {
      "cell_type": "code",
      "source": [
        "df_features= df[['Movie_Genre','Movie_Keywords','Movie_Tagline','Movie_Cast','Movie_Director']].fillna('')"
      ],
      "metadata": {
        "id": "YBwOoPYfwuld"
      },
      "execution_count": 11,
      "outputs": []
    },
    {
      "cell_type": "code",
      "source": [
        "df_features.shape"
      ],
      "metadata": {
        "colab": {
          "base_uri": "https://localhost:8080/"
        },
        "id": "90jY_9rgxN_L",
        "outputId": "1d7daefc-a46f-4715-ee00-da805a6cd24d"
      },
      "execution_count": 12,
      "outputs": [
        {
          "output_type": "execute_result",
          "data": {
            "text/plain": [
              "(4760, 5)"
            ]
          },
          "metadata": {},
          "execution_count": 12
        }
      ]
    },
    {
      "cell_type": "code",
      "source": [
        "df_features"
      ],
      "metadata": {
        "colab": {
          "base_uri": "https://localhost:8080/",
          "height": 580
        },
        "id": "6IUEo3pexV6O",
        "outputId": "d6967f39-c50d-43ff-cf50-125614031c1f"
      },
      "execution_count": 13,
      "outputs": [
        {
          "output_type": "execute_result",
          "data": {
            "text/plain": [
              "                           Movie_Genre  \\\n",
              "0                         Crime Comedy   \n",
              "1     Adventure Action Science Fiction   \n",
              "2                     Animation Family   \n",
              "3                 Comedy Drama Romance   \n",
              "4                                Drama   \n",
              "...                                ...   \n",
              "4755                            Horror   \n",
              "4756               Comedy Family Drama   \n",
              "4757                    Thriller Drama   \n",
              "4758                            Family   \n",
              "4759                       Documentary   \n",
              "\n",
              "                                         Movie_Keywords  \\\n",
              "0             hotel new year's eve witch bet hotel room   \n",
              "1           android galaxy hermit death star lightsaber   \n",
              "2     father son relationship harbor underwater fish...   \n",
              "3     vietnam veteran hippie mentally disabled runni...   \n",
              "4     male nudity female nudity adultery midlife cri...   \n",
              "...                                                 ...   \n",
              "4755                                                      \n",
              "4756                                                      \n",
              "4757                     christian film sex trafficking   \n",
              "4758                                                      \n",
              "4759  music actors legendary perfomer classic hollyw...   \n",
              "\n",
              "                                          Movie_Tagline  \\\n",
              "0     Twelve outrageous guests. Four scandalous requ...   \n",
              "1          A long time ago in a galaxy far, far away...   \n",
              "2     There are 3.7 trillion fish in the ocean, they...   \n",
              "3     The world will never be the same, once you've ...   \n",
              "4                                          Look closer.   \n",
              "...                                                 ...   \n",
              "4755                The hot spot where Satan's waitin'.   \n",
              "4756           It’s better to stand out than to fit in.   \n",
              "4757           She never knew it could happen to her...   \n",
              "4758                                                      \n",
              "4759                                                      \n",
              "\n",
              "                                             Movie_Cast     Movie_Director  \n",
              "0     Tim Roth Antonio Banderas Jennifer Beals Madon...     Allison Anders  \n",
              "1     Mark Hamill Harrison Ford Carrie Fisher Peter ...       George Lucas  \n",
              "2     Albert Brooks Ellen DeGeneres Alexander Gould ...     Andrew Stanton  \n",
              "3     Tom Hanks Robin Wright Gary Sinise Mykelti Wil...    Robert Zemeckis  \n",
              "4     Kevin Spacey Annette Bening Thora Birch Wes Be...         Sam Mendes  \n",
              "...                                                 ...                ...  \n",
              "4755  Lisa Hart Carroll Michael Des Barres Paul Drak...         Pece Dingo  \n",
              "4756  Roni Akurati Brighton Sharbino Jason Lee Anjul...       Frank Lotito  \n",
              "4757  Nicole Smolen Kim Baldwin Ariana Stephens Brys...       Jaco Booyens  \n",
              "4758                                                                        \n",
              "4759                                    Tony Oppedisano  Simon Napier-Bell  \n",
              "\n",
              "[4760 rows x 5 columns]"
            ],
            "text/html": [
              "\n",
              "  <div id=\"df-92b7b560-1850-4d45-a0d6-1e5fb8a41a4d\" class=\"colab-df-container\">\n",
              "    <div>\n",
              "<style scoped>\n",
              "    .dataframe tbody tr th:only-of-type {\n",
              "        vertical-align: middle;\n",
              "    }\n",
              "\n",
              "    .dataframe tbody tr th {\n",
              "        vertical-align: top;\n",
              "    }\n",
              "\n",
              "    .dataframe thead th {\n",
              "        text-align: right;\n",
              "    }\n",
              "</style>\n",
              "<table border=\"1\" class=\"dataframe\">\n",
              "  <thead>\n",
              "    <tr style=\"text-align: right;\">\n",
              "      <th></th>\n",
              "      <th>Movie_Genre</th>\n",
              "      <th>Movie_Keywords</th>\n",
              "      <th>Movie_Tagline</th>\n",
              "      <th>Movie_Cast</th>\n",
              "      <th>Movie_Director</th>\n",
              "    </tr>\n",
              "  </thead>\n",
              "  <tbody>\n",
              "    <tr>\n",
              "      <th>0</th>\n",
              "      <td>Crime Comedy</td>\n",
              "      <td>hotel new year's eve witch bet hotel room</td>\n",
              "      <td>Twelve outrageous guests. Four scandalous requ...</td>\n",
              "      <td>Tim Roth Antonio Banderas Jennifer Beals Madon...</td>\n",
              "      <td>Allison Anders</td>\n",
              "    </tr>\n",
              "    <tr>\n",
              "      <th>1</th>\n",
              "      <td>Adventure Action Science Fiction</td>\n",
              "      <td>android galaxy hermit death star lightsaber</td>\n",
              "      <td>A long time ago in a galaxy far, far away...</td>\n",
              "      <td>Mark Hamill Harrison Ford Carrie Fisher Peter ...</td>\n",
              "      <td>George Lucas</td>\n",
              "    </tr>\n",
              "    <tr>\n",
              "      <th>2</th>\n",
              "      <td>Animation Family</td>\n",
              "      <td>father son relationship harbor underwater fish...</td>\n",
              "      <td>There are 3.7 trillion fish in the ocean, they...</td>\n",
              "      <td>Albert Brooks Ellen DeGeneres Alexander Gould ...</td>\n",
              "      <td>Andrew Stanton</td>\n",
              "    </tr>\n",
              "    <tr>\n",
              "      <th>3</th>\n",
              "      <td>Comedy Drama Romance</td>\n",
              "      <td>vietnam veteran hippie mentally disabled runni...</td>\n",
              "      <td>The world will never be the same, once you've ...</td>\n",
              "      <td>Tom Hanks Robin Wright Gary Sinise Mykelti Wil...</td>\n",
              "      <td>Robert Zemeckis</td>\n",
              "    </tr>\n",
              "    <tr>\n",
              "      <th>4</th>\n",
              "      <td>Drama</td>\n",
              "      <td>male nudity female nudity adultery midlife cri...</td>\n",
              "      <td>Look closer.</td>\n",
              "      <td>Kevin Spacey Annette Bening Thora Birch Wes Be...</td>\n",
              "      <td>Sam Mendes</td>\n",
              "    </tr>\n",
              "    <tr>\n",
              "      <th>...</th>\n",
              "      <td>...</td>\n",
              "      <td>...</td>\n",
              "      <td>...</td>\n",
              "      <td>...</td>\n",
              "      <td>...</td>\n",
              "    </tr>\n",
              "    <tr>\n",
              "      <th>4755</th>\n",
              "      <td>Horror</td>\n",
              "      <td></td>\n",
              "      <td>The hot spot where Satan's waitin'.</td>\n",
              "      <td>Lisa Hart Carroll Michael Des Barres Paul Drak...</td>\n",
              "      <td>Pece Dingo</td>\n",
              "    </tr>\n",
              "    <tr>\n",
              "      <th>4756</th>\n",
              "      <td>Comedy Family Drama</td>\n",
              "      <td></td>\n",
              "      <td>It’s better to stand out than to fit in.</td>\n",
              "      <td>Roni Akurati Brighton Sharbino Jason Lee Anjul...</td>\n",
              "      <td>Frank Lotito</td>\n",
              "    </tr>\n",
              "    <tr>\n",
              "      <th>4757</th>\n",
              "      <td>Thriller Drama</td>\n",
              "      <td>christian film sex trafficking</td>\n",
              "      <td>She never knew it could happen to her...</td>\n",
              "      <td>Nicole Smolen Kim Baldwin Ariana Stephens Brys...</td>\n",
              "      <td>Jaco Booyens</td>\n",
              "    </tr>\n",
              "    <tr>\n",
              "      <th>4758</th>\n",
              "      <td>Family</td>\n",
              "      <td></td>\n",
              "      <td></td>\n",
              "      <td></td>\n",
              "      <td></td>\n",
              "    </tr>\n",
              "    <tr>\n",
              "      <th>4759</th>\n",
              "      <td>Documentary</td>\n",
              "      <td>music actors legendary perfomer classic hollyw...</td>\n",
              "      <td></td>\n",
              "      <td>Tony Oppedisano</td>\n",
              "      <td>Simon Napier-Bell</td>\n",
              "    </tr>\n",
              "  </tbody>\n",
              "</table>\n",
              "<p>4760 rows × 5 columns</p>\n",
              "</div>\n",
              "    <div class=\"colab-df-buttons\">\n",
              "\n",
              "  <div class=\"colab-df-container\">\n",
              "    <button class=\"colab-df-convert\" onclick=\"convertToInteractive('df-92b7b560-1850-4d45-a0d6-1e5fb8a41a4d')\"\n",
              "            title=\"Convert this dataframe to an interactive table.\"\n",
              "            style=\"display:none;\">\n",
              "\n",
              "  <svg xmlns=\"http://www.w3.org/2000/svg\" height=\"24px\" viewBox=\"0 -960 960 960\">\n",
              "    <path d=\"M120-120v-720h720v720H120Zm60-500h600v-160H180v160Zm220 220h160v-160H400v160Zm0 220h160v-160H400v160ZM180-400h160v-160H180v160Zm440 0h160v-160H620v160ZM180-180h160v-160H180v160Zm440 0h160v-160H620v160Z\"/>\n",
              "  </svg>\n",
              "    </button>\n",
              "\n",
              "  <style>\n",
              "    .colab-df-container {\n",
              "      display:flex;\n",
              "      gap: 12px;\n",
              "    }\n",
              "\n",
              "    .colab-df-convert {\n",
              "      background-color: #E8F0FE;\n",
              "      border: none;\n",
              "      border-radius: 50%;\n",
              "      cursor: pointer;\n",
              "      display: none;\n",
              "      fill: #1967D2;\n",
              "      height: 32px;\n",
              "      padding: 0 0 0 0;\n",
              "      width: 32px;\n",
              "    }\n",
              "\n",
              "    .colab-df-convert:hover {\n",
              "      background-color: #E2EBFA;\n",
              "      box-shadow: 0px 1px 2px rgba(60, 64, 67, 0.3), 0px 1px 3px 1px rgba(60, 64, 67, 0.15);\n",
              "      fill: #174EA6;\n",
              "    }\n",
              "\n",
              "    .colab-df-buttons div {\n",
              "      margin-bottom: 4px;\n",
              "    }\n",
              "\n",
              "    [theme=dark] .colab-df-convert {\n",
              "      background-color: #3B4455;\n",
              "      fill: #D2E3FC;\n",
              "    }\n",
              "\n",
              "    [theme=dark] .colab-df-convert:hover {\n",
              "      background-color: #434B5C;\n",
              "      box-shadow: 0px 1px 3px 1px rgba(0, 0, 0, 0.15);\n",
              "      filter: drop-shadow(0px 1px 2px rgba(0, 0, 0, 0.3));\n",
              "      fill: #FFFFFF;\n",
              "    }\n",
              "  </style>\n",
              "\n",
              "    <script>\n",
              "      const buttonEl =\n",
              "        document.querySelector('#df-92b7b560-1850-4d45-a0d6-1e5fb8a41a4d button.colab-df-convert');\n",
              "      buttonEl.style.display =\n",
              "        google.colab.kernel.accessAllowed ? 'block' : 'none';\n",
              "\n",
              "      async function convertToInteractive(key) {\n",
              "        const element = document.querySelector('#df-92b7b560-1850-4d45-a0d6-1e5fb8a41a4d');\n",
              "        const dataTable =\n",
              "          await google.colab.kernel.invokeFunction('convertToInteractive',\n",
              "                                                    [key], {});\n",
              "        if (!dataTable) return;\n",
              "\n",
              "        const docLinkHtml = 'Like what you see? Visit the ' +\n",
              "          '<a target=\"_blank\" href=https://colab.research.google.com/notebooks/data_table.ipynb>data table notebook</a>'\n",
              "          + ' to learn more about interactive tables.';\n",
              "        element.innerHTML = '';\n",
              "        dataTable['output_type'] = 'display_data';\n",
              "        await google.colab.output.renderOutput(dataTable, element);\n",
              "        const docLink = document.createElement('div');\n",
              "        docLink.innerHTML = docLinkHtml;\n",
              "        element.appendChild(docLink);\n",
              "      }\n",
              "    </script>\n",
              "  </div>\n",
              "\n",
              "\n",
              "<div id=\"df-9f21e555-4af9-4dc7-a8bd-c9934022c420\">\n",
              "  <button class=\"colab-df-quickchart\" onclick=\"quickchart('df-9f21e555-4af9-4dc7-a8bd-c9934022c420')\"\n",
              "            title=\"Suggest charts.\"\n",
              "            style=\"display:none;\">\n",
              "\n",
              "<svg xmlns=\"http://www.w3.org/2000/svg\" height=\"24px\"viewBox=\"0 0 24 24\"\n",
              "     width=\"24px\">\n",
              "    <g>\n",
              "        <path d=\"M19 3H5c-1.1 0-2 .9-2 2v14c0 1.1.9 2 2 2h14c1.1 0 2-.9 2-2V5c0-1.1-.9-2-2-2zM9 17H7v-7h2v7zm4 0h-2V7h2v10zm4 0h-2v-4h2v4z\"/>\n",
              "    </g>\n",
              "</svg>\n",
              "  </button>\n",
              "\n",
              "<style>\n",
              "  .colab-df-quickchart {\n",
              "    background-color: #E8F0FE;\n",
              "    border: none;\n",
              "    border-radius: 50%;\n",
              "    cursor: pointer;\n",
              "    display: none;\n",
              "    fill: #1967D2;\n",
              "    height: 32px;\n",
              "    padding: 0 0 0 0;\n",
              "    width: 32px;\n",
              "  }\n",
              "\n",
              "  .colab-df-quickchart:hover {\n",
              "    background-color: #E2EBFA;\n",
              "    box-shadow: 0px 1px 2px rgba(60, 64, 67, 0.3), 0px 1px 3px 1px rgba(60, 64, 67, 0.15);\n",
              "    fill: #174EA6;\n",
              "  }\n",
              "\n",
              "  [theme=dark] .colab-df-quickchart {\n",
              "    background-color: #3B4455;\n",
              "    fill: #D2E3FC;\n",
              "  }\n",
              "\n",
              "  [theme=dark] .colab-df-quickchart:hover {\n",
              "    background-color: #434B5C;\n",
              "    box-shadow: 0px 1px 3px 1px rgba(0, 0, 0, 0.15);\n",
              "    filter: drop-shadow(0px 1px 2px rgba(0, 0, 0, 0.3));\n",
              "    fill: #FFFFFF;\n",
              "  }\n",
              "</style>\n",
              "\n",
              "  <script>\n",
              "    async function quickchart(key) {\n",
              "      const charts = await google.colab.kernel.invokeFunction(\n",
              "          'suggestCharts', [key], {});\n",
              "    }\n",
              "    (() => {\n",
              "      let quickchartButtonEl =\n",
              "        document.querySelector('#df-9f21e555-4af9-4dc7-a8bd-c9934022c420 button');\n",
              "      quickchartButtonEl.style.display =\n",
              "        google.colab.kernel.accessAllowed ? 'block' : 'none';\n",
              "    })();\n",
              "  </script>\n",
              "</div>\n",
              "    </div>\n",
              "  </div>\n"
            ]
          },
          "metadata": {},
          "execution_count": 13
        }
      ]
    },
    {
      "cell_type": "markdown",
      "source": [
        "**Train Test Split**"
      ],
      "metadata": {
        "id": "_P5XknCXKJaZ"
      }
    },
    {
      "cell_type": "code",
      "source": [
        "x=df_features['Movie_Genre']+''+df_features['Movie_Keywords']+''+df_features['Movie_Tagline']+''+df_features['Movie_Cast']+''+df_features['Movie_Director']"
      ],
      "metadata": {
        "id": "u2qXyqwSxhSI"
      },
      "execution_count": 14,
      "outputs": []
    },
    {
      "cell_type": "code",
      "source": [
        "x.shape"
      ],
      "metadata": {
        "colab": {
          "base_uri": "https://localhost:8080/"
        },
        "id": "scOXAgfdyLFs",
        "outputId": "72433772-7b75-4b58-c208-472e04cfea7f"
      },
      "execution_count": 15,
      "outputs": [
        {
          "output_type": "execute_result",
          "data": {
            "text/plain": [
              "(4760,)"
            ]
          },
          "metadata": {},
          "execution_count": 15
        }
      ]
    },
    {
      "cell_type": "markdown",
      "source": [
        "**Modeling**"
      ],
      "metadata": {
        "id": "RhXJIjZxKTLv"
      }
    },
    {
      "cell_type": "markdown",
      "source": [
        "*Feature Text Conversion to tokens*"
      ],
      "metadata": {
        "id": "OosGbU0SIHO6"
      }
    },
    {
      "cell_type": "code",
      "source": [
        "from sklearn.feature_extraction.text import TfidfVectorizer"
      ],
      "metadata": {
        "id": "kiZfTDkNyTkD"
      },
      "execution_count": 16,
      "outputs": []
    },
    {
      "cell_type": "code",
      "source": [
        "tfidf= TfidfVectorizer()"
      ],
      "metadata": {
        "id": "i065TqvMyiUR"
      },
      "execution_count": 17,
      "outputs": []
    },
    {
      "cell_type": "code",
      "source": [
        "x=tfidf.fit_transform(x)"
      ],
      "metadata": {
        "id": "TXw75LZHypkE"
      },
      "execution_count": 18,
      "outputs": []
    },
    {
      "cell_type": "code",
      "source": [
        "x.shape"
      ],
      "metadata": {
        "colab": {
          "base_uri": "https://localhost:8080/"
        },
        "id": "iGR-h9Foy27X",
        "outputId": "282e92e2-c50c-4334-8cf7-9e9ac920cc5d"
      },
      "execution_count": 19,
      "outputs": [
        {
          "output_type": "execute_result",
          "data": {
            "text/plain": [
              "(4760, 27466)"
            ]
          },
          "metadata": {},
          "execution_count": 19
        }
      ]
    },
    {
      "cell_type": "code",
      "source": [
        "print(x)"
      ],
      "metadata": {
        "colab": {
          "base_uri": "https://localhost:8080/"
        },
        "id": "k2OAZIfay7CK",
        "outputId": "70cab239-f0fb-4e8c-cca1-8a916ec5664e"
      },
      "execution_count": 20,
      "outputs": [
        {
          "output_type": "stream",
          "name": "stdout",
          "text": [
            "  (0, 1028)\t0.16196019146631543\n",
            "  (0, 24785)\t0.1954632929283795\n",
            "  (0, 15844)\t0.14205053053187272\n",
            "  (0, 15553)\t0.17099186675469502\n",
            "  (0, 2132)\t0.18002354204307464\n",
            "  (0, 13312)\t0.09914387783149516\n",
            "  (0, 1887)\t0.14106037409792174\n",
            "  (0, 1216)\t0.13920306109638164\n",
            "  (0, 21158)\t0.14205053053187272\n",
            "  (0, 24701)\t0.11357423942624927\n",
            "  (0, 14943)\t0.091376722056839\n",
            "  (0, 18098)\t0.06200430666985742\n",
            "  (0, 26738)\t0.175053052455033\n",
            "  (0, 9790)\t0.08712552095655665\n",
            "  (0, 26675)\t0.1116831168780693\n",
            "  (0, 13401)\t0.13748876529263096\n",
            "  (0, 24105)\t0.10726395493180996\n",
            "  (0, 18192)\t0.07278761942152372\n",
            "  (0, 6172)\t0.11970212451073885\n",
            "  (0, 9626)\t0.11757910435818826\n",
            "  (0, 11960)\t0.20134029899961134\n",
            "  (0, 12801)\t0.1530338818199682\n",
            "  (0, 2292)\t0.1954632929283795\n",
            "  (0, 15172)\t0.1537691763994982\n",
            "  (0, 18196)\t0.08579029869987485\n",
            "  :\t:\n",
            "  (4757, 1839)\t0.19327629083107672\n",
            "  (4757, 5410)\t0.19734759150400596\n",
            "  (4757, 11350)\t0.21582294886514122\n",
            "  (4757, 22017)\t0.1646400247918531\n",
            "  (4757, 17789)\t0.18881341937258544\n",
            "  (4757, 9484)\t0.1411164779725638\n",
            "  (4757, 14176)\t0.2330831990045816\n",
            "  (4757, 11762)\t0.17321388936472645\n",
            "  (4757, 14052)\t0.1776312353410007\n",
            "  (4757, 24232)\t0.10947784435203887\n",
            "  (4757, 24746)\t0.09744940789814222\n",
            "  (4757, 13079)\t0.12400374714145113\n",
            "  (4757, 17721)\t0.1489085353667712\n",
            "  (4758, 8651)\t1.0\n",
            "  (4759, 18229)\t0.33527342183765224\n",
            "  (4759, 22434)\t0.33527342183765224\n",
            "  (4759, 18841)\t0.33527342183765224\n",
            "  (4759, 6950)\t0.33527342183765224\n",
            "  (4759, 345)\t0.31978160936741457\n",
            "  (4759, 14742)\t0.31978160936741457\n",
            "  (4759, 12139)\t0.2778063685558062\n",
            "  (4759, 4446)\t0.282306565154911\n",
            "  (4759, 17552)\t0.3087899934962816\n",
            "  (4759, 9955)\t0.21805075638656476\n",
            "  (4759, 2285)\t0.21465229435984196\n"
          ]
        }
      ]
    },
    {
      "cell_type": "markdown",
      "source": [
        "**Model Evaluation**"
      ],
      "metadata": {
        "id": "FlG6Y9TsKZHL"
      }
    },
    {
      "cell_type": "markdown",
      "source": [
        "*Similarity Score using Cosine Similarity*"
      ],
      "metadata": {
        "id": "BmjsNiOJIPfM"
      }
    },
    {
      "cell_type": "code",
      "source": [
        "from sklearn.metrics.pairwise import cosine_similarity"
      ],
      "metadata": {
        "id": "uiJKYFNTzAjZ"
      },
      "execution_count": 21,
      "outputs": []
    },
    {
      "cell_type": "code",
      "source": [
        "Similarity_Score= cosine_similarity(x)"
      ],
      "metadata": {
        "id": "1jdSHvnczMxF"
      },
      "execution_count": 22,
      "outputs": []
    },
    {
      "cell_type": "code",
      "source": [
        "Similarity_Score"
      ],
      "metadata": {
        "colab": {
          "base_uri": "https://localhost:8080/"
        },
        "id": "J4WLDJbG0MUz",
        "outputId": "97997173-01e0-4eb2-c0e0-f5d0af073ee5"
      },
      "execution_count": 23,
      "outputs": [
        {
          "output_type": "execute_result",
          "data": {
            "text/plain": [
              "array([[1.        , 0.01438634, 0.03807033, ..., 0.        , 0.        ,\n",
              "        0.        ],\n",
              "       [0.01438634, 1.        , 0.00844858, ..., 0.        , 0.        ,\n",
              "        0.        ],\n",
              "       [0.03807033, 0.00844858, 1.        , ..., 0.        , 0.        ,\n",
              "        0.        ],\n",
              "       ...,\n",
              "       [0.        , 0.        , 0.        , ..., 1.        , 0.        ,\n",
              "        0.        ],\n",
              "       [0.        , 0.        , 0.        , ..., 0.        , 1.        ,\n",
              "        0.        ],\n",
              "       [0.        , 0.        , 0.        , ..., 0.        , 0.        ,\n",
              "        1.        ]])"
            ]
          },
          "metadata": {},
          "execution_count": 23
        }
      ]
    },
    {
      "cell_type": "code",
      "source": [
        "Similarity_Score.shape"
      ],
      "metadata": {
        "colab": {
          "base_uri": "https://localhost:8080/"
        },
        "id": "FxQ9sUJd0UEx",
        "outputId": "a678358a-9595-4967-c29e-c1e5da938cb1"
      },
      "execution_count": 24,
      "outputs": [
        {
          "output_type": "execute_result",
          "data": {
            "text/plain": [
              "(4760, 4760)"
            ]
          },
          "metadata": {},
          "execution_count": 24
        }
      ]
    },
    {
      "cell_type": "markdown",
      "source": [
        "**Get Movie name as input from user and validate for closest spelling**"
      ],
      "metadata": {
        "id": "h75PLlUlIXca"
      }
    },
    {
      "cell_type": "code",
      "source": [
        "Favourite_Movie_Name= input('Enter your favourite name:')"
      ],
      "metadata": {
        "colab": {
          "base_uri": "https://localhost:8080/"
        },
        "id": "qVd9m_is0bj7",
        "outputId": "ef8e8a49-e604-4a80-9c86-d18678883b45"
      },
      "execution_count": 25,
      "outputs": [
        {
          "name": "stdout",
          "output_type": "stream",
          "text": [
            "Enter your favourite name:Finding Nemo\n"
          ]
        }
      ]
    },
    {
      "cell_type": "code",
      "source": [
        "All_Movies_Title_List=df['Movie_Title'].tolist()"
      ],
      "metadata": {
        "id": "jSih9y6M0u-L"
      },
      "execution_count": 26,
      "outputs": []
    },
    {
      "cell_type": "code",
      "source": [
        "import difflib"
      ],
      "metadata": {
        "id": "71Ho02qT05-7"
      },
      "execution_count": 27,
      "outputs": []
    },
    {
      "cell_type": "code",
      "source": [
        "Movie_Recommendation= difflib.get_close_matches(Favourite_Movie_Name, All_Movies_Title_List)\n",
        "print(Movie_Recommendation)"
      ],
      "metadata": {
        "colab": {
          "base_uri": "https://localhost:8080/"
        },
        "id": "WTfRBGkE1F6M",
        "outputId": "d6f7fdb2-e51a-46ad-870f-f511cfe90164"
      },
      "execution_count": 29,
      "outputs": [
        {
          "output_type": "stream",
          "name": "stdout",
          "text": [
            "['Finding Nemo', 'Finding Neverland', 'Finding Forrester']\n"
          ]
        }
      ]
    },
    {
      "cell_type": "code",
      "source": [
        "Close_Match= Movie_Recommendation[0]\n",
        "print(Close_Match)"
      ],
      "metadata": {
        "colab": {
          "base_uri": "https://localhost:8080/"
        },
        "id": "JZeA2ml_1a94",
        "outputId": "8b079403-ce17-46d4-9109-b7f81ebe3a16"
      },
      "execution_count": 31,
      "outputs": [
        {
          "output_type": "stream",
          "name": "stdout",
          "text": [
            "Finding Nemo\n"
          ]
        }
      ]
    },
    {
      "cell_type": "code",
      "source": [
        "Index_of_Close_Match_Movie= df[df.Movie_Title==Close_Match]['Movie_ID'].values[0]\n",
        "print(Index_of_Close_Match_Movie)"
      ],
      "metadata": {
        "colab": {
          "base_uri": "https://localhost:8080/"
        },
        "id": "tEWByEvv1lFs",
        "outputId": "22be583b-8673-4814-b97d-394562de4f71"
      },
      "execution_count": 32,
      "outputs": [
        {
          "output_type": "stream",
          "name": "stdout",
          "text": [
            "3\n"
          ]
        }
      ]
    },
    {
      "cell_type": "code",
      "source": [
        "Recommendation_Score=list(enumerate(Similarity_Score[Index_of_Close_Match_Movie]))\n",
        "print(Recommendation_Score)"
      ],
      "metadata": {
        "colab": {
          "base_uri": "https://localhost:8080/"
        },
        "id": "rG3Ly7PY2CZs",
        "outputId": "7effb29c-e622-4977-bb31-4bd507e8d54f"
      },
      "execution_count": 34,
      "outputs": [
        {
          "output_type": "stream",
          "name": "stdout",
          "text": [
            "[(0, 0.024150160564458793), (1, 0.0), (2, 0.0079027889418109), (3, 0.9999999999999999), (4, 0.0), (5, 0.04051011558857279), (6, 0.03655506067868037), (7, 0.04401355186903804), (8, 0.003995620480882153), (9, 0.02785751637228682), (10, 0.009880693330026597), (11, 0.013346081439841933), (12, 0.06347404367689402), (13, 0.06591633438564269), (14, 0.01247909701075425), (15, 0.008917355821629926), (16, 0.003176992157684076), (17, 0.0), (18, 0.011994139660156587), (19, 0.03149108066566344), (20, 0.0), (21, 0.004127994233457802), (22, 0.010325204141815085), (23, 0.0038035054942667347), (24, 0.0), (25, 0.047531844437851155), (26, 0.0), (27, 0.014695352395534178), (28, 0.0387245775148911), (29, 0.018398150820455768), (30, 0.0), (31, 0.01430389004499844), (32, 0.021006305890088124), (33, 0.019795750471023492), (34, 0.061093096355183625), (35, 0.043360808002035414), (36, 0.023253388583169485), (37, 0.028440186579582048), (38, 0.01424176887657162), (39, 0.060626815280805775), (40, 0.011787812609745273), (41, 0.017812344857164937), (42, 0.004342766076895111), (43, 0.03594366742389659), (44, 0.01625705302332073), (45, 0.047461232322936586), (46, 0.021430050522395216), (47, 0.0), (48, 0.018374963372824602), (49, 0.02489214651791115), (50, 0.03773945118492864), (51, 0.0037949570535723487), (52, 0.012316559572733591), (53, 0.024924501874269672), (54, 0.0), (55, 0.022503036411585218), (56, 0.03820299003914459), (57, 0.04402369321035433), (58, 0.0), (59, 0.0), (60, 0.016471655859573085), (61, 0.019519523849382527), (62, 0.017687450631521606), (63, 0.022336231266461393), (64, 0.019440673126808295), (65, 0.0), (66, 0.014820675762049814), (67, 0.036031306845549435), (68, 0.0038851389174378156), (69, 0.0), (70, 0.009804930575826858), (71, 0.0037247917981546516), (72, 0.00892795566872032), (73, 0.03855047770292593), (74, 0.04708196610026068), (75, 0.048473622890167635), (76, 0.025856189992126584), (77, 0.0), (78, 0.023909039238218376), (79, 0.009605587673261131), (80, 0.0), (81, 0.02221507165609634), (82, 0.04531222645439212), (83, 0.006222424074508177), (84, 0.03378877829604042), (85, 0.0094577524131907), (86, 0.02419113919102122), (87, 0.0037121019340842667), (88, 0.05234549876365933), (89, 0.0), (90, 0.008454114702611518), (91, 0.06680197181760636), (92, 0.0034075882564770592), (93, 0.0), (94, 0.0), (95, 0.0), (96, 0.03172566537733709), (97, 0.05484083905332916), (98, 0.021696420381910216), (99, 0.03861124603560177), (100, 0.029485311735703616), (101, 0.023491155638879182), (102, 0.024020736153319327), (103, 0.007293408410261305), (104, 0.03155896310418174), (105, 0.023216799931634995), (106, 0.023591265904483343), (107, 0.0313512170836914), (108, 0.06591437348953423), (109, 0.018824625525565852), (110, 0.004419657439707132), (111, 0.016946043930678268), (112, 0.020814027941859103), (113, 0.015245962965070659), (114, 0.007872715645466294), (115, 0.027876460001898005), (116, 0.01566660822861769), (117, 0.021919825582716216), (118, 0.0), (119, 0.03082825657190403), (120, 0.003921468593996474), (121, 0.011314415254000376), (122, 0.02525044248920584), (123, 0.03288140230401829), (124, 0.039142748913949914), (125, 0.007405145340248267), (126, 0.021664885292108478), (127, 0.051326695151486516), (128, 0.0), (129, 0.025495909910495433), (130, 0.047418678287520985), (131, 0.02911457144362663), (132, 0.0034659372083048947), (133, 0.0), (134, 0.00456209567427109), (135, 0.03471775425586898), (136, 0.003351286289366122), (137, 0.015692436775997017), (138, 0.03024576342901031), (139, 0.0048113639614901895), (140, 0.0), (141, 0.0), (142, 0.008251239036255263), (143, 0.0), (144, 0.02693613825440077), (145, 0.022114641231722416), (146, 0.004694803941588769), (147, 0.008738917605703262), (148, 0.015901952011918942), (149, 0.01932374427963685), (150, 0.009087415238422434), (151, 0.0), (152, 0.02024210078120733), (153, 0.005160628243004281), (154, 0.03448797743765817), (155, 0.004597625909275689), (156, 0.018411158836803367), (157, 0.004208324153721554), (158, 0.013242188234442814), (159, 0.012384898493606276), (160, 0.0218091944224851), (161, 0.029960250908133423), (162, 0.019775232073891237), (163, 0.0), (164, 0.13884925477300814), (165, 0.03844854878504637), (166, 0.01998052447139662), (167, 0.007964495925217523), (168, 0.01228532154348003), (169, 0.030814847210117582), (170, 0.00857205135859319), (171, 0.021695834896357485), (172, 0.022157006343554497), (173, 0.010039059257430647), (174, 0.014517736690483419), (175, 0.008999199219627867), (176, 0.0), (177, 0.013035140421792846), (178, 0.017424851066161044), (179, 0.04235499336949837), (180, 0.0), (181, 0.0), (182, 0.029137207504523765), (183, 0.008936542079686367), (184, 0.03536518854104215), (185, 0.009825400339501201), (186, 0.017679780669362252), (187, 0.0), (188, 0.00427072758605033), (189, 0.06019638373135447), (190, 0.010492491850027907), (191, 0.02871770374981247), (192, 0.03307570785841021), (193, 0.009968797153845549), (194, 0.0032092828434542005), (195, 0.04506065509522187), (196, 0.018514258596636458), (197, 0.09353194871514992), (198, 0.03401217322293009), (199, 0.00888569968398859), (200, 0.028562912500337823), (201, 0.034889552105150705), (202, 0.03529917286436192), (203, 0.03695954824125834), (204, 0.028298558970014084), (205, 0.012008843300805334), (206, 0.16333626014532604), (207, 0.0), (208, 0.010896171000191003), (209, 0.0064237230823369846), (210, 0.003975407763808868), (211, 0.00873117538593578), (212, 0.057844666934223785), (213, 0.00884142469121774), (214, 0.0211205245433329), (215, 0.027403479836220587), (216, 0.013275488432429573), (217, 0.028158545428616667), (218, 0.023032381650861647), (219, 0.013260285743783158), (220, 0.022940411107098366), (221, 0.021124113773936748), (222, 0.030271573340391548), (223, 0.008926969077429603), (224, 0.0028699637112835088), (225, 0.015714467970580532), (226, 0.0), (227, 0.0038942854129699702), (228, 0.06192017297888121), (229, 0.0), (230, 0.00591783096371538), (231, 0.012612419358631138), (232, 0.006467270380185898), (233, 0.022291516693192667), (234, 0.0), (235, 0.11492572005515189), (236, 0.0034290452700590428), (237, 0.024295453614071014), (238, 0.008115054939596068), (239, 0.03227814712601004), (240, 0.048621206772140955), (241, 0.032671532023076176), (242, 0.04075039311338374), (243, 0.020012362737729168), (244, 0.02136385385506068), (245, 0.004571601378281945), (246, 0.008936974131296434), (247, 0.0), (248, 0.03929270193643613), (249, 0.016098650969787163), (250, 0.0811752937301117), (251, 0.06445793543006599), (252, 0.014832996578693221), (253, 0.05163210532737145), (254, 0.02446582984927018), (255, 0.012687685484160945), (256, 0.032703646198227604), (257, 0.0), (258, 0.0394086755720718), (259, 0.04466854805180938), (260, 0.021896093511209292), (261, 0.02167569809167237), (262, 0.009018255857321687), (263, 0.04868499811939295), (264, 0.039931005512413555), (265, 0.0), (266, 0.03169365070866202), (267, 0.003262362018594939), (268, 0.0), (269, 0.06023139485236416), (270, 0.013134288614721544), (271, 0.05132278140209906), (272, 0.053444600328077345), (273, 0.006044036483574161), (274, 0.029298862853352425), (275, 0.01580815616564576), (276, 0.0034741250079124235), (277, 0.040557113228278305), (278, 0.003914087686303846), (279, 0.012506389285242583), (280, 0.052930528927123154), (281, 0.0), (282, 0.032066846639957965), (283, 0.006978696853065285), (284, 0.00855760611986721), (285, 0.01041162674784617), (286, 0.0033077135996574885), (287, 0.023536298065129108), (288, 0.023888269332088014), (289, 0.0), (290, 0.0), (291, 0.01907195247290406), (292, 0.0059256776121365835), (293, 0.018890243582679364), (294, 0.007259684882603711), (295, 0.0), (296, 0.012482511297133287), (297, 0.03451100290459873), (298, 0.009622960930980782), (299, 0.031191668261092015), (300, 0.005840812246057959), (301, 0.03064362437006858), (302, 0.02218833095633029), (303, 0.01243929647985197), (304, 0.01755346981822197), (305, 0.0), (306, 0.008458921093714628), (307, 0.08521779624603054), (308, 0.0), (309, 0.015426619706454703), (310, 0.039882425411982975), (311, 0.004059891435453989), (312, 0.004498167802847618), (313, 0.0062418258620932894), (314, 0.0), (315, 0.0), (316, 0.0), (317, 0.010894855022298826), (318, 0.008670224763525726), (319, 0.011126891645874654), (320, 0.0), (321, 0.0060385183531467225), (322, 0.02005661302142405), (323, 0.0), (324, 0.02882998739133147), (325, 0.007636488201194064), (326, 0.004422915642540272), (327, 0.013928689535141687), (328, 0.05954302422253549), (329, 0.011763220770297239), (330, 0.05081275616895879), (331, 0.02915206940744979), (332, 0.030996784234860207), (333, 0.0), (334, 0.02787462662360681), (335, 0.008944570955776334), (336, 0.04902930488959001), (337, 0.0), (338, 0.012503215653784594), (339, 0.008276868223610293), (340, 0.022367015632082547), (341, 0.04024345157488575), (342, 0.044011536589778535), (343, 0.015464693990843947), (344, 0.018720581718295444), (345, 0.028336707465309537), (346, 0.027765766836006147), (347, 0.009167273942829304), (348, 0.03808246849192315), (349, 0.03710043749561645), (350, 0.00877008477516034), (351, 0.050904536059486416), (352, 0.02166080222733997), (353, 0.02414720800133169), (354, 0.03645439731853228), (355, 0.0034227678073984933), (356, 0.033722225672644025), (357, 0.05372144230000031), (358, 0.015397386814616915), (359, 0.0034156145386691926), (360, 0.0), (361, 0.045137407362137325), (362, 0.004671364831350858), (363, 0.011131612984953597), (364, 0.010826707867077387), (365, 0.02972886672534454), (366, 0.0), (367, 0.01732577315284485), (368, 0.030492244020242327), (369, 0.020623687478892237), (370, 0.003622256462274125), (371, 0.02730422491235889), (372, 0.06424079383084942), (373, 0.019584588216249976), (374, 0.028043065022919228), (375, 0.009542789539469463), (376, 0.02018869555814127), (377, 0.013786958053130967), (378, 0.0), (379, 0.011653103368207653), (380, 0.01025437720729841), (381, 0.007451153178346811), (382, 0.012004648173826732), (383, 0.004030933915311214), (384, 0.029657396185013146), (385, 0.004805678740842029), (386, 0.0225304095444835), (387, 0.10900375839126136), (388, 0.105103684554049), (389, 0.022586382381550557), (390, 0.010922914667017197), (391, 0.0390025606001666), (392, 0.04964670449388547), (393, 0.0), (394, 0.0), (395, 0.02334765246990847), (396, 0.05104633991535739), (397, 0.021872589168845973), (398, 0.004384672755468577), (399, 0.021468913271764815), (400, 0.0035977821904373316), (401, 0.027955371729110227), (402, 0.00728850336286314), (403, 0.0864651542929095), (404, 0.004320382498791883), (405, 0.004555048210986479), (406, 0.009897416987486255), (407, 0.0452466061288922), (408, 0.020966965244229384), (409, 0.023728816333463527), (410, 0.023358760188901772), (411, 0.020550704495930085), (412, 0.042735469740671966), (413, 0.015338075576431087), (414, 0.01713781029049077), (415, 0.004560988554994615), (416, 0.007286101475639162), (417, 0.011752452844656504), (418, 0.04299217502764077), (419, 0.01931921664908375), (420, 0.0), (421, 0.003498161366103623), (422, 0.01772729044678333), (423, 0.0), (424, 0.026676339742727054), (425, 0.02671311875398714), (426, 0.013213115502564312), (427, 0.027601770098811707), (428, 0.03767524869810536), (429, 0.0038331046872141818), (430, 0.0037831249480667077), (431, 0.0041720289920094845), (432, 0.018446300274961355), (433, 0.04198848823162653), (434, 0.015606907717509997), (435, 0.0), (436, 0.004283748534734666), (437, 0.015853393163175435), (438, 0.01733152238848918), (439, 0.009072244594609764), (440, 0.02776964255403242), (441, 0.023837096000815815), (442, 0.003094303658095996), (443, 0.014558643021737823), (444, 0.013535168780288825), (445, 0.026106780590299347), (446, 0.006093684203114978), (447, 0.00938939177810724), (448, 0.015113793622695732), (449, 0.016608992072693826), (450, 0.003897901694577853), (451, 0.013932170399937226), (452, 0.1113712478803419), (453, 0.002978698502497892), (454, 0.021800053892231788), (455, 0.018242926903737293), (456, 0.0267317085174082), (457, 0.036696067029026405), (458, 0.004138024936257567), (459, 0.0), (460, 0.03086787098814241), (461, 0.004969472828360889), (462, 0.0), (463, 0.016423101165968554), (464, 0.06435155200294622), (465, 0.014667992004109075), (466, 0.0), (467, 0.033669777246998024), (468, 0.03753245182803676), (469, 0.01711946624417289), (470, 0.03369774262302772), (471, 0.0034796056495281875), (472, 0.020021830274745613), (473, 0.004271912597108111), (474, 0.004564679949500205), (475, 0.0035296544531863818), (476, 0.0), (477, 0.012508670429124982), (478, 0.0), (479, 0.031000242995001877), (480, 0.013344229556764267), (481, 0.04049479769984983), (482, 0.01028147865892906), (483, 0.01798088335401208), (484, 0.0), (485, 0.017775489107278584), (486, 0.008689650717549962), (487, 0.0), (488, 0.017368555109922912), (489, 0.0), (490, 0.003617290964426628), (491, 0.026293435577737598), (492, 0.008650235198312891), (493, 0.016111519044958014), (494, 0.0043183440395918446), (495, 0.01167378343621131), (496, 0.03797022311341807), (497, 0.022075881625544358), (498, 0.004381510114725236), (499, 0.0), (500, 0.046150722192541474), (501, 0.0), (502, 0.018525145320421686), (503, 0.004318962623990194), (504, 0.01749376792571885), (505, 0.004210317999930762), (506, 0.04806399046363431), (507, 0.01318239182655394), (508, 0.014879382325303114), (509, 0.018075370629919058), (510, 0.013695013859945069), (511, 0.019729662827520433), (512, 0.0), (513, 0.0), (514, 0.024594455505880325), (515, 0.06255911808345246), (516, 0.0), (517, 0.0), (518, 0.0), (519, 0.008749954984718223), (520, 0.0037445634837456774), (521, 0.01968302105360596), (522, 0.03645362545060718), (523, 0.015605621587158319), (524, 0.11026800764410552), (525, 0.00945471691616641), (526, 0.0), (527, 0.020264245745928652), (528, 0.026878810941029264), (529, 0.013624195896303395), (530, 0.017856509311714047), (531, 0.004966492424279738), (532, 0.004237798756807142), (533, 0.004126186026404961), (534, 0.003917793740650656), (535, 0.0), (536, 0.0), (537, 0.02096730630680672), (538, 0.030559273303738296), (539, 0.0), (540, 0.017327439824020744), (541, 0.02698015598121859), (542, 0.002666823589870188), (543, 0.03068940734973839), (544, 0.036985604361492036), (545, 0.024229872445398204), (546, 0.004109653854703107), (547, 0.008318126115292368), (548, 0.0), (549, 0.016637332237627915), (550, 0.0), (551, 0.016550678734438475), (552, 0.0), (553, 0.05933450596980173), (554, 0.0), (555, 0.040768690126451644), (556, 0.0), (557, 0.0), (558, 0.0033173693611173423), (559, 0.0), (560, 0.017879899602495978), (561, 0.03211901469507253), (562, 0.019989392859995084), (563, 0.057892140937205794), (564, 0.0038393292473546978), (565, 0.020080017446495377), (566, 0.029577666517056588), (567, 0.0), (568, 0.014783383508613974), (569, 0.029245282703653515), (570, 0.0), (571, 0.002871186486555158), (572, 0.012921341301143635), (573, 0.008732863094078475), (574, 0.0), (575, 0.028843030993078674), (576, 0.0040469552009059825), (577, 0.02011683575070322), (578, 0.014617552950638142), (579, 0.016943991418235473), (580, 0.0037656745161186635), (581, 0.0), (582, 0.012402734593893416), (583, 0.017829267216486734), (584, 0.01740099134346215), (585, 0.009341434706907873), (586, 0.018725332162528828), (587, 0.004034674452554634), (588, 0.016886915774776377), (589, 0.007536283729764389), (590, 0.015304367321727116), (591, 0.03842853711010244), (592, 0.0), (593, 0.0), (594, 0.02058368868169988), (595, 0.0), (596, 0.004167901648071759), (597, 0.030069161000625153), (598, 0.003547106683138108), (599, 0.0), (600, 0.006268335787263786), (601, 0.0), (602, 0.0), (603, 0.0), (604, 0.02404348789840788), (605, 0.01617933420570944), (606, 0.06736936502911917), (607, 0.041049671877212486), (608, 0.021938001169487874), (609, 0.062367663242614904), (610, 0.009172059857502296), (611, 0.0031637475182264684), (612, 0.003959159018289474), (613, 0.021820775044211423), (614, 0.014773254859149515), (615, 0.006096194528498292), (616, 0.029473360190523743), (617, 0.038473336339305726), (618, 0.028931218215603446), (619, 0.03353125475642292), (620, 0.019722422601829222), (621, 0.010868436764486601), (622, 0.0037720130306936875), (623, 0.004017697334798287), (624, 0.010814124772701796), (625, 0.0), (626, 0.003120172117042222), (627, 0.004877490302956535), (628, 0.00361002056734981), (629, 0.021828261967425912), (630, 0.004599006740610511), (631, 0.006311621125404826), (632, 0.019398345556082407), (633, 0.04453476004808685), (634, 0.06663289726169276), (635, 0.02673303404213077), (636, 0.003736982812305352), (637, 0.0036916881520173534), (638, 0.02039911448334772), (639, 0.007787808271702718), (640, 0.023441042868104327), (641, 0.007469331892626529), (642, 0.01584114676567279), (643, 0.026130495778924713), (644, 0.003716479500022325), (645, 0.0), (646, 0.0), (647, 0.008458669550350136), (648, 0.011268643398154593), (649, 0.004167271805760732), (650, 0.0), (651, 0.009490025674259854), (652, 0.003787607870554091), (653, 0.06088106196657325), (654, 0.0), (655, 0.06902062103518004), (656, 0.051192303923767585), (657, 0.02772234488089551), (658, 0.0), (659, 0.022938588176829464), (660, 0.015371449723444435), (661, 0.0), (662, 0.004222415055695038), (663, 0.08320602172594752), (664, 0.01768061418345874), (665, 0.008572575501099671), (666, 0.010122135609561763), (667, 0.004691142638810184), (668, 0.017567023547533953), (669, 0.050289590452212485), (670, 0.004374860367467398), (671, 0.010686428903542742), (672, 0.0032519500989658485), (673, 0.0038980656801889777), (674, 0.0), (675, 0.0), (676, 0.014585897513569465), (677, 0.02560773246785567), (678, 0.004798877540213343), (679, 0.0), (680, 0.0), (681, 0.04289207793555373), (682, 0.0), (683, 0.0100380202789159), (684, 0.03803721012903295), (685, 0.08069211129197117), (686, 0.038583087774337124), (687, 0.024281541725358187), (688, 0.014185319068583578), (689, 0.023526572143061454), (690, 0.02555954778630426), (691, 0.023747949785672684), (692, 0.020757933279512416), (693, 0.003646266626386955), (694, 0.0421426680852074), (695, 0.0), (696, 0.029878598555605266), (697, 0.035287874685750766), (698, 0.003639865085996691), (699, 0.02766106885640632), (700, 0.033437564247243284), (701, 0.03923769885878551), (702, 0.02565222241639582), (703, 0.0924923796281989), (704, 0.009710658549417496), (705, 0.03995672770927045), (706, 0.0531319465364308), (707, 0.03568576232944979), (708, 0.019330501916358794), (709, 0.0), (710, 0.01654428556668386), (711, 0.0), (712, 0.0069400559351912965), (713, 0.0), (714, 0.08387377051801258), (715, 0.0065893955745572365), (716, 0.004032899064819541), (717, 0.009595885717312654), (718, 0.0), (719, 0.05753502389749511), (720, 0.004370049694180315), (721, 0.0042682122199031855), (722, 0.023239432247917247), (723, 0.023376025504632216), (724, 0.00841125210066946), (725, 0.036975581455937594), (726, 0.06637129158168636), (727, 0.043224116822426106), (728, 0.027404687902739415), (729, 0.028110042598963055), (730, 0.0), (731, 0.03743832629642781), (732, 0.008435998531525692), (733, 0.03540648501921735), (734, 0.05474043866960881), (735, 0.011634239671119751), (736, 0.07299898694565261), (737, 0.026088311575820776), (738, 0.007492329582054032), (739, 0.03825798589707349), (740, 0.003007575411280777), (741, 0.008349493661891012), (742, 0.02659646042308049), (743, 0.003814308757079442), (744, 0.04524824550816396), (745, 0.003982329809122802), (746, 0.015782904249682362), (747, 0.04188601632219534), (748, 0.006345207360102062), (749, 0.021935355841931355), (750, 0.0036177878578541028), (751, 0.10574648627797661), (752, 0.015356856674315456), (753, 0.0), (754, 0.004816413856163401), (755, 0.0036931233001712763), (756, 0.03928330045877604), (757, 0.03547770029294701), (758, 0.0216642943290723), (759, 0.004203698995046709), (760, 0.005117913592153632), (761, 0.0038291408199928045), (762, 0.05136138634099547), (763, 0.022856049240486294), (764, 0.006089501160216291), (765, 0.0), (766, 0.04193902758673945), (767, 0.0), (768, 0.026775014282688053), (769, 0.03133052912658353), (770, 0.004285745532683263), (771, 0.0), (772, 0.02096046708988366), (773, 0.055696121592267445), (774, 0.0038844807788526565), (775, 0.02404490031536108), (776, 0.04487763806839046), (777, 0.0), (778, 0.015449980330750058), (779, 0.008075879510202342), (780, 0.021936697637166616), (781, 0.014147144004276326), (782, 0.006360723006762183), (783, 0.0037767532483029905), (784, 0.004716515264708517), (785, 0.022509435862204302), (786, 0.0036064909650418424), (787, 0.03701267680965357), (788, 0.027156374168914255), (789, 0.014818600759596777), (790, 0.008810261525374901), (791, 0.010517464081960198), (792, 0.01354919643346099), (793, 0.0044722763359860435), (794, 0.02930501847379712), (795, 0.005044265100368997), (796, 0.003128440763710034), (797, 0.0), (798, 0.029028151806243012), (799, 0.0035874641497816596), (800, 0.020234935372376), (801, 0.0), (802, 0.039624311827131956), (803, 0.024443929184949913), (804, 0.01513823820225193), (805, 0.01622513033869301), (806, 0.003634983451283497), (807, 0.04265265733962383), (808, 0.0538687669562788), (809, 0.06914553834409763), (810, 0.027376287016103562), (811, 0.0), (812, 0.005838281587994481), (813, 0.04199572699025388), (814, 0.012308295299596678), (815, 0.003262667668103329), (816, 0.019517810313367877), (817, 0.006235632368729485), (818, 0.01729778804094969), (819, 0.0), (820, 0.012313536236375194), (821, 0.015213185780394971), (822, 0.0), (823, 0.015125674183689809), (824, 0.02030784205085076), (825, 0.0), (826, 0.003908379928279171), (827, 0.013478666408617043), (828, 0.016117499099836882), (829, 0.05604667407227008), (830, 0.013546042939504867), (831, 0.012409804013773411), (832, 0.003669050282755519), (833, 0.005862187262123444), (834, 0.006042032400371352), (835, 0.005815449520040024), (836, 0.0038379053350339034), (837, 0.0), (838, 0.009441562429358296), (839, 0.0), (840, 0.0268101229688062), (841, 0.0), (842, 0.00516357505409959), (843, 0.035342801315112804), (844, 0.035641039047753335), (845, 0.009575034565179472), (846, 0.013785569050433336), (847, 0.021230939936696933), (848, 0.0), (849, 0.00452902927042091), (850, 0.018157717040723595), (851, 0.007231115921452848), (852, 0.0642555933334785), (853, 0.01183439169557398), (854, 0.01242520313395168), (855, 0.0), (856, 0.032843127224661595), (857, 0.020315874459482804), (858, 0.002568035841234024), (859, 0.00427512919640467), (860, 0.0042293624227090045), (861, 0.013062492262145516), (862, 0.03773027140107228), (863, 0.010526956647260315), (864, 0.038444340069587114), (865, 0.04273872206411905), (866, 0.03790295705360659), (867, 0.03325434952588133), (868, 0.0), (869, 0.024379396754992618), (870, 0.018425653632488923), (871, 0.0133920066065037), (872, 0.022051644655278223), (873, 0.014872485122224149), (874, 0.022310623457540618), (875, 0.00988684225189727), (876, 0.05712807986708395), (877, 0.019755212580043893), (878, 0.0122958039420211), (879, 0.008399478524584027), (880, 0.0035125670210598794), (881, 0.021537482761519487), (882, 0.0), (883, 0.013128364707743746), (884, 0.004577504911447355), (885, 0.012243863407728662), (886, 0.024807731215547187), (887, 0.02818937629939479), (888, 0.003947947996590654), (889, 0.0), (890, 0.014225631664576795), (891, 0.08965009975052445), (892, 0.0165923996289812), (893, 0.0), (894, 0.012730149860649255), (895, 0.028296102341082728), (896, 0.0039037355418578452), (897, 0.019206046409867342), (898, 0.012124291145414343), (899, 0.040344466278147376), (900, 0.01788025451569414), (901, 0.02343776008213004), (902, 0.012963156709905216), (903, 0.008496405686722903), (904, 0.015631771566509987), (905, 0.004969569490030867), (906, 0.012321274288219315), (907, 0.02855143644040218), (908, 0.013958212446660786), (909, 0.07978419255208251), (910, 0.0033504564086859717), (911, 0.029386597115160153), (912, 0.0038656685278903972), (913, 0.01848552679047574), (914, 0.0), (915, 0.008683721727384887), (916, 0.049104479370133264), (917, 0.0), (918, 0.009476664448546971), (919, 0.09816639140745044), (920, 0.0), (921, 0.006162483735293812), (922, 0.0), (923, 0.03656701952773735), (924, 0.02406364760469651), (925, 0.009429679018504649), (926, 0.0034436802898471174), (927, 0.009268895028779398), (928, 0.02644047534594346), (929, 0.017038939295905255), (930, 0.04651719505404633), (931, 0.013831154417240421), (932, 0.0), (933, 0.00485097268303217), (934, 0.043691705057192706), (935, 0.026547259597593735), (936, 0.02683619030162772), (937, 0.0596650070135867), (938, 0.0217719275289606), (939, 0.015053300371780456), (940, 0.029653480657472885), (941, 0.004520760078023705), (942, 0.003006009818135002), (943, 0.0), (944, 0.01513222924436395), (945, 0.013278238239881907), (946, 0.004422133971015392), (947, 0.00523760155252241), (948, 0.01668201511915756), (949, 0.016981501629694796), (950, 0.04332441197305342), (951, 0.015732953913055944), (952, 0.023122442886243433), (953, 0.002941479862593034), (954, 0.0), (955, 0.01862094498369286), (956, 0.015149900511556015), (957, 0.022716865795934675), (958, 0.014616692943629573), (959, 0.05092175836626884), (960, 0.013688739287344645), (961, 0.01372894666771532), (962, 0.02725160835888246), (963, 0.03778946563909825), (964, 0.0037290464419935452), (965, 0.0), (966, 0.03248032061206303), (967, 0.0381521899474842), (968, 0.014524779651085276), (969, 0.06828780402226488), (970, 0.009300854561013365), (971, 0.013767644126384681), (972, 0.003420486754777116), (973, 0.013293504494496343), (974, 0.029703322479418395), (975, 0.012258978111251366), (976, 0.0), (977, 0.0), (978, 0.012163864204025012), (979, 0.035299120800254526), (980, 0.003712898294254763), (981, 0.03158551280061842), (982, 0.036825002204002324), (983, 0.012863693795015854), (984, 0.004096223464615233), (985, 0.009205815782748226), (986, 0.0038875623453791257), (987, 0.013594256054116117), (988, 0.02362183210817425), (989, 0.003535675697060912), (990, 0.004606434136384223), (991, 0.003861092041386624), (992, 0.0), (993, 0.029122699690007036), (994, 0.013154203571826888), (995, 0.01756135836810679), (996, 0.00601537582600249), (997, 0.011660242710453548), (998, 0.00909998914010341), (999, 0.009048937334708275), (1000, 0.011752970573735729), (1001, 0.02096893597025842), (1002, 0.029416305100077804), (1003, 0.0), (1004, 0.050167676356122626), (1005, 0.02903997381361704), (1006, 0.019715256582391767), (1007, 0.008707354957330035), (1008, 0.014366968582647976), (1009, 0.009157088073475296), (1010, 0.0), (1011, 0.010053473856071665), (1012, 0.006029456408165911), (1013, 0.03986346912757409), (1014, 0.007006415433435738), (1015, 0.010151128674918339), (1016, 0.05478987023843102), (1017, 0.009794705724655146), (1018, 0.02444330835064977), (1019, 0.01850775625367656), (1020, 0.009846905777239512), (1021, 0.009528652438961982), (1022, 0.013392250519092559), (1023, 0.010999226663045904), (1024, 0.004539971287251044), (1025, 0.012404479358550827), (1026, 0.021784745377483337), (1027, 0.014801738801846032), (1028, 0.008393085668215953), (1029, 0.025043851394330047), (1030, 0.01250645867002977), (1031, 0.0), (1032, 0.0), (1033, 0.034363612445371505), (1034, 0.01432928453851021), (1035, 0.012767920538159021), (1036, 0.0), (1037, 0.005206259641940152), (1038, 0.003989883685701362), (1039, 0.031098707390144482), (1040, 0.006995209403375076), (1041, 0.020585801287059117), (1042, 0.012159012158845092), (1043, 0.006513810993523661), (1044, 0.01606012514460996), (1045, 0.014551636558809684), (1046, 0.020269767938732346), (1047, 0.03858698583127365), (1048, 0.10035835872723656), (1049, 0.00941898295910254), (1050, 0.0032419551676494307), (1051, 0.0), (1052, 0.04116438470196343), (1053, 0.00433043156214456), (1054, 0.01907167475712405), (1055, 0.0), (1056, 0.0), (1057, 0.0), (1058, 0.0), (1059, 0.04586365291028277), (1060, 0.024986153268330823), (1061, 0.011983502502768646), (1062, 0.0), (1063, 0.0), (1064, 0.004455784483570329), (1065, 0.003402514719663295), (1066, 0.04182472953096032), (1067, 0.020623313846782072), (1068, 0.03593969611938585), (1069, 0.032387584213198636), (1070, 0.0), (1071, 0.032542113357047577), (1072, 0.0), (1073, 0.00412379098076266), (1074, 0.04122504665229247), (1075, 0.00980731768035573), (1076, 0.0), (1077, 0.027692712512211726), (1078, 0.006858721543140442), (1079, 0.0033701046502649604), (1080, 0.04222437813356158), (1081, 0.0), (1082, 0.0), (1083, 0.0037674428896197765), (1084, 0.007656751172121461), (1085, 0.004534140671702249), (1086, 0.0123801161603054), (1087, 0.11513410898415817), (1088, 0.006917705603479373), (1089, 0.0), (1090, 0.05379865940979126), (1091, 0.0), (1092, 0.024597164399192663), (1093, 0.02389343530708385), (1094, 0.010750152503263506), (1095, 0.025371321752178606), (1096, 0.02677013594743561), (1097, 0.0), (1098, 0.0), (1099, 0.01140108296142706), (1100, 0.004353346237397931), (1101, 0.02867569987443803), (1102, 0.0036508475228302826), (1103, 0.009692997143461545), (1104, 0.0098204439208874), (1105, 0.018641566273632514), (1106, 0.03928462585725515), (1107, 0.012077483374661038), (1108, 0.04079036868471563), (1109, 0.03830881863388269), (1110, 0.012909210568308347), (1111, 0.05051386907026539), (1112, 0.018305699123026084), (1113, 0.013078402867519535), (1114, 0.019690861485262046), (1115, 0.030070975695800063), (1116, 0.015213036268275904), (1117, 0.0153224928619173), (1118, 0.02381362866410767), (1119, 0.020038897923211653), (1120, 0.10312206800361554), (1121, 0.01786141550851591), (1122, 0.0037604459665991135), (1123, 0.003571196307720471), (1124, 0.010918929730786685), (1125, 0.01739114180351445), (1126, 0.00427827047858952), (1127, 0.0), (1128, 0.10309886679056766), (1129, 0.03385759370614495), (1130, 0.050105335958915025), (1131, 0.025580398112372314), (1132, 0.08210827816075479), (1133, 0.009153689389751836), (1134, 0.0), (1135, 0.021283365795837852), (1136, 0.01691105989952254), (1137, 0.0), (1138, 0.0036063127760840945), (1139, 0.0), (1140, 0.022985709357869137), (1141, 0.010717145998280043), (1142, 0.0048349145485980455), (1143, 0.014488021585358314), (1144, 0.015331087079484124), (1145, 0.0), (1146, 0.015525024151589874), (1147, 0.0), (1148, 0.0), (1149, 0.015104244321431128), (1150, 0.0), (1151, 0.0), (1152, 0.015438346802444483), (1153, 0.02406057535828901), (1154, 0.013848311025158495), (1155, 0.01384761422661651), (1156, 0.015381251101775626), (1157, 0.034169085729372675), (1158, 0.0), (1159, 0.0), (1160, 0.016666236968443847), (1161, 0.0035700463305784022), (1162, 0.013424489330780134), (1163, 0.0036985422354308536), (1164, 0.0), (1165, 0.004465653571548858), (1166, 0.00441758513207055), (1167, 0.010178694865944233), (1168, 0.039433516156061804), (1169, 0.06022987984364891), (1170, 0.00789801832011317), (1171, 0.020269845000249535), (1172, 0.01950619057219314), (1173, 0.038681859243224814), (1174, 0.0), (1175, 0.022397112236218583), (1176, 0.0037396384872750072), (1177, 0.01439150368727973), (1178, 0.00789236063769627), (1179, 0.013058479367510666), (1180, 0.0), (1181, 0.0), (1182, 0.010425411244365707), (1183, 0.0034820215328430913), (1184, 0.004137545611647515), (1185, 0.0), (1186, 0.03374012422051955), (1187, 0.009359231936373311), (1188, 0.05757148581262957), (1189, 0.0), (1190, 0.02592711776156695), (1191, 0.021994692976184275), (1192, 0.05013007517449351), (1193, 0.0), (1194, 0.0295866024017682), (1195, 0.038705733152618764), (1196, 0.0041762800684769785), (1197, 0.023648489130271667), (1198, 0.004417818955852647), (1199, 0.020144642854218152), (1200, 0.004037414239015181), (1201, 0.004774741031490045), (1202, 0.04223740797650126), (1203, 0.004090894021247823), (1204, 0.03760372020460946), (1205, 0.004572433206929952), (1206, 0.009171700818815201), (1207, 0.015924633246731146), (1208, 0.020989265555012446), (1209, 0.003364935718930252), (1210, 0.06600377587685717), (1211, 0.004239399547199157), (1212, 0.0037366859930681824), (1213, 0.003876294981666977), (1214, 0.019302108869511326), (1215, 0.02763154033754677), (1216, 0.04373731333000049), (1217, 0.028956830728299136), (1218, 0.0), (1219, 0.0033099662353100424), (1220, 0.009265431484056692), (1221, 0.02457390503597085), (1222, 0.02217762271304058), (1223, 0.035895005894059674), (1224, 0.032222059854510945), (1225, 0.0038832402365546266), (1226, 0.015230772327266532), (1227, 0.0), (1228, 0.0), (1229, 0.017317782815209355), (1230, 0.0), (1231, 0.040007604004518), (1232, 0.030961953144750066), (1233, 0.0), (1234, 0.016499060826849772), (1235, 0.0), (1236, 0.0), (1237, 0.003249049579535355), (1238, 0.010378496453759812), (1239, 0.058055897423406104), (1240, 0.0), (1241, 0.030168653034372613), (1242, 0.0), (1243, 0.015073796309128492), (1244, 0.0), (1245, 0.01739215672072612), (1246, 0.004756697445360236), (1247, 0.0035696521581589998), (1248, 0.045694734365895474), (1249, 0.02317633176074079), (1250, 0.006293585588297745), (1251, 0.007125028943879915), (1252, 0.049478262301485554), (1253, 0.043216866705255576), (1254, 0.032116030435696725), (1255, 0.03781481561991776), (1256, 0.004350582482584561), (1257, 0.024660182546744264), (1258, 0.0), (1259, 0.02482312280805983), (1260, 0.004789318008496921), (1261, 0.016687284191571897), (1262, 0.015682731230938905), (1263, 0.03327323794252805), (1264, 0.0044993594832984955), (1265, 0.0), (1266, 0.006407562391494592), (1267, 0.014328994748683037), (1268, 0.0036583219669822256), (1269, 0.0), (1270, 0.028933303351685417), (1271, 0.01181698348145909), (1272, 0.018284797939520585), (1273, 0.003337260155707601), (1274, 0.0), (1275, 0.013531170447278258), (1276, 0.0), (1277, 0.014378437057458612), (1278, 0.08121913304368844), (1279, 0.012831551906026608), (1280, 0.015513449650889802), (1281, 0.06898396213584601), (1282, 0.0626838096934113), (1283, 0.0), (1284, 0.025836252632467596), (1285, 0.0), (1286, 0.023425057010323047), (1287, 0.0), (1288, 0.01166572640858595), (1289, 0.010711687365275325), (1290, 0.04310393422865838), (1291, 0.041360691381880255), (1292, 0.04375516270037959), (1293, 0.011819423237728168), (1294, 0.0), (1295, 0.05497459296900481), (1296, 0.007043278232814176), (1297, 0.01852741100519084), (1298, 0.015709008261663198), (1299, 0.013226508967647101), (1300, 0.01755117536470402), (1301, 0.0078817781035515), (1302, 0.010516608766370734), (1303, 0.0029572274363314026), (1304, 0.03071850674722327), (1305, 0.041899334010025345), (1306, 0.03971455084014943), (1307, 0.023309382401830822), (1308, 0.02169867474105767), (1309, 0.00749633737899074), (1310, 0.028880806322273012), (1311, 0.0), (1312, 0.01754335548384378), (1313, 0.00360344161685894), (1314, 0.008630849749122444), (1315, 0.0), (1316, 0.005614210933238454), (1317, 0.008828768195529243), (1318, 0.014657259600898346), (1319, 0.018276683081191097), (1320, 0.00359555488163303), (1321, 0.0102962341630239), (1322, 0.010185358257208853), (1323, 0.004034386313989247), (1324, 0.01740167642873163), (1325, 0.004080512048436505), (1326, 0.0), (1327, 0.009903473382284315), (1328, 0.0), (1329, 0.10543268032881192), (1330, 0.00436087927631124), (1331, 0.0), (1332, 0.0), (1333, 0.0), (1334, 0.003645990790490777), (1335, 0.0037249723250577784), (1336, 0.0045228582329952735), (1337, 0.00785736792141702), (1338, 0.01276937021662215), (1339, 0.009616333130107057), (1340, 0.0983965454021325), (1341, 0.05254257759910186), (1342, 0.00785428758773492), (1343, 0.010780380508560923), (1344, 0.011285795239096312), (1345, 0.02242834338781826), (1346, 0.009610098581236265), (1347, 0.008734739436648629), (1348, 0.0039058283544708594), (1349, 0.014159229068329903), (1350, 0.003888345810629134), (1351, 0.015587286409400023), (1352, 0.011414572498054719), (1353, 0.06436034584761298), (1354, 0.016752870772243314), (1355, 0.014877709956360122), (1356, 0.003061688151406248), (1357, 0.0034138618583087195), (1358, 0.0), (1359, 0.02744378638254692), (1360, 0.012238453599132417), (1361, 0.04888715624074844), (1362, 0.02417425761497386), (1363, 0.0042093656807898625), (1364, 0.008488524755586802), (1365, 0.0188887059775418), (1366, 0.02824103305309812), (1367, 0.0906193546027546), (1368, 0.012806047901366704), (1369, 0.0178610158914576), (1370, 0.006936528312189806), (1371, 0.0), (1372, 0.007501027302061938), (1373, 0.0483205103055625), (1374, 0.006016253204952624), (1375, 0.014210352285750648), (1376, 0.0232394751453329), (1377, 0.016247355964281472), (1378, 0.0036229764070286686), (1379, 0.022556657829421525), (1380, 0.0), (1381, 0.010589266751948906), (1382, 0.014859395821266662), (1383, 0.004135335787798699), (1384, 0.021203233271101393), (1385, 0.009308777504550357), (1386, 0.0), (1387, 0.022513398510094457), (1388, 0.0), (1389, 0.015104574040845333), (1390, 0.022016913002813773), (1391, 0.0), (1392, 0.028104298870344303), (1393, 0.02317358961405821), (1394, 0.03112108368518924), (1395, 0.0075313602067318035), (1396, 0.015604285174049135), (1397, 0.003955802375117072), (1398, 0.004208311570559397), (1399, 0.0), (1400, 0.00380435677450888), (1401, 0.0127359885402755), (1402, 0.019067848685826172), (1403, 0.020427167970938742), (1404, 0.008726211178954864), (1405, 0.04605159045957995), (1406, 0.01274428612337753), (1407, 0.006349637110280475), (1408, 0.01900759264951949), (1409, 0.0047145692155355886), (1410, 0.008086463976845574), (1411, 0.02818178856034597), (1412, 0.028733776543866794), (1413, 0.07252537194467858), (1414, 0.06128954030516164), (1415, 0.0031198353889827827), (1416, 0.0), (1417, 0.007701599641170847), (1418, 0.016812629453399498), (1419, 0.008537347906586517), (1420, 0.028422491859769417), (1421, 0.003573613848310755), (1422, 0.007903184499023747), (1423, 0.003239166264727294), (1424, 0.005214188320769798), (1425, 0.02703634705627205), (1426, 0.0), (1427, 0.020644365195388408), (1428, 0.008794934583819776), (1429, 0.004341194905057836), (1430, 0.04182605740038251), (1431, 0.008953559225263655), (1432, 0.01834990476534864), (1433, 0.04297297356014092), (1434, 0.0), (1435, 0.0), (1436, 0.00933001118783053), (1437, 0.013345213992245808), (1438, 0.0035517169717253876), (1439, 0.022693067731911903), (1440, 0.0), (1441, 0.0), (1442, 0.052624874010502885), (1443, 0.05292513404715474), (1444, 0.0), (1445, 0.004548749357064809), (1446, 0.018335913831325778), (1447, 0.013861079875681477), (1448, 0.04088635466972791), (1449, 0.0), (1450, 0.039758179706502444), (1451, 0.008655032404952082), (1452, 0.0), (1453, 0.024375309012181937), (1454, 0.027415773162803237), (1455, 0.0), (1456, 0.06271888880229445), (1457, 0.004147331830106743), (1458, 0.0074924908518934795), (1459, 0.018421989897646995), (1460, 0.0), (1461, 0.032943575776789746), (1462, 0.013938459712902062), (1463, 0.028728337337146925), (1464, 0.015735527484143044), (1465, 0.05726272092717247), (1466, 0.0), (1467, 0.05410812268281936), (1468, 0.012542177836565346), (1469, 0.03081433518781622), (1470, 0.0), (1471, 0.032511463354264525), (1472, 0.02171475736459346), (1473, 0.022480429195863808), (1474, 0.004002714543279984), (1475, 0.010126039781802113), (1476, 0.007961503281121482), (1477, 0.04157957743073087), (1478, 0.0034639128022178555), (1479, 0.01472712006272233), (1480, 0.017025898669060572), (1481, 0.0035013619309265604), (1482, 0.012533915067399523), (1483, 0.003586084531655059), (1484, 0.01913553849978742), (1485, 0.013607310909330572), (1486, 0.011493037027709997), (1487, 0.020523960095393232), (1488, 0.012215646047324252), (1489, 0.05083333716175949), (1490, 0.040658666888792806), (1491, 0.04368231992057624), (1492, 0.027867949847780363), (1493, 0.029153468712806982), (1494, 0.029229232614654627), (1495, 0.023353328498245025), (1496, 0.022860607690821565), (1497, 0.0), (1498, 0.004238607509417909), (1499, 0.0), (1500, 0.02395974798211388), (1501, 0.019718804798320846), (1502, 0.008657499346309116), (1503, 0.03686501501960425), (1504, 0.019048297205696896), (1505, 0.04339474346920932), (1506, 0.04405661903721543), (1507, 0.004991396052881267), (1508, 0.0190253732972811), (1509, 0.013226993204864843), (1510, 0.032333428736421976), (1511, 0.03405563949757828), (1512, 0.035478441519169325), (1513, 0.008593274978001952), (1514, 0.009218590109163347), (1515, 0.01514734529533677), (1516, 0.03151031529833171), (1517, 0.018504836174567534), (1518, 0.02099935831207979), (1519, 0.009335645664833043), (1520, 0.014537288840581163), (1521, 0.024271985915774272), (1522, 0.031599460606251475), (1523, 0.0036814126231848768), (1524, 0.052063892998527414), (1525, 0.01372182271226178), (1526, 0.015158680256334366), (1527, 0.027949162447211875), (1528, 0.014551169605046533), (1529, 0.0), (1530, 0.03578257383253964), (1531, 0.0), (1532, 0.01769622509645143), (1533, 0.026879053058805624), (1534, 0.0), (1535, 0.046094043492482056), (1536, 0.0), (1537, 0.01839326350400986), (1538, 0.005630443586351036), (1539, 0.024923087982542884), (1540, 0.0), (1541, 0.0), (1542, 0.030799984444258986), (1543, 0.0073135539031699), (1544, 0.0), (1545, 0.0), (1546, 0.00821405804595065), (1547, 0.00426586414171829), (1548, 0.011474457923025294), (1549, 0.03325606205214199), (1550, 0.00899685619072285), (1551, 0.024629841459580484), (1552, 0.010172784287763994), (1553, 0.045921346632662084), (1554, 0.0), (1555, 0.023886402335299605), (1556, 0.0), (1557, 0.018834640594332576), (1558, 0.003557370060220135), (1559, 0.015973031283038112), (1560, 0.0049386120634425075), (1561, 0.034491719928499684), (1562, 0.017502757691108612), (1563, 0.0), (1564, 0.009688499015051354), (1565, 0.018365057055662243), (1566, 0.030184362784424525), (1567, 0.021153765914284514), (1568, 0.008426553355123325), (1569, 0.02417767130377688), (1570, 0.01784345600885661), (1571, 0.04093445508781694), (1572, 0.010988941268875528), (1573, 0.0), (1574, 0.0), (1575, 0.00984648160909366), (1576, 0.0), (1577, 0.009457289716154432), (1578, 0.022830953837919377), (1579, 0.04610321647672426), (1580, 0.0), (1581, 0.0258163560953469), (1582, 0.01637130715876817), (1583, 0.006641108037681622), (1584, 0.025204412841900403), (1585, 0.01883380205145672), (1586, 0.030077973231645804), (1587, 0.014171510569789877), (1588, 0.0), (1589, 0.01370095156586548), (1590, 0.021787768279458365), (1591, 0.0), (1592, 0.03373537752428533), (1593, 0.0), (1594, 0.03456398137772307), (1595, 0.011878065557087642), (1596, 0.004777522915347531), (1597, 0.012398345805789208), (1598, 0.007806791492178669), (1599, 0.03424004743235294), (1600, 0.013422926590391585), (1601, 0.017800956711047054), (1602, 0.043212744776078234), (1603, 0.015060251274218998), (1604, 0.0), (1605, 0.01651526285739628), (1606, 0.007723296304062274), (1607, 0.0), (1608, 0.020688773059258952), (1609, 0.0), (1610, 0.004206396471149354), (1611, 0.0), (1612, 0.052211845416395355), (1613, 0.035361431028003425), (1614, 0.014954171273650809), (1615, 0.005015515023112521), (1616, 0.007041507228584119), (1617, 0.02287876825100995), (1618, 0.004449381998224167), (1619, 0.019643708822256023), (1620, 0.012668159310794857), (1621, 0.003613558852912988), (1622, 0.02946196112164602), (1623, 0.012385936423378728), (1624, 0.010130046761494574), (1625, 0.0), (1626, 0.008257991711427064), (1627, 0.038724624041360386), (1628, 0.003528386460076175), (1629, 0.00980287685229821), (1630, 0.017258495615654797), (1631, 0.0), (1632, 0.0), (1633, 0.0), (1634, 0.012159088506844096), (1635, 0.014272334319980056), (1636, 0.015158421043219723), (1637, 0.005127623169030988), (1638, 0.03923644777044224), (1639, 0.003726671450979455), (1640, 0.015234730203797172), (1641, 0.0), (1642, 0.01280802848699339), (1643, 0.049658287544733004), (1644, 0.03961656313126274), (1645, 0.022745652418134497), (1646, 0.0), (1647, 0.033275689550102246), (1648, 0.01693822157044087), (1649, 0.020760302399638806), (1650, 0.030057294676618038), (1651, 0.020183529163148646), (1652, 0.0039009644154054486), (1653, 0.003635548456251392), (1654, 0.020556834107003527), (1655, 0.012125306505305217), (1656, 0.004829114568417636), (1657, 0.014047123866651896), (1658, 0.03157282988426358), (1659, 0.01543127604749171), (1660, 0.01404237645054355), (1661, 0.0), (1662, 0.014273658294710377), (1663, 0.004297532042087801), (1664, 0.013666177625007067), (1665, 0.0034984929275482294), (1666, 0.021449726860255074), (1667, 0.0035235360768999737), (1668, 0.028554235945673044), (1669, 0.0), (1670, 0.0), (1671, 0.0036385067212402144), (1672, 0.0), (1673, 0.0), (1674, 0.0), (1675, 0.02858172505038837), (1676, 0.015165114675830243), (1677, 0.01335268867708098), (1678, 0.01899284716719573), (1679, 0.00980550980996542), (1680, 0.0), (1681, 0.010303570453810163), (1682, 0.035620154315794975), (1683, 0.004572946272060134), (1684, 0.009463241808688834), (1685, 0.010521366206166581), (1686, 0.0), (1687, 0.00393240852532181), (1688, 0.02024194556597099), (1689, 0.009350024497832439), (1690, 0.016700070440941992), (1691, 0.029316793493832496), (1692, 0.055757809806911154), (1693, 0.007862354859188476), (1694, 0.003827535408046803), (1695, 0.015601989892968664), (1696, 0.014278648730730606), (1697, 0.004475955165680156), (1698, 0.02416602992741104), (1699, 0.02026669462902269), (1700, 0.02262743506968635), (1701, 0.06754586346321936), (1702, 0.010018137604530134), (1703, 0.0039000706511455718), (1704, 0.009881185482633049), (1705, 0.0), (1706, 0.0036065726238868646), (1707, 0.04702313929911824), (1708, 0.00702945455787829), (1709, 0.027130053878088825), (1710, 0.009527681458405279), (1711, 0.03181332145397523), (1712, 0.006786999805914758), (1713, 0.007158243095433144), (1714, 0.02722996614921381), (1715, 0.05648929890393987), (1716, 0.004000114499204692), (1717, 0.0036784023416044794), (1718, 0.020956944674860062), (1719, 0.05627136044499061), (1720, 0.05036392705509289), (1721, 0.016244589721501244), (1722, 0.00824492237316661), (1723, 0.005751003789974383), (1724, 0.0), (1725, 0.052367322455759244), (1726, 0.013663199816810224), (1727, 0.018211201301826803), (1728, 0.02836326985488704), (1729, 0.015248305982472015), (1730, 0.022662917967322053), (1731, 0.004623071782786922), (1732, 0.0), (1733, 0.014883956364336664), (1734, 0.0), (1735, 0.0), (1736, 0.015528861554577882), (1737, 0.02018171725364503), (1738, 0.024545233718928423), (1739, 0.0033522519814100705), (1740, 0.017992911357118176), (1741, 0.035302324813755975), (1742, 0.02123147968802208), (1743, 0.016014770973842008), (1744, 0.021121657745512282), (1745, 0.0), (1746, 0.01839663081104343), (1747, 0.03327756703550428), (1748, 0.020984930042884584), (1749, 0.0), (1750, 0.01675557976660248), (1751, 0.02705169546123748), (1752, 0.0), (1753, 0.0), (1754, 0.0), (1755, 0.01806224196903875), (1756, 0.03466723955061728), (1757, 0.0), (1758, 0.010376659063390109), (1759, 0.02298396438836038), (1760, 0.0033657328536251118), (1761, 0.006270899160960589), (1762, 0.03771071925055241), (1763, 0.0033066348670556865), (1764, 0.03673460173575311), (1765, 0.004632309208576397), (1766, 0.004945921717044323), (1767, 0.011150146161763996), (1768, 0.012808925970123819), (1769, 0.02130264415596439), (1770, 0.006854405734989593), (1771, 0.01679686377349732), (1772, 0.018485705087479622), (1773, 0.0061499629596185965), (1774, 0.007539729467824345), (1775, 0.029739319263694428), (1776, 0.03263048466384912), (1777, 0.0), (1778, 0.012868959635081122), (1779, 0.01963202318957765), (1780, 0.022893214413801797), (1781, 0.02871238154862342), (1782, 0.02948373406884624), (1783, 0.004341716618064815), (1784, 0.0207046007436408), (1785, 0.0), (1786, 0.0), (1787, 0.0325641252297279), (1788, 0.052822470069326805), (1789, 0.0), (1790, 0.007308564095722449), (1791, 0.004597756867192055), (1792, 0.02008227062898113), (1793, 0.014638329114379124), (1794, 0.01332150153278561), (1795, 0.008447992772411107), (1796, 0.0034847762544366057), (1797, 0.014882626032613516), (1798, 0.0450160924619785), (1799, 0.027152398590873462), (1800, 0.01252158726201411), (1801, 0.0), (1802, 0.02699999290278811), (1803, 0.02521592842314887), (1804, 0.004289818364853494), (1805, 0.0), (1806, 0.005009782403292942), (1807, 0.02983291288825759), (1808, 0.020273366878059536), (1809, 0.005538830046073147), (1810, 0.0), (1811, 0.0), (1812, 0.016602226768089014), (1813, 0.0035123087488906327), (1814, 0.0), (1815, 0.0), (1816, 0.01608988093847845), (1817, 0.008404649287753302), (1818, 0.02651446421858556), (1819, 0.0034772767655425556), (1820, 0.0), (1821, 0.020578209120600266), (1822, 0.008742061617220093), (1823, 0.029947420604966635), (1824, 0.012704988152726995), (1825, 0.030036664540147175), (1826, 0.0), (1827, 0.02443557722317514), (1828, 0.0031207215744521615), (1829, 0.01019619939456658), (1830, 0.007199664467092522), (1831, 0.00938331857513246), (1832, 0.0), (1833, 0.009783732975896901), (1834, 0.0), (1835, 0.0), (1836, 0.004885126361183129), (1837, 0.0044249568425846954), (1838, 0.01566904473207603), (1839, 0.016132675403875592), (1840, 0.0), (1841, 0.0402544905926977), (1842, 0.004255470891751567), (1843, 0.06684558081873265), (1844, 0.0), (1845, 0.015871054624513044), (1846, 0.0), (1847, 0.004444604658656255), (1848, 0.02916233672709203), (1849, 0.04575984608618871), (1850, 0.03337280489193764), (1851, 0.01830073127390407), (1852, 0.04221852703332332), (1853, 0.0038356861311442977), (1854, 0.0), (1855, 0.021145197932923143), (1856, 0.0), (1857, 0.009074028121570314), (1858, 0.047675236089028634), (1859, 0.0), (1860, 0.006193957431890748), (1861, 0.0066570196569179785), (1862, 0.0), (1863, 0.024513577525026923), (1864, 0.009325310972754037), (1865, 0.01864915991114232), (1866, 0.003928635985019831), (1867, 0.046284035536643), (1868, 0.0), (1869, 0.003310485483578798), (1870, 0.011036417687679373), (1871, 0.006396341120592411), (1872, 0.014958166504572578), (1873, 0.015509903190010667), (1874, 0.03585243356128129), (1875, 0.008925645848281798), (1876, 0.010282482898363565), (1877, 0.0041146701861564505), (1878, 0.00763822514905384), (1879, 0.0), (1880, 0.018427805306599085), (1881, 0.013794736865982616), (1882, 0.0036103585593739987), (1883, 0.01033154063415526), (1884, 0.0034414323025241888), (1885, 0.004295954240033775), (1886, 0.020585884311968814), (1887, 0.010340306717502787), (1888, 0.0267299540891954), (1889, 0.004470325908199772), (1890, 0.0), (1891, 0.0035881772234601594), (1892, 0.0035696820813159993), (1893, 0.023022617043979593), (1894, 0.0), (1895, 0.016496270550226403), (1896, 0.018002736049329508), (1897, 0.02862463985578033), (1898, 0.004134665247184793), (1899, 0.004050222859381211), (1900, 0.0041798361752765295), (1901, 0.0), (1902, 0.008320857335791229), (1903, 0.06449420177431654), (1904, 0.0), (1905, 0.003961873631640785), (1906, 0.0), (1907, 0.013798833159639139), (1908, 0.02896048326495105), (1909, 0.004208642409945367), (1910, 0.007945998150876247), (1911, 0.032942987789462946), (1912, 0.004274331955465613), (1913, 0.010157475215514924), (1914, 0.008414240948106465), (1915, 0.08338303412634548), (1916, 0.0039027261355861257), (1917, 0.0), (1918, 0.003850374538161887), (1919, 0.06767915463232975), (1920, 0.008812596988602926), (1921, 0.012440986373293134), (1922, 0.0), (1923, 0.01799414383472133), (1924, 0.013417282368442442), (1925, 0.06516221379523911), (1926, 0.004714294221813377), (1927, 0.0), (1928, 0.009281028066642561), (1929, 0.015006096943253187), (1930, 0.0), (1931, 0.016875086547469817), (1932, 0.013815097590281036), (1933, 0.0), (1934, 0.01634695029090307), (1935, 0.02227361256142402), (1936, 0.1046722121169956), (1937, 0.0), (1938, 0.05289036356523624), (1939, 0.0056521471673407105), (1940, 0.0), (1941, 0.0050217716091658475), (1942, 0.010064814690802143), (1943, 0.0068823803530433745), (1944, 0.01557795035056778), (1945, 0.006180298665221684), (1946, 0.01579071121442506), (1947, 0.004269600599830487), (1948, 0.06206384757197767), (1949, 0.01504318492740231), (1950, 0.02293158357295242), (1951, 0.02929102438963082), (1952, 0.025812185208236325), (1953, 0.0), (1954, 0.003805191095118143), (1955, 0.004664065884256879), (1956, 0.004475675889357806), (1957, 0.02579938813802646), (1958, 0.012865095594690984), (1959, 0.012645400058363317), (1960, 0.0038575472278138383), (1961, 0.026847878012118527), (1962, 0.0), (1963, 0.013352411485466589), (1964, 0.06759086616735847), (1965, 0.019329939428567536), (1966, 0.0), (1967, 0.0037000503637974243), (1968, 0.014311076521036593), (1969, 0.01278990036084809), (1970, 0.009300295767741265), (1971, 0.018934057885757086), (1972, 0.0), (1973, 0.020812303892127983), (1974, 0.03198365373307834), (1975, 0.0), (1976, 0.0), (1977, 0.003258150493430768), (1978, 0.0), (1979, 0.0), (1980, 0.003898097822792812), (1981, 0.030683338802286145), (1982, 0.020879575471901758), (1983, 0.0455161046458716), (1984, 0.013261822781393066), (1985, 0.019237650206627217), (1986, 0.010437698229601), (1987, 0.012264470686288973), (1988, 0.020480174889072836), (1989, 0.0029657901609657766), (1990, 0.008366326413622286), (1991, 0.011427320201819293), (1992, 0.01752298268762291), (1993, 0.009355884182365442), (1994, 0.019335366956503904), (1995, 0.0043582610050885056), (1996, 0.028317353899363868), (1997, 0.013991845156653002), (1998, 0.008566076644816277), (1999, 0.0048427313283849), (2000, 0.05378011901537631), (2001, 0.032745070318480556), (2002, 0.0), (2003, 0.03992206972176076), (2004, 0.015695370005382313), (2005, 0.040084621366126796), (2006, 0.0037507913999913433), (2007, 0.016724825560150477), (2008, 0.009684503524714522), (2009, 0.005189448798110749), (2010, 0.0030146166085559204), (2011, 0.04020665732404774), (2012, 0.04234422869895879), (2013, 0.029403639124256382), (2014, 0.026810764929179144), (2015, 0.03715386485400938), (2016, 0.013624098775672772), (2017, 0.009190733780823091), (2018, 0.003665787918032895), (2019, 0.004301445305135495), (2020, 0.005494116237435171), (2021, 0.004759075545782768), (2022, 0.020096929814976943), (2023, 0.0034517107242265934), (2024, 0.017679003919440026), (2025, 0.0), (2026, 0.004268825046111782), (2027, 0.058632131172769685), (2028, 0.0), (2029, 0.02137299351429499), (2030, 0.0), (2031, 0.020076426122859935), (2032, 0.015356879094078704), (2033, 0.0038765574353872728), (2034, 0.015232078363531288), (2035, 0.014136055702259469), (2036, 0.03301347051712907), (2037, 0.026283674792785608), (2038, 0.0), (2039, 0.03417633202468431), (2040, 0.010538225103649369), (2041, 0.01931954842724289), (2042, 0.0), (2043, 0.06044799925781759), (2044, 0.0), (2045, 0.031635836743272305), (2046, 0.021522229080892012), (2047, 0.032728345747019244), (2048, 0.003858371653069745), (2049, 0.015894997290925313), (2050, 0.004185476658521565), (2051, 0.02099304909136791), (2052, 0.012049036918486283), (2053, 0.0038686892696570903), (2054, 0.0), (2055, 0.022700461291731963), (2056, 0.019181416377445477), (2057, 0.011217534066517782), (2058, 0.017797399057067793), (2059, 0.0), (2060, 0.004296687165145029), (2061, 0.012704146624027855), (2062, 0.023084368801975036), (2063, 0.0), (2064, 0.02521590375329829), (2065, 0.0194351038843918), (2066, 0.0), (2067, 0.0038692330189368028), (2068, 0.007764833558737915), (2069, 0.019630816959996363), (2070, 0.016109544871878753), (2071, 0.009068277499015), (2072, 0.00948188254216157), (2073, 0.003665126564608193), (2074, 0.053593075396070125), (2075, 0.00464604842537453), (2076, 0.003709550432583223), (2077, 0.005213050669466023), (2078, 0.0), (2079, 0.010274322785637583), (2080, 0.0), (2081, 0.004515754213494361), (2082, 0.004885144539843832), (2083, 0.017354071525869614), (2084, 0.017880666244421233), (2085, 0.009923197418776628), (2086, 0.004628304846414861), (2087, 0.014017445841130616), (2088, 0.027456027108645087), (2089, 0.004203869074469001), (2090, 0.004541975612046944), (2091, 0.003798707637057504), (2092, 0.012921892792820367), (2093, 0.004097447166000646), (2094, 0.014346318456136691), (2095, 0.018270775293036653), (2096, 0.010447029371228263), (2097, 0.004001583465639389), (2098, 0.005339060473386747), (2099, 0.017540367274233762), (2100, 0.008010199538611085), (2101, 0.011536463944859075), (2102, 0.04307889653209246), (2103, 0.009532564291596993), (2104, 0.025999337011552888), (2105, 0.0038371013521032718), (2106, 0.009018793236629599), (2107, 0.025493991684022534), (2108, 0.00898369285721681), (2109, 0.01521486021521172), (2110, 0.005749600841274295), (2111, 0.008473591779273221), (2112, 0.020353095817448222), (2113, 0.005205969026238442), (2114, 0.054396213568993365), (2115, 0.01799029147301084), (2116, 0.015563852324605092), (2117, 0.011597784994164449), (2118, 0.046789190208730416), (2119, 0.0057124935063594786), (2120, 0.01147324986008415), (2121, 0.00964990084190016), (2122, 0.02082361815207474), (2123, 0.0), (2124, 0.0), (2125, 0.004431646036857857), (2126, 0.009643613975313365), (2127, 0.026118360813386664), (2128, 0.01720479529185949), (2129, 0.01909596190772049), (2130, 0.0), (2131, 0.04745908284272758), (2132, 0.012833704926431762), (2133, 0.025582474829273782), (2134, 0.019294043430351918), (2135, 0.012266832124558594), (2136, 0.0), (2137, 0.051445967985609735), (2138, 0.0), (2139, 0.0), (2140, 0.004571541442671633), (2141, 0.0), (2142, 0.0), (2143, 0.035984365694873406), (2144, 0.024661921944325066), (2145, 0.03531997201944077), (2146, 0.003918713564739208), (2147, 0.03944838812296933), (2148, 0.009009332699312264), (2149, 0.003414838743766471), (2150, 0.017713598911424346), (2151, 0.009305125748300249), (2152, 0.051690508171608154), (2153, 0.004287180830852772), (2154, 0.011819892726743796), (2155, 0.039708228669762105), (2156, 0.013550039335638545), (2157, 0.0068496355238596126), (2158, 0.10894074197976315), (2159, 0.004000337218391982), (2160, 0.03828065839935745), (2161, 0.03508767422067093), (2162, 0.014718742558701902), (2163, 0.013038192499791972), (2164, 0.0), (2165, 0.0), (2166, 0.018063357123807362), (2167, 0.013273010558343568), (2168, 0.011424079459330602), (2169, 0.021335655423698564), (2170, 0.004045856651929357), (2171, 0.0), (2172, 0.0), (2173, 0.0), (2174, 0.03096535712891859), (2175, 0.023074167621156643), (2176, 0.028956557432446628), (2177, 0.007891895708434732), (2178, 0.05393330266858702), (2179, 0.00425668823001115), (2180, 0.05173374044712048), (2181, 0.0), (2182, 0.023549451844963272), (2183, 0.010739335318588776), (2184, 0.0), (2185, 0.005537949086545269), (2186, 0.005112123685775503), (2187, 0.004956349276422061), (2188, 0.021027639931919244), (2189, 0.0), (2190, 0.012349392026950049), (2191, 0.0033516083122014663), (2192, 0.004382861878001424), (2193, 0.019803747484379887), (2194, 0.004604651682927915), (2195, 0.012515097994072286), (2196, 0.009927159427960682), (2197, 0.0052315189698179665), (2198, 0.0604153159097843), (2199, 0.010117706735313675), (2200, 0.0), (2201, 0.007453279897135776), (2202, 0.026608196167101042), (2203, 0.01890404888532592), (2204, 0.007867891867011206), (2205, 0.026392875515309912), (2206, 0.0), (2207, 0.036695211836135715), (2208, 0.016575232576228043), (2209, 0.011737954865209427), (2210, 0.00357371206449683), (2211, 0.03090598189634173), (2212, 0.03457812936920966), (2213, 0.04006412746845116), (2214, 0.03372843478474713), (2215, 0.043182320519571236), (2216, 0.01747612686456189), (2217, 0.004444987761996244), (2218, 0.059585669809422065), (2219, 0.018089454829442256), (2220, 0.012914326904416526), (2221, 0.025435357549991017), (2222, 0.014106345163469473), (2223, 0.008790475838064686), (2224, 0.020436203287813044), (2225, 0.004022885690100333), (2226, 0.011993836773270357), (2227, 0.018457169908045225), (2228, 0.005456716511853377), (2229, 0.020878785001753723), (2230, 0.0038314563856824972), (2231, 0.05524833270779704), (2232, 0.0), (2233, 0.0), (2234, 0.008699103804805609), (2235, 0.0), (2236, 0.026425049548313102), (2237, 0.019215435158406825), (2238, 0.0), (2239, 0.047152073063558335), (2240, 0.01991717625765295), (2241, 0.014313756055884938), (2242, 0.00830017579956592), (2243, 0.0), (2244, 0.02217169994222439), (2245, 0.00875131319616561), (2246, 0.017974881768902766), (2247, 0.0), (2248, 0.0), (2249, 0.004496679826013962), (2250, 0.03085073940531013), (2251, 0.005093954909911551), (2252, 0.019929589544751023), (2253, 0.0), (2254, 0.0037991846053085664), (2255, 0.004751508686893188), (2256, 0.08099076177766296), (2257, 0.004723138756540359), (2258, 0.009902483010489037), (2259, 0.02376109541934037), (2260, 0.009000294896181028), (2261, 0.005001144700540518), (2262, 0.012266735060454125), (2263, 0.009875357967271837), (2264, 0.00395044695396653), (2265, 0.024974052844854842), (2266, 0.004418315999504288), (2267, 0.0), (2268, 0.02230264752318046), (2269, 0.02560338825985967), (2270, 0.0038322561421189074), (2271, 0.008136787428526108), (2272, 0.0), (2273, 0.03999552912784405), (2274, 0.03238607135445276), (2275, 0.0), (2276, 0.03492945826762302), (2277, 0.03337437218604627), (2278, 0.00938115461653495), (2279, 0.003671657115611465), (2280, 0.013437573403736795), (2281, 0.04139142584953911), (2282, 0.0), (2283, 0.0), (2284, 0.004422762361324482), (2285, 0.02200241212125649), (2286, 0.0045093159726614295), (2287, 0.020297655783492165), (2288, 0.0), (2289, 0.003945849660059591), (2290, 0.004357649488672198), (2291, 0.014394490388259247), (2292, 0.004537232292662188), (2293, 0.0), (2294, 0.044068590525705546), (2295, 0.0037292276627828597), (2296, 0.007598363107252136), (2297, 0.03383282924822775), (2298, 0.0), (2299, 0.0), (2300, 0.011448476229498745), (2301, 0.028677951061602), (2302, 0.00908330298356012), (2303, 0.020675551301431082), (2304, 0.009674033766905218), (2305, 0.0), (2306, 0.007534233165263466), (2307, 0.0), (2308, 0.005151662549210167), (2309, 0.019993321310878755), (2310, 0.0), (2311, 0.01930610890679925), (2312, 0.0), (2313, 0.0036616027728494163), (2314, 0.0), (2315, 0.0), (2316, 0.023307720780105116), (2317, 0.008986437614060629), (2318, 0.02036886263490424), (2319, 0.03046243706893635), (2320, 0.030691743208423633), (2321, 0.0261553719253739), (2322, 0.02135818468751982), (2323, 0.04902571910324788), (2324, 0.0), (2325, 0.0), (2326, 0.007737893269185499), (2327, 0.017540108616962907), (2328, 0.0), (2329, 0.013221777969387435), (2330, 0.0), (2331, 0.003753271054601345), (2332, 0.0), (2333, 0.005248750989993553), (2334, 0.02892665737244541), (2335, 0.010392572262191216), (2336, 0.004410191572557735), (2337, 0.0), (2338, 0.01974250282822331), (2339, 0.01724705264082651), (2340, 0.045618628082346874), (2341, 0.0), (2342, 0.0), (2343, 0.0), (2344, 0.0038927621580712095), (2345, 0.0), (2346, 0.0), (2347, 0.012165112055119926), (2348, 0.021221554371925945), (2349, 0.0049980373979316385), (2350, 0.035939048370411474), (2351, 0.04212244412540916), (2352, 0.012825567750297485), (2353, 0.014123796113369525), (2354, 0.0), (2355, 0.013041628224725047), (2356, 0.0), (2357, 0.0050183596279986635), (2358, 0.0), (2359, 0.003120537816728688), (2360, 0.010355546484613481), (2361, 0.003989352089932581), (2362, 0.0036074935426880102), (2363, 0.01717543385990639), (2364, 0.0036900768864250783), (2365, 0.0), (2366, 0.0), (2367, 0.01596132989291768), (2368, 0.016116634202878274), (2369, 0.0), (2370, 0.0), (2371, 0.024701535696823824), (2372, 0.0), (2373, 0.0), (2374, 0.0036557578890951373), (2375, 0.008614169223801298), (2376, 0.02881575622143158), (2377, 0.014576478915955437), (2378, 0.0), (2379, 0.011098894227541897), (2380, 0.0), (2381, 0.023225422173270855), (2382, 0.02236650069534503), (2383, 0.0), (2384, 0.0), (2385, 0.015988606668206083), (2386, 0.03944413321992029), (2387, 0.004514285137584023), (2388, 0.0043334997074638915), (2389, 0.02416377134221788), (2390, 0.003932666435983932), (2391, 0.008644983067083965), (2392, 0.0), (2393, 0.0037516377877895475), (2394, 0.008773245659059691), (2395, 0.00614382168010656), (2396, 0.004407830458229166), (2397, 0.007834206693082584), (2398, 0.0172722693111162), (2399, 0.007327317966966215), (2400, 0.00408078977697817), (2401, 0.0), (2402, 0.007722725239193347), (2403, 0.07755473354496348), (2404, 0.005899991475670406), (2405, 0.003762588851757533), (2406, 0.004375419301149786), (2407, 0.004839658582105533), (2408, 0.02197934933143879), (2409, 0.03450335592441466), (2410, 0.015373531436730672), (2411, 0.004151183560722856), (2412, 0.018966542099207083), (2413, 0.0), (2414, 0.009217855655439703), (2415, 0.004639995637357037), (2416, 0.01804693291424781), (2417, 0.007081626470241491), (2418, 0.025773197454766583), (2419, 0.0), (2420, 0.0047721487522732545), (2421, 0.028706841403692042), (2422, 0.02631349268674539), (2423, 0.010357898826945227), (2424, 0.0040855293081499084), (2425, 0.0), (2426, 0.009571239515305828), (2427, 0.025763249877635667), (2428, 0.004363943179295686), (2429, 0.0), (2430, 0.03774711318805473), (2431, 0.014016637752082726), (2432, 0.0), (2433, 0.003962929626388634), (2434, 0.009529535280421338), (2435, 0.004341148005088143), (2436, 0.03015029822131665), (2437, 0.004280659176688131), (2438, 0.004646458921743196), (2439, 0.009353822711584015), (2440, 0.004271149034778228), (2441, 0.021362872336258776), (2442, 0.0209516466532619), (2443, 0.047979271828602295), (2444, 0.013938177944407087), (2445, 0.0), (2446, 0.012967268681350237), (2447, 0.03083990763832719), (2448, 0.015492189616579364), (2449, 0.019060072489601745), (2450, 0.00429098980968789), (2451, 0.0), (2452, 0.0), (2453, 0.0034212118457060113), (2454, 0.0), (2455, 0.0), (2456, 0.004455928942873197), (2457, 0.0033949839556977985), (2458, 0.010669396958770066), (2459, 0.047155155600815894), (2460, 0.029155554517586942), (2461, 0.0323090127687243), (2462, 0.0), (2463, 0.051322483645060715), (2464, 0.005169712842513573), (2465, 0.017773640149986534), (2466, 0.003785562620160326), (2467, 0.007659909565121949), (2468, 0.005158791724393016), (2469, 0.018963955803434136), (2470, 0.0), (2471, 0.0), (2472, 0.004570922643776412), (2473, 0.009383262193847853), (2474, 0.05577436779212286), (2475, 0.0042923810773674905), (2476, 0.0), (2477, 0.013765216198198085), (2478, 0.009128265564863153), (2479, 0.005180200505494525), (2480, 0.04713605194421019), (2481, 0.018137015393966), (2482, 0.003444633374524779), (2483, 0.0), (2484, 0.004796489808333098), (2485, 0.020874781092271415), (2486, 0.020049089809783097), (2487, 0.03422936596815755), (2488, 0.009580462453035628), (2489, 0.003724558842188782), (2490, 0.005184920335084894), (2491, 0.00851948022246114), (2492, 0.026794378713530943), (2493, 0.02091573402409155), (2494, 0.0372049014871426), (2495, 0.004565702230421059), (2496, 0.016074203946252485), (2497, 0.012682562240726206), (2498, 0.04609327216543719), (2499, 0.0044639329117032635), (2500, 0.006001434037504768), (2501, 0.009283954924206401), (2502, 0.04366555864801764), (2503, 0.015245816128255355), (2504, 0.09777481585823222), (2505, 0.007179355762852063), (2506, 0.0), (2507, 0.004701004874219185), (2508, 0.012064894461558876), (2509, 0.05389941148702347), (2510, 0.04178372311004178), (2511, 0.025714239392716307), (2512, 0.007722121617692653), (2513, 0.042705118358261844), (2514, 0.008394091922467753), (2515, 0.0), (2516, 0.0), (2517, 0.005786253156400011), (2518, 0.010258166712624507), (2519, 0.020309782558917265), (2520, 0.014813007802377261), (2521, 0.0), (2522, 0.0331286316016971), (2523, 0.007284931162300344), (2524, 0.009899468754572137), (2525, 0.008358335205401872), (2526, 0.010850664020503676), (2527, 0.038596238031770286), (2528, 0.06471891392710581), (2529, 0.01154093400817483), (2530, 0.014907756097112432), (2531, 0.02574701259661847), (2532, 0.0), (2533, 0.0), (2534, 0.0342263249377005), (2535, 0.035558154744719225), (2536, 0.0), (2537, 0.005826667412337686), (2538, 0.00227711951968969), (2539, 0.02326759049308759), (2540, 0.0035245817121497304), (2541, 0.0), (2542, 0.00791361566841227), (2543, 0.005585430701996283), (2544, 0.005831402738988057), (2545, 0.006728484425960207), (2546, 0.028531814776658268), (2547, 0.06863979144472072), (2548, 0.04527357986347999), (2549, 0.0), (2550, 0.028005533783560858), (2551, 0.0), (2552, 0.00860145085937295), (2553, 0.03441094216561409), (2554, 0.008311409724664412), (2555, 0.0039982770384163506), (2556, 0.003492265339687971), (2557, 0.0), (2558, 0.045561660648412265), (2559, 0.00480829092064761), (2560, 0.014213531074240515), (2561, 0.0047917355615730755), (2562, 0.0225720618455633), (2563, 0.008224796693060822), (2564, 0.027446605942308064), (2565, 0.03181596093771609), (2566, 0.004587852802218173), (2567, 0.0), (2568, 0.025960367313954673), (2569, 0.004476103942249319), (2570, 0.009419037893904879), (2571, 0.009082237511721875), (2572, 0.006122360121347192), (2573, 0.0), (2574, 0.021251936804123413), (2575, 0.004921123549609239), (2576, 0.016243851055985796), (2577, 0.0), (2578, 0.0), (2579, 0.013410871120876515), (2580, 0.017976446732937464), (2581, 0.016368462978867876), (2582, 0.05076302385546234), (2583, 0.0), (2584, 0.07791121955451197), (2585, 0.01053084347634226), (2586, 0.004484437404634845), (2587, 0.021299186249239474), (2588, 0.040249632508319574), (2589, 0.0), (2590, 0.004239439918333115), (2591, 0.02401369230134167), (2592, 0.00886610564351947), (2593, 0.0035839121404983142), (2594, 0.004181511878393689), (2595, 0.06417480767600117), (2596, 0.0), (2597, 0.0070561353287761815), (2598, 0.036611417035537504), (2599, 0.0), (2600, 0.005676659002696823), (2601, 0.015074180218479016), (2602, 0.0032423324123894526), (2603, 0.01995125662050544), (2604, 0.004817921152449408), (2605, 0.018099345166141947), (2606, 0.003667451233472536), (2607, 0.03503467880813589), (2608, 0.01242825671714114), (2609, 0.0038230218049764156), (2610, 0.018633363969321595), (2611, 0.021970895570014824), (2612, 0.0343428059911409), (2613, 0.0), (2614, 0.007703219032280428), (2615, 0.012310643660447044), (2616, 0.051926600741727336), (2617, 0.015884923094927415), (2618, 0.019955937499845432), (2619, 0.015220406213901264), (2620, 0.0), (2621, 0.018107880287331936), (2622, 0.023533770065695316), (2623, 0.004291653313648209), (2624, 0.020554844544904888), (2625, 0.04189831351023051), (2626, 0.018460125825341997), (2627, 0.05566080941232225), (2628, 0.0), (2629, 0.004048033047651904), (2630, 0.0), (2631, 0.008638116187665112), (2632, 0.02844577996186657), (2633, 0.02466015137106939), (2634, 0.046855821850268986), (2635, 0.00498357348671899), (2636, 0.006875816798955762), (2637, 0.011694651196496611), (2638, 0.01105522555525311), (2639, 0.0), (2640, 0.015467957276356723), (2641, 0.013007549344840753), (2642, 0.04603139193405881), (2643, 0.004930384085992181), (2644, 0.004162081133396049), (2645, 0.02747478052061307), (2646, 0.0035128483102507603), (2647, 0.02670936691101631), (2648, 0.012231860299078814), (2649, 0.0), (2650, 0.12238049134318153), (2651, 0.032830332963896446), (2652, 0.025554301124046018), (2653, 0.02301353310458741), (2654, 0.015765393780387795), (2655, 0.0049668087284704225), (2656, 0.027651229387715488), (2657, 0.0), (2658, 0.0), (2659, 0.0), (2660, 0.03703392377459107), (2661, 0.008312065065564948), (2662, 0.004651627610078315), (2663, 0.008558767554442384), (2664, 0.004165500001355417), (2665, 0.024096780751090507), (2666, 0.046244805973363015), (2667, 0.0), (2668, 0.028823512645540214), (2669, 0.0), (2670, 0.0), (2671, 0.020740414779063757), (2672, 0.014603797866702253), (2673, 0.011453909703597605), (2674, 0.0035047820538582916), (2675, 0.009826369687454487), (2676, 0.0), (2677, 0.0043041269946996665), (2678, 0.012825068787304168), (2679, 0.0), (2680, 0.035153656164751586), (2681, 0.028912981299560818), (2682, 0.00831315801839482), (2683, 0.0), (2684, 0.0), (2685, 0.004420206107928807), (2686, 0.0), (2687, 0.007949304063400529), (2688, 0.02189182500775292), (2689, 0.029049664116161493), (2690, 0.004363014936726365), (2691, 0.029084760445619452), (2692, 0.008556266387176359), (2693, 0.004272399058142054), (2694, 0.0), (2695, 0.0036761122250593206), (2696, 0.009414306800769746), (2697, 0.0030321272864724143), (2698, 0.03122774038141954), (2699, 0.025692192931026748), (2700, 0.0), (2701, 0.05614762728602185), (2702, 0.009195017235420834), (2703, 0.0), (2704, 0.014344535580088488), (2705, 0.004112579188559186), (2706, 0.02342414161383302), (2707, 0.0), (2708, 0.006396685110140306), (2709, 0.004683323037072415), (2710, 0.009404603563524292), (2711, 0.06663893325117316), (2712, 0.02642984825027267), (2713, 0.0), (2714, 0.017567994183288714), (2715, 0.005767980182755793), (2716, 0.0035754048716425085), (2717, 0.0), (2718, 0.0), (2719, 0.0), (2720, 0.015354853993656332), (2721, 0.00389839479915223), (2722, 0.026316603885591344), (2723, 0.0), (2724, 0.019713416206442805), (2725, 0.022975823854916755), (2726, 0.010705201634235386), (2727, 0.005327651123662478), (2728, 0.004147677809979843), (2729, 0.018403130257349895), (2730, 0.0052347109410152875), (2731, 0.03372689470810501), (2732, 0.03315559434994366), (2733, 0.0), (2734, 0.00739172592054137), (2735, 0.0), (2736, 0.008824851018047798), (2737, 0.006814200708673083), (2738, 0.016397074957962804), (2739, 0.023404472458787073), (2740, 0.021852755764988), (2741, 0.007405650443108916), (2742, 0.005621057912388344), (2743, 0.003467309448922864), (2744, 0.014479934825529832), (2745, 0.03462565632305539), (2746, 0.017648915913762334), (2747, 0.01118251673414902), (2748, 0.004300518603652212), (2749, 0.008165373156922178), (2750, 0.0), (2751, 0.013735207578321657), (2752, 0.0), (2753, 0.0), (2754, 0.004886437460264334), (2755, 0.03708140641315541), (2756, 0.005257953840227194), (2757, 0.0), (2758, 0.018637189519352223), (2759, 0.006571743717767239), (2760, 0.040158857278973725), (2761, 0.010850568407717018), (2762, 0.016205902110240634), (2763, 0.02225682153022912), (2764, 0.011185133371858872), (2765, 0.01766072825462561), (2766, 0.05179879197509198), (2767, 0.0028829392817156015), (2768, 0.005029271871456231), (2769, 0.02606231550083621), (2770, 0.003966307296233708), (2771, 0.013644128442558618), (2772, 0.004330657033018514), (2773, 0.0), (2774, 0.041052391355969824), (2775, 0.004905888946453608), (2776, 0.008499132935473448), (2777, 0.018322455900231627), (2778, 0.004439950698168578), (2779, 0.03756067489279205), (2780, 0.03910837951876892), (2781, 0.005233074815337803), (2782, 0.00876204047898179), (2783, 0.0), (2784, 0.025459088099617964), (2785, 0.0), (2786, 0.0052096009804620666), (2787, 0.004275161964707925), (2788, 0.0), (2789, 0.023702871629088223), (2790, 0.019505407145830315), (2791, 0.02859292792859948), (2792, 0.017949483185547024), (2793, 0.01846326720627141), (2794, 0.004451632167199541), (2795, 0.004720013733022939), (2796, 0.009383554793935102), (2797, 0.010026927490691393), (2798, 0.028692353768618818), (2799, 0.029611731780795243), (2800, 0.00342620429832775), (2801, 0.016238849691960554), (2802, 0.024722745905154934), (2803, 0.009038756429292506), (2804, 0.004282100014870643), (2805, 0.011931481273478671), (2806, 0.0), (2807, 0.02687773919059456), (2808, 0.02700840593878359), (2809, 0.017185996877585995), (2810, 0.0050117324724228704), (2811, 0.004664141208041079), (2812, 0.02337869077484953), (2813, 0.02680271300079448), (2814, 0.02287990258377512), (2815, 0.0), (2816, 0.020525405129839573), (2817, 0.014333165168471136), (2818, 0.013030831728063063), (2819, 0.029177141135479836), (2820, 0.009195176204955193), (2821, 0.026273902374939213), (2822, 0.053782704176714574), (2823, 0.004238497108353481), (2824, 0.0), (2825, 0.004264123679965861), (2826, 0.01274418288677177), (2827, 0.008830671650284025), (2828, 0.0), (2829, 0.004141667679476495), (2830, 0.003972867201069093), (2831, 0.009637336882861176), (2832, 0.011061366424014781), (2833, 0.0038491877869313946), (2834, 0.020818739151478884), (2835, 0.007987713123716352), (2836, 0.004312641637306076), (2837, 0.0), (2838, 0.024282893156037343), (2839, 0.023877709191859917), (2840, 0.019902199090541077), (2841, 0.017834869671246076), (2842, 0.00787411409120122), (2843, 0.011633846312585804), (2844, 0.05302151157982211), (2845, 0.02861849088252528), (2846, 0.005116308386700559), (2847, 0.008241736302075007), (2848, 0.030955840798733814), (2849, 0.0), (2850, 0.021859460732556568), (2851, 0.0), (2852, 0.004881291790683239), (2853, 0.009394548553345712), (2854, 0.04256191574990978), (2855, 0.012315654321591759), (2856, 0.00448378988081343), (2857, 0.040037816590459456), (2858, 0.0060755905684936546), (2859, 0.0180156134467293), (2860, 0.0), (2861, 0.0), (2862, 0.01209289791528229), (2863, 0.009060535652621654), (2864, 0.0), (2865, 0.014232888942579203), (2866, 0.004275723849709234), (2867, 0.07020468636320865), (2868, 0.01144977466388856), (2869, 0.0), (2870, 0.02530468066688351), (2871, 0.013402728639133827), (2872, 0.009396496409724783), (2873, 0.021581786526007063), (2874, 0.009531608393850508), (2875, 0.0), (2876, 0.03133317860343671), (2877, 0.007159331392671053), (2878, 0.03208804176859542), (2879, 0.004488060150620016), (2880, 0.004712898135824818), (2881, 0.004188418536146883), (2882, 0.0046512002931291185), (2883, 0.00491658317776992), (2884, 0.04031206386782096), (2885, 0.0), (2886, 0.0035707473861650244), (2887, 0.0036750524416968443), (2888, 0.004109914577122992), (2889, 0.0048731148085867), (2890, 0.004393260383669625), (2891, 0.0060218007974319875), (2892, 0.02309506031043402), (2893, 0.013905034632140434), (2894, 0.02558837361592947), (2895, 0.025833405288820405), (2896, 0.0), (2897, 0.013144269976820435), (2898, 0.00928544273862551), (2899, 0.02087917756643496), (2900, 0.009556765926256108), (2901, 0.004809463896268929), (2902, 0.0), (2903, 0.00406221792815037), (2904, 0.0037003017361722863), (2905, 0.0), (2906, 0.016024131816061743), (2907, 0.0035344019855190326), (2908, 0.02571142950112921), (2909, 0.0), (2910, 0.013297946186504258), (2911, 0.013635771281387172), (2912, 0.004303693031506381), (2913, 0.003786781705510644), (2914, 0.004281834332161667), (2915, 0.010894861466148575), (2916, 0.00424328015542542), (2917, 0.012765547319263817), (2918, 0.0), (2919, 0.003809936720777688), (2920, 0.024068025613553375), (2921, 0.0), (2922, 0.0), (2923, 0.0456559895243393), (2924, 0.019569829937793826), (2925, 0.006511891616483875), (2926, 0.008483555809961844), (2927, 0.0), (2928, 0.00556309448662868), (2929, 0.005509920113385647), (2930, 0.0), (2931, 0.03402169183802438), (2932, 0.0048391941355178), (2933, 0.031958127492317266), (2934, 0.003741373666905085), (2935, 0.0180695929393662), (2936, 0.023653115732375836), (2937, 0.0), (2938, 0.008952377915921374), (2939, 0.0), (2940, 0.013993756047954269), (2941, 0.0), (2942, 0.013482721602852833), (2943, 0.004083310167799679), (2944, 0.04602500051380237), (2945, 0.007908397039216569), (2946, 0.0036794153073280316), (2947, 0.0), (2948, 0.005513900956306917), (2949, 0.09060797392924481), (2950, 0.0), (2951, 0.014499635936455433), (2952, 0.0), (2953, 0.0), (2954, 0.012657513520533691), (2955, 0.009084347507282141), (2956, 0.0), (2957, 0.0), (2958, 0.010682184818085978), (2959, 0.0), (2960, 0.0), (2961, 0.0036732546283146823), (2962, 0.03334722755556193), (2963, 0.009701906924451784), (2964, 0.04803781636283318), (2965, 0.003574924221379265), (2966, 0.004546749201082507), (2967, 0.0), (2968, 0.009849580000854312), (2969, 0.02142269741652933), (2970, 0.004694844680628249), (2971, 0.00409960444414597), (2972, 0.022605713068897918), (2973, 0.004451033949323817), (2974, 0.004185675264845505), (2975, 0.037238150910831616), (2976, 0.0032275411773461), (2977, 0.023027493414908968), (2978, 0.024479826695978098), (2979, 0.0047804093298893366), (2980, 0.009674150523779184), (2981, 0.049094095811963404), (2982, 0.004900853659918807), (2983, 0.005600317988726553), (2984, 0.0281293130133428), (2985, 0.012865935755556506), (2986, 0.009391903178649168), (2987, 0.0), (2988, 0.019049975244352504), (2989, 0.005115062367987176), (2990, 0.0), (2991, 0.0), (2992, 0.009887946310125637), (2993, 0.0), (2994, 0.01423472587424317), (2995, 0.0035280204714021593), (2996, 0.023077478907181447), (2997, 0.0), (2998, 0.0052492970092817455), (2999, 0.008496359985930539), (3000, 0.009475536464392139), (3001, 0.02857628489195016), (3002, 0.0), (3003, 0.004902441269340445), (3004, 0.0043551168468859295), (3005, 0.03331788044669338), (3006, 0.0), (3007, 0.0), (3008, 0.007007449715831069), (3009, 0.0057462702489947), (3010, 0.01786516617851941), (3011, 0.017880215516170757), (3012, 0.004337253791956608), (3013, 0.003970112793042359), (3014, 0.041406226419279525), (3015, 0.00467738878580568), (3016, 0.02702066908081125), (3017, 0.005282873787944543), (3018, 0.08419963478678703), (3019, 0.03363026164030823), (3020, 0.005329151082968366), (3021, 0.007898363692909973), (3022, 0.02106943740880371), (3023, 0.04418501742204099), (3024, 0.003066889595462436), (3025, 0.0), (3026, 0.019154092877910638), (3027, 0.011789939228906124), (3028, 0.024438222341444577), (3029, 0.0), (3030, 0.0), (3031, 0.0), (3032, 0.004155497192603636), (3033, 0.019667601890012078), (3034, 0.03894153482679786), (3035, 0.0), (3036, 0.003664346503804606), (3037, 0.004011887930047535), (3038, 0.0), (3039, 0.011799222399135575), (3040, 0.006106930586755412), (3041, 0.0), (3042, 0.005781406692649321), (3043, 0.004026420166295223), (3044, 0.02374109245944616), (3045, 0.0331199037403153), (3046, 0.014668189392752998), (3047, 0.0), (3048, 0.0), (3049, 0.0), (3050, 0.007713488558742473), (3051, 0.005067532859476718), (3052, 0.0), (3053, 0.009128537665766), (3054, 0.0), (3055, 0.0), (3056, 0.003117745190908534), (3057, 0.0), (3058, 0.0), (3059, 0.0), (3060, 0.0), (3061, 0.004524041283694731), (3062, 0.009329770760456296), (3063, 0.029287621861663567), (3064, 0.0), (3065, 0.00871212822529003), (3066, 0.03908029981169511), (3067, 0.009783539560081095), (3068, 0.0), (3069, 0.0), (3070, 0.04036665345900331), (3071, 0.024595559097736926), (3072, 0.004399849537567323), (3073, 0.02374222347988656), (3074, 0.004623729966420892), (3075, 0.003861219647061389), (3076, 0.026497638991061365), (3077, 0.017043411932453054), (3078, 0.0054847072727529506), (3079, 0.0), (3080, 0.005044336563830117), (3081, 0.004504918170018813), (3082, 0.007523733384721719), (3083, 0.05553647282629283), (3084, 0.004549307793570897), (3085, 0.04939503440467261), (3086, 0.003844111081523392), (3087, 0.0), (3088, 0.0), (3089, 0.02076571584352331), (3090, 0.0), (3091, 0.020928222917636068), (3092, 0.010514129510534013), (3093, 0.0), (3094, 0.0368673617630072), (3095, 0.006437972561103295), (3096, 0.05477502002296729), (3097, 0.02220326438165633), (3098, 0.007827623773200764), (3099, 0.01303109901479182), (3100, 0.0), (3101, 0.010036042413994738), (3102, 0.004435085632356898), (3103, 0.0), (3104, 0.0), (3105, 0.0), (3106, 0.0), (3107, 0.0), (3108, 0.020670733250375155), (3109, 0.004844390041918487), (3110, 0.0), (3111, 0.019415490687732136), (3112, 0.003962655644435375), (3113, 0.004575671700843826), (3114, 0.005758694667729448), (3115, 0.0), (3116, 0.004069809707919766), (3117, 0.010410944684700035), (3118, 0.021676506746232976), (3119, 0.0), (3120, 0.0033559723403703587), (3121, 0.02001933242527473), (3122, 0.021748531613270165), (3123, 0.004345592626596238), (3124, 0.0), (3125, 0.013123976426104182), (3126, 0.0), (3127, 0.020523267941245572), (3128, 0.0), (3129, 0.031143226093776497), (3130, 0.023702071166432834), (3131, 0.0), (3132, 0.024014983628128612), (3133, 0.020882520277355668), (3134, 0.023211196306263657), (3135, 0.02818789965214192), (3136, 0.0), (3137, 0.011113749697253442), (3138, 0.0), (3139, 0.0060265936754622254), (3140, 0.0047113734094351295), (3141, 0.05192041708589755), (3142, 0.06483974245337475), (3143, 0.02834870698387571), (3144, 0.029467917346392675), (3145, 0.012382934628220208), (3146, 0.00880752874278952), (3147, 0.020157084384968722), (3148, 0.004109375179887979), (3149, 0.03076607330339113), (3150, 0.013701048175089374), (3151, 0.018619410159821152), (3152, 0.015476238825854544), (3153, 0.03348669926273807), (3154, 0.03616320016367176), (3155, 0.0044490507651618735), (3156, 0.0), (3157, 0.021651346848699224), (3158, 0.0), (3159, 0.0), (3160, 0.0), (3161, 0.0), (3162, 0.0), (3163, 0.009200689819586503), (3164, 0.005148256642117652), (3165, 0.004326817222567621), (3166, 0.0221973603413059), (3167, 0.0), (3168, 0.022777148085276894), (3169, 0.014703147181610782), (3170, 0.0036162771916179947), (3171, 0.003598500786805655), (3172, 0.02585938817437551), (3173, 0.022514807212877026), (3174, 0.0), (3175, 0.014398834278395129), (3176, 0.0), (3177, 0.004142616193745762), (3178, 0.012333857232251215), (3179, 0.030752893363939788), (3180, 0.0), (3181, 0.05164056035424615), (3182, 0.012649499565563254), (3183, 0.008713909202128806), (3184, 0.029831216063734844), (3185, 0.0), (3186, 0.0), (3187, 0.00877726855668572), (3188, 0.01376108920102654), (3189, 0.004611544445996816), (3190, 0.009575735846752972), (3191, 0.0), (3192, 0.009515901840701065), (3193, 0.015182727129600976), (3194, 0.007670268775483909), (3195, 0.003589254133222336), (3196, 0.00404936053696831), (3197, 0.026750995467077508), (3198, 0.008690484500740196), (3199, 0.02334426051707108), (3200, 0.028955873348878763), (3201, 0.008430950524791954), (3202, 0.0), (3203, 0.0), (3204, 0.0), (3205, 0.041330274701125734), (3206, 0.0), (3207, 0.0), (3208, 0.0), (3209, 0.0), (3210, 0.003888277259381315), (3211, 0.008097230115633238), (3212, 0.0036882380070256907), (3213, 0.0), (3214, 0.02541618359420117), (3215, 0.00531029271009465), (3216, 0.0), (3217, 0.005734421187450515), (3218, 0.025219661497382397), (3219, 0.004756927615269045), (3220, 0.00771446275608997), (3221, 0.00487179874278831), (3222, 0.012969066339660698), (3223, 0.0), (3224, 0.00454535925103342), (3225, 0.021614316484973518), (3226, 0.02300286050294747), (3227, 0.029117030673123424), (3228, 0.011455252700373654), (3229, 0.004593408169429194), (3230, 0.0), (3231, 0.01219622965016218), (3232, 0.01498764143750628), (3233, 0.026848013981757214), (3234, 0.024022199733799342), (3235, 0.003923960721898764), (3236, 0.004559537211269025), (3237, 0.03307732238568313), (3238, 0.031215965852681514), (3239, 0.010466743012552102), (3240, 0.05136626752282168), (3241, 0.0037815492196568118), (3242, 0.011977427212418752), (3243, 0.017474527388116962), (3244, 0.009586439873324547), (3245, 0.004559259436929351), (3246, 0.009921116581299416), (3247, 0.00765940297072558), (3248, 0.004191105589759855), (3249, 0.005351682953730588), (3250, 0.0), (3251, 0.0), (3252, 0.0), (3253, 0.029956399039375532), (3254, 0.003177855909688211), (3255, 0.0), (3256, 0.012454535470451788), (3257, 0.0051519149816833185), (3258, 0.009143251167735095), (3259, 0.02194881641834516), (3260, 0.01321438405061827), (3261, 0.0), (3262, 0.005031316293083684), (3263, 0.0), (3264, 0.01627506560521188), (3265, 0.02429098440982333), (3266, 0.0), (3267, 0.004045492563880205), (3268, 0.0036685354442083547), (3269, 0.015130410971042443), (3270, 0.026375715762695234), (3271, 0.009305649993214109), (3272, 0.013586546206439894), (3273, 0.003991832376272053), (3274, 0.004233448953960465), (3275, 0.02239669700108812), (3276, 0.005291051494836229), (3277, 0.009949705473867445), (3278, 0.003447394655384576), (3279, 0.026094989522345055), (3280, 0.0), (3281, 0.0), (3282, 0.009958632341823235), (3283, 0.02607282010492115), (3284, 0.03488425921893079), (3285, 0.07645964666460146), (3286, 0.02620767567338647), (3287, 0.01971762437583847), (3288, 0.010454109696842417), (3289, 0.040351740645248366), (3290, 0.0045883834472947235), (3291, 0.005235565253076737), (3292, 0.0), (3293, 0.02468798884539252), (3294, 0.05288357942552087), (3295, 0.059417307526524334), (3296, 0.004202245277801359), (3297, 0.04934712138147421), (3298, 0.02485677311305216), (3299, 0.012067732800349335), (3300, 0.0034656902350906236), (3301, 0.003113055714407185), (3302, 0.004336937983314437), (3303, 0.017580754682713702), (3304, 0.017729156128039256), (3305, 0.0), (3306, 0.00840421612054442), (3307, 0.010057766532920075), (3308, 0.03367779396586307), (3309, 0.010095255036548224), (3310, 0.009975966353436274), (3311, 0.015948030738190587), (3312, 0.0), (3313, 0.011220706187579187), (3314, 0.015885539695910268), (3315, 0.016143999609016232), (3316, 0.02502966884938888), (3317, 0.010596270123309893), (3318, 0.020258128180218556), (3319, 0.004037952359770609), (3320, 0.012909241178071726), (3321, 0.009295001615697903), (3322, 0.0), (3323, 0.023221271276717238), (3324, 0.0), (3325, 0.07057274690885892), (3326, 0.003829325592501398), (3327, 0.011459971276350522), (3328, 0.041024284580755035), (3329, 0.018007903189530314), (3330, 0.012937003863967164), (3331, 0.0031742093989396364), (3332, 0.004456394394889992), (3333, 0.016587922099180055), (3334, 0.0), (3335, 0.03875369306370985), (3336, 0.07382231731727806), (3337, 0.005029467668857818), (3338, 0.0), (3339, 0.0), (3340, 0.0), (3341, 0.0), (3342, 0.023956517629189305), (3343, 0.00895342504403505), (3344, 0.051389224124769484), (3345, 0.022777878432918643), (3346, 0.009803420821859721), (3347, 0.0030945863003538454), (3348, 0.04806862116085702), (3349, 0.008518280259420884), (3350, 0.0), (3351, 0.016189493945413417), (3352, 0.039624641602989265), (3353, 0.0038328935955817297), (3354, 0.0), (3355, 0.021641660662021632), (3356, 0.0), (3357, 0.009560943621326886), (3358, 0.0), (3359, 0.004351492365695962), (3360, 0.037819740384275026), (3361, 0.0), (3362, 0.04802330879138715), (3363, 0.00444870140345737), (3364, 0.08125737532699769), (3365, 0.009261861453121776), (3366, 0.004257510345554351), (3367, 0.026430856797642822), (3368, 0.04669751255400978), (3369, 0.0), (3370, 0.0034259872856243073), (3371, 0.005144751155243905), (3372, 0.0), (3373, 0.00480917462400096), (3374, 0.013607374474126055), (3375, 0.018632502302079725), (3376, 0.0), (3377, 0.03512945754447093), (3378, 0.0), (3379, 0.0035141505130366502), (3380, 0.0433187488686195), (3381, 0.0), (3382, 0.004491060550414641), (3383, 0.0), (3384, 0.017549709742985267), (3385, 0.0), (3386, 0.033938291754365905), (3387, 0.016801439675007045), (3388, 0.021693451104238266), (3389, 0.04176032325339418), (3390, 0.013841220194946371), (3391, 0.013461726425220293), (3392, 0.0), (3393, 0.0448124968135723), (3394, 0.028119984596906816), (3395, 0.03303089476548006), (3396, 0.0), (3397, 0.025917475139654443), (3398, 0.017252574778718888), (3399, 0.01801519577447861), (3400, 0.0045741990644381555), (3401, 0.02406014340767102), (3402, 0.007913852758196747), (3403, 0.02140838009777814), (3404, 0.0), (3405, 0.0), (3406, 0.013958716820286515), (3407, 0.026413061152973816), (3408, 0.019062128458728844), (3409, 0.02757736596113588), (3410, 0.015955112834104456), (3411, 0.012284024065260619), (3412, 0.008708586522902377), (3413, 0.009375910996711066), (3414, 0.06187673758952014), (3415, 0.0), (3416, 0.0061044644632262295), (3417, 0.004034703082787038), (3418, 0.007801828146590127), (3419, 0.0), (3420, 0.02843098475506125), (3421, 0.00989368999973023), (3422, 0.0), (3423, 0.0071813680490070515), (3424, 0.05296436761281278), (3425, 0.004137893632702488), (3426, 0.027090130912421184), (3427, 0.0), (3428, 0.0), (3429, 0.0), (3430, 0.003657266571851564), (3431, 0.0), (3432, 0.0), (3433, 0.023725668082515198), (3434, 0.0), (3435, 0.03065456477158291), (3436, 0.0183485401725317), (3437, 0.019277688078107386), (3438, 0.0), (3439, 0.005883825957583429), (3440, 0.0), (3441, 0.0), (3442, 0.0), (3443, 0.00444313972199829), (3444, 0.014716413076256814), (3445, 0.0036788067894936603), (3446, 0.009293463654356349), (3447, 0.05776774874574589), (3448, 0.01145657469157033), (3449, 0.0318491692440285), (3450, 0.0449948004675876), (3451, 0.017501395423228223), (3452, 0.0), (3453, 0.0), (3454, 0.017715681901774822), (3455, 0.0), (3456, 0.02318090117714731), (3457, 0.038807929887130485), (3458, 0.0376035396528183), (3459, 0.0203515703524271), (3460, 0.06693963283786572), (3461, 0.01441202642600873), (3462, 0.0), (3463, 0.05978611489552432), (3464, 0.013918135118822804), (3465, 0.008700042939663975), (3466, 0.0), (3467, 0.021591489864556956), (3468, 0.0), (3469, 0.03824095693919368), (3470, 0.023958825003056135), (3471, 0.011181368827944143), (3472, 0.0), (3473, 0.0), (3474, 0.023215046010233324), (3475, 0.03358828735263951), (3476, 0.0), (3477, 0.053328747973552595), (3478, 0.02267757079467403), (3479, 0.010441149405728625), (3480, 0.0), (3481, 0.008674240871385713), (3482, 0.0), (3483, 0.01005948660359372), (3484, 0.04645798321719285), (3485, 0.003929850266305887), (3486, 0.04006822580128031), (3487, 0.02526766436773062), (3488, 0.0), (3489, 0.0), (3490, 0.0), (3491, 0.009282730810570499), (3492, 0.01644092803711681), (3493, 0.008452453518031968), (3494, 0.0), (3495, 0.010530508524477115), (3496, 0.008428297036995592), (3497, 0.0), (3498, 0.028667675658319534), (3499, 0.013781611626403302), (3500, 0.007951419812388063), (3501, 0.0038249736608742726), (3502, 0.011100913269781961), (3503, 0.0034348840609044924), (3504, 0.00931580944620549), (3505, 0.016330273828904607), (3506, 0.004129734264127559), (3507, 0.009519469784878618), (3508, 0.016549573815525548), (3509, 0.005360149185258596), (3510, 0.009840586013152337), (3511, 0.01279748810483164), (3512, 0.03665366169917534), (3513, 0.004464651644445746), (3514, 0.016446104595443184), (3515, 0.026186491110116998), (3516, 0.018439265280498527), (3517, 0.00437441513001606), (3518, 0.030813521661570347), (3519, 0.0), (3520, 0.0), (3521, 0.004408218331818459), (3522, 0.0), (3523, 0.0), (3524, 0.03847795307349657), (3525, 0.007692967208024958), (3526, 0.013220162493976683), (3527, 0.0039234114363685835), (3528, 0.008709695858075569), (3529, 0.004644261369219222), (3530, 0.0), (3531, 0.026230992681568685), (3532, 0.014328498509400059), (3533, 0.02472978103645785), (3534, 0.05004241466910038), (3535, 0.0), (3536, 0.015446209066162557), (3537, 0.0054095026480155545), (3538, 0.010563382951444914), (3539, 0.01628397988029677), (3540, 0.016510716770195104), (3541, 0.01592371431855878), (3542, 0.0037512485667902107), (3543, 0.0), (3544, 0.005371849905176433), (3545, 0.004848898553129559), (3546, 0.03753732183882237), (3547, 0.0), (3548, 0.0), (3549, 0.014039320438841128), (3550, 0.0), (3551, 0.0220230065353166), (3552, 0.012773252863804182), (3553, 0.010054216610217954), (3554, 0.005137308306566719), (3555, 0.014345015224579717), (3556, 0.0032083999769150313), (3557, 0.03455770998293068), (3558, 0.01531046642307025), (3559, 0.008958394343692149), (3560, 0.004163519947960501), (3561, 0.0), (3562, 0.012960670985216693), (3563, 0.022658101328255457), (3564, 0.01690872069154513), (3565, 0.00889680168211814), (3566, 0.015049614364996786), (3567, 0.009012194377498908), (3568, 0.009135054909687275), (3569, 0.01621589725814671), (3570, 0.004417398679585541), (3571, 0.016909239715172518), (3572, 0.0), (3573, 0.0), (3574, 0.003389878408881517), (3575, 0.01685724730921215), (3576, 0.0), (3577, 0.020410765246314903), (3578, 0.011465724655427613), (3579, 0.021162750692660624), (3580, 0.011258541683952503), (3581, 0.004793159117791874), (3582, 0.004227599051245293), (3583, 0.01625260753097623), (3584, 0.014130787455184757), (3585, 0.008842886964000042), (3586, 0.0), (3587, 0.0), (3588, 0.010078122438188787), (3589, 0.027041138592089658), (3590, 0.004180898897762166), (3591, 0.0), (3592, 0.0323400559510897), (3593, 0.0), (3594, 0.015498397447384972), (3595, 0.00420787816110687), (3596, 0.006406892133137675), (3597, 0.0), (3598, 0.017795170482177734), (3599, 0.078894624270994), (3600, 0.0), (3601, 0.026964853511180664), (3602, 0.0), (3603, 0.01955679019880808), (3604, 0.01210648368343387), (3605, 0.0), (3606, 0.004294853486686974), (3607, 0.0), (3608, 0.0), (3609, 0.0), (3610, 0.02067013084820752), (3611, 0.08696951115875783), (3612, 0.06258469937682479), (3613, 0.004641167338201897), (3614, 0.03818175787395473), (3615, 0.0), (3616, 0.015884328082624185), (3617, 0.0), (3618, 0.014176270431751885), (3619, 0.0527440097419549), (3620, 0.004453380478624136), (3621, 0.005050469791668728), (3622, 0.004235321918565342), (3623, 0.018996657258253218), (3624, 0.0037759166176871244), (3625, 0.0), (3626, 0.024493498587315126), (3627, 0.0), (3628, 0.00479938493367096), (3629, 0.018533141940104584), (3630, 0.0), (3631, 0.01729464994418296), (3632, 0.01059805410840466), (3633, 0.012615185658418415), (3634, 0.029795194564672417), (3635, 0.004873862606277324), (3636, 0.0), (3637, 0.011645786145935741), (3638, 0.004407935937101495), (3639, 0.004076708429526105), (3640, 0.0041006158147468665), (3641, 0.00791563111091783), (3642, 0.0), (3643, 0.01970315407582659), (3644, 0.0043702009704001885), (3645, 0.010064154387509829), (3646, 0.01647136763911488), (3647, 0.0), (3648, 0.029004211583274996), (3649, 0.005090753364459883), (3650, 0.023039766871280197), (3651, 0.010386347427753972), (3652, 0.00490293958515071), (3653, 0.0037469589450612037), (3654, 0.0038109971569245497), (3655, 0.03518765299378629), (3656, 0.06212086257032331), (3657, 0.022698505777755246), (3658, 0.030349848141147003), (3659, 0.04256031205536322), (3660, 0.003478334719528513), (3661, 0.032513816380018185), (3662, 0.0), (3663, 0.0), (3664, 0.0), (3665, 0.004250455869298739), (3666, 0.0037834871236454314), (3667, 0.010308973989252778), (3668, 0.007865110911881842), (3669, 0.003431710000992794), (3670, 0.03715070779329919), (3671, 0.032670175082536695), (3672, 0.0), (3673, 0.00808947748699953), (3674, 0.011641977983706106), (3675, 0.004489930537179542), (3676, 0.004706702001649223), (3677, 0.020204636808289926), (3678, 0.027763765050882752), (3679, 0.0), (3680, 0.004224457289843534), (3681, 0.014892721054623323), (3682, 0.0), (3683, 0.0), (3684, 0.003731361064288055), (3685, 0.00428991153811089), (3686, 0.005362135766112754), (3687, 0.0), (3688, 0.004789003228653954), (3689, 0.019535773832316396), (3690, 0.027383253635223547), (3691, 0.0), (3692, 0.003947399606891734), (3693, 0.0), (3694, 0.019516068969612946), (3695, 0.012548689161493156), (3696, 0.012394204274178243), (3697, 0.0), (3698, 0.04199376744975063), (3699, 0.0), (3700, 0.0), (3701, 0.017654286593017612), (3702, 0.0), (3703, 0.0), (3704, 0.003957472249773471), (3705, 0.011136597206561847), (3706, 0.0174953478586918), (3707, 0.0037259759481242196), (3708, 0.019528186383134753), (3709, 0.023054190879264705), (3710, 0.0), (3711, 0.00831432683384175), (3712, 0.0), (3713, 0.012291084708223453), (3714, 0.0), (3715, 0.005838002212515125), (3716, 0.02085669752797307), (3717, 0.0), (3718, 0.0), (3719, 0.0), (3720, 0.009021928532746082), (3721, 0.0), (3722, 0.009432275989291623), (3723, 0.0), (3724, 0.0), (3725, 0.0), (3726, 0.0), (3727, 0.0037114551739953696), (3728, 0.01460329333184642), (3729, 0.0), (3730, 0.022538331600257998), (3731, 0.012986058634573971), (3732, 0.004144832857882126), (3733, 0.015138902035414719), (3734, 0.003529712252671067), (3735, 0.0), (3736, 0.029701887730297742), (3737, 0.0), (3738, 0.008530952300862414), (3739, 0.012639646542778658), (3740, 0.0), (3741, 0.021859903473930135), (3742, 0.0033337960976307234), (3743, 0.018351579507437557), (3744, 0.0), (3745, 0.029911213212563636), (3746, 0.009034309498592418), (3747, 0.04319348087781736), (3748, 0.017452195767378206), (3749, 0.003987392660303301), (3750, 0.0), (3751, 0.05862939157314585), (3752, 0.01378331911629825), (3753, 0.004206601386210841), (3754, 0.004169241213804476), (3755, 0.0033581768257009543), (3756, 0.0030753869350119197), (3757, 0.0), (3758, 0.005196507543441772), (3759, 0.02542678770445097), (3760, 0.0), (3761, 0.0), (3762, 0.0), (3763, 0.00991359562558513), (3764, 0.005150863133860767), (3765, 0.060659174383408794), (3766, 0.004551969495402418), (3767, 0.012707596814012458), (3768, 0.0), (3769, 0.0), (3770, 0.0), (3771, 0.01284136619280301), (3772, 0.030477774672127218), (3773, 0.0), (3774, 0.010160968801564502), (3775, 0.0), (3776, 0.0), (3777, 0.027932440532909948), (3778, 0.021826970053282182), (3779, 0.01004836983409378), (3780, 0.026368756669208366), (3781, 0.0), (3782, 0.0), (3783, 0.024486324077261472), (3784, 0.009634393727181965), (3785, 0.0), (3786, 0.04504384136905202), (3787, 0.0156305892959881), (3788, 0.0), (3789, 0.0152891568758119), (3790, 0.016540741950360368), (3791, 0.0), (3792, 0.012950467692837815), (3793, 0.0), (3794, 0.008015193275224507), (3795, 0.0), (3796, 0.005862024308610289), (3797, 0.021143129671666892), (3798, 0.0), (3799, 0.00368143406814846), (3800, 0.005563052797420113), (3801, 0.014505148307600552), (3802, 0.010310931412548416), (3803, 0.008036487203058253), (3804, 0.0), (3805, 0.004429590450109105), (3806, 0.0), (3807, 0.013115270193866643), (3808, 0.004968675730901206), (3809, 0.012569785530033378), (3810, 0.009866925511705232), (3811, 0.014982058825716103), (3812, 0.013738197068783277), (3813, 0.019877560827541812), (3814, 0.009448032225434751), (3815, 0.0249538712544804), (3816, 0.0), (3817, 0.0), (3818, 0.022218853143708365), (3819, 0.02644958118351914), (3820, 0.0), (3821, 0.012999998635142906), (3822, 0.02494341638452885), (3823, 0.017800277100914728), (3824, 0.0), (3825, 0.027612984370031377), (3826, 0.018069631824193952), (3827, 0.004100927482364178), (3828, 0.004541628485787809), (3829, 0.02235425553175785), (3830, 0.009785247888457024), (3831, 0.0), (3832, 0.004580718238985225), (3833, 0.0343485962640439), (3834, 0.0), (3835, 0.006427104306221905), (3836, 0.012821529336109567), (3837, 0.0), (3838, 0.0), (3839, 0.03311443498180862), (3840, 0.008654538956483264), (3841, 0.02199395820987194), (3842, 0.024662083027251418), (3843, 0.0), (3844, 0.005246540684001109), (3845, 0.024148822685522327), (3846, 0.009400876579967066), (3847, 0.0), (3848, 0.0), (3849, 0.0), (3850, 0.0), (3851, 0.0), (3852, 0.00809072840388264), (3853, 0.025204337278836253), (3854, 0.011936101015524305), (3855, 0.0030854604005107126), (3856, 0.040390851067981945), (3857, 0.029050965728769463), (3858, 0.01498817820117696), (3859, 0.003995616806441872), (3860, 0.0), (3861, 0.0), (3862, 0.00395929594439192), (3863, 0.0), (3864, 0.03253408129574298), (3865, 0.00958472748129656), (3866, 0.0948957998575908), (3867, 0.0040144619728494585), (3868, 0.025892131594960004), (3869, 0.014586959996760893), (3870, 0.0), (3871, 0.008607407481683253), (3872, 0.00902765833587493), (3873, 0.03479051933939433), (3874, 0.0), (3875, 0.03664601893989875), (3876, 0.0036134732748607217), (3877, 0.025356614622392137), (3878, 0.0), (3879, 0.004326322428627605), (3880, 0.008824465972297722), (3881, 0.01255256229369909), (3882, 0.008148634929791447), (3883, 0.004147710668073762), (3884, 0.0), (3885, 0.0), (3886, 0.05575336610709264), (3887, 0.0), (3888, 0.008063695843719371), (3889, 0.014591791648303185), (3890, 0.026054941613641698), (3891, 0.008791034207187217), (3892, 0.010255324000271909), (3893, 0.004064648059403485), (3894, 0.008645113010048215), (3895, 0.0032128548716225023), (3896, 0.0), (3897, 0.010121215729379572), (3898, 0.0035193965041134933), (3899, 0.0), (3900, 0.003680311826009003), (3901, 0.004415960225725556), (3902, 0.028447009330683826), (3903, 0.04715501258838854), (3904, 0.00394191513592162), (3905, 0.01962151265197399), (3906, 0.033294329660102706), (3907, 0.03287406874985048), (3908, 0.0), (3909, 0.005791006558304629), (3910, 0.027657822880667572), (3911, 0.04299913050260058), (3912, 0.016120269914662554), (3913, 0.0033084598131766564), (3914, 0.01196132877741516), (3915, 0.0039472430239628), (3916, 0.010767371061932134), (3917, 0.013015429670368062), (3918, 0.0), (3919, 0.04874935672420591), (3920, 0.013976840426265569), (3921, 0.037397456394614684), (3922, 0.004733821215511576), (3923, 0.015886274739617814), (3924, 0.028057948289909304), (3925, 0.0053964345694567754), (3926, 0.006100612762696763), (3927, 0.034846991855642794), (3928, 0.0228131893182223), (3929, 0.00829625429362582), (3930, 0.0), (3931, 0.0), (3932, 0.027498639085703394), (3933, 0.003871252909668169), (3934, 0.004578880955804966), (3935, 0.0), (3936, 0.023763638585125993), (3937, 0.011619130006781768), (3938, 0.023628641508645506), (3939, 0.0), (3940, 0.005042028516804556), (3941, 0.027679117686063), (3942, 0.0), (3943, 0.0045686915937319115), (3944, 0.008040140425971386), (3945, 0.0), (3946, 0.004973024735445502), (3947, 0.0), (3948, 0.015427473635838592), (3949, 0.00601341404298084), (3950, 0.004683232088007155), (3951, 0.03604795546341658), (3952, 0.009543398479001746), (3953, 0.003534091051095662), (3954, 0.0395578185933088), (3955, 0.05687155333711725), (3956, 0.020136114170346137), (3957, 0.013116214133837598), (3958, 0.0), (3959, 0.02271149876676201), (3960, 0.004056881287993598), (3961, 0.04207638594102558), (3962, 0.0041174821297642996), (3963, 0.018068991974741426), (3964, 0.004801673783876602), (3965, 0.09290459100379138), (3966, 0.00905244445353735), (3967, 0.004928192383038641), (3968, 0.0229995781393777), (3969, 0.0), (3970, 0.017444522189001364), (3971, 0.0), (3972, 0.0), (3973, 0.014722776541958315), (3974, 0.003448862630736497), (3975, 0.0), (3976, 0.026109468562492653), (3977, 0.023913503317437537), (3978, 0.0), (3979, 0.023396717800679007), (3980, 0.027475204532034735), (3981, 0.0), (3982, 0.021874950631637143), (3983, 0.014640868973758193), (3984, 0.0214785603294936), (3985, 0.008924096176557901), (3986, 0.0), (3987, 0.0), (3988, 0.0), (3989, 0.04455396151061127), (3990, 0.004906837519153709), (3991, 0.023225684210965547), (3992, 0.004175065815451545), (3993, 0.0), (3994, 0.008954010700830092), (3995, 0.0), (3996, 0.030360549042595268), (3997, 0.0), (3998, 0.055635678720710166), (3999, 0.0), (4000, 0.0), (4001, 0.038294686155740325), (4002, 0.015809382980906544), (4003, 0.028016981633729256), (4004, 0.0), (4005, 0.04894841917405536), (4006, 0.02270827894975674), (4007, 0.0260034361376658), (4008, 0.006460416203698518), (4009, 0.026301710748655168), (4010, 0.015325109543996926), (4011, 0.01593404531485118), (4012, 0.048108411300790445), (4013, 0.009593396709538697), (4014, 0.003957676421106021), (4015, 0.03066072035104936), (4016, 0.01241546962138218), (4017, 0.061860746494274324), (4018, 0.022970537644667104), (4019, 0.0), (4020, 0.012705373694211045), (4021, 0.0), (4022, 0.02802705512562056), (4023, 0.005054383294876455), (4024, 0.00399565115582549), (4025, 0.019463357013437793), (4026, 0.009517531302675594), (4027, 0.004454933196974559), (4028, 0.0391632371850138), (4029, 0.004379353579868275), (4030, 0.0), (4031, 0.024701858881733915), (4032, 0.02814475032457019), (4033, 0.027165682479781253), (4034, 0.014397124302443177), (4035, 0.0059411517806162335), (4036, 0.00792535509893004), (4037, 0.004288815837883552), (4038, 0.027101976376398718), (4039, 0.012463805272769128), (4040, 0.0), (4041, 0.0), (4042, 0.0), (4043, 0.0), (4044, 0.008218108726152508), (4045, 0.009703417206307744), (4046, 0.027257184084033586), (4047, 0.0), (4048, 0.0), (4049, 0.004346647696559481), (4050, 0.018490542450750262), (4051, 0.025757039043124118), (4052, 0.01117834791863287), (4053, 0.0036250416860291756), (4054, 0.008207901864804176), (4055, 0.022064304968965772), (4056, 0.0037795483648808844), (4057, 0.013958550521470348), (4058, 0.0), (4059, 0.0433604044665046), (4060, 0.0), (4061, 0.030768168005079772), (4062, 0.017845710496358906), (4063, 0.008756953132570525), (4064, 0.016642350436762706), (4065, 0.0), (4066, 0.007281294360960401), (4067, 0.014656568140222346), (4068, 0.02570138315593916), (4069, 0.03215792466841337), (4070, 0.03928487557371971), (4071, 0.025424138804510617), (4072, 0.0), (4073, 0.004333335216625731), (4074, 0.04139478813029676), (4075, 0.017348814806372504), (4076, 0.009681593553007215), (4077, 0.020579417581328904), (4078, 0.0), (4079, 0.0039409269287231045), (4080, 0.0), (4081, 0.0), (4082, 0.005218667294381155), (4083, 0.0), (4084, 0.005627911725293298), (4085, 0.024791874552545563), (4086, 0.021224335162381102), (4087, 0.004097791592197992), (4088, 0.0), (4089, 0.032023908271502), (4090, 0.0), (4091, 0.0), (4092, 0.00411113950795547), (4093, 0.02812320543180708), (4094, 0.022223595698566592), (4095, 0.02209102311939102), (4096, 0.0), (4097, 0.015366459622856328), (4098, 0.003996310635193307), (4099, 0.03571317985424019), (4100, 0.0), (4101, 0.013432450463716947), (4102, 0.005693305115877399), (4103, 0.0), (4104, 0.003965860150969476), (4105, 0.01990857012119016), (4106, 0.05119049919372007), (4107, 0.0), (4108, 0.014434974357049123), (4109, 0.02376044913302218), (4110, 0.03138290579715915), (4111, 0.003960451791077435), (4112, 0.013386278487004886), (4113, 0.05588198054923661), (4114, 0.0384031129870164), (4115, 0.0), (4116, 0.004001479828082904), (4117, 0.009497653424171783), (4118, 0.04014095838459095), (4119, 0.03688028869813884), (4120, 0.0), (4121, 0.02361320765082517), (4122, 0.0), (4123, 0.003884284593391567), (4124, 0.0), (4125, 0.01737568930277567), (4126, 0.0), (4127, 0.0), (4128, 0.0), (4129, 0.0), (4130, 0.004069469021019485), (4131, 0.0), (4132, 0.03273347187667591), (4133, 0.004090944035106016), (4134, 0.008773630511446124), (4135, 0.017201464823128745), (4136, 0.00968970818028842), (4137, 0.04580985704522629), (4138, 0.004034603817117658), (4139, 0.0), (4140, 0.02961204201227377), (4141, 0.014466351889397315), (4142, 0.0), (4143, 0.023477398584706537), (4144, 0.0), (4145, 0.0), (4146, 0.023133158476832158), (4147, 0.00522426341104273), (4148, 0.0183301238700395), (4149, 0.008661923497986378), (4150, 0.03995577030377154), (4151, 0.0031761474118415277), (4152, 0.059915312975617085), (4153, 0.024871959532952858), (4154, 0.01577648995863612), (4155, 0.038174907982482104), (4156, 0.049864475111766476), (4157, 0.021769613238053136), (4158, 0.020464019075633135), (4159, 0.020255721349232658), (4160, 0.0041221794138254445), (4161, 0.0), (4162, 0.054550216369698104), (4163, 0.0044596976192947365), (4164, 0.010444262421435275), (4165, 0.0), (4166, 0.005724071483759687), (4167, 0.0), (4168, 0.013416972176756), (4169, 0.009840569575292375), (4170, 0.0), (4171, 0.026615576036922536), (4172, 0.0), (4173, 0.004627470584508321), (4174, 0.044071399993774844), (4175, 0.0), (4176, 0.024130396153179565), (4177, 0.009025940320730817), (4178, 0.01325880816200102), (4179, 0.0), (4180, 0.0), (4181, 0.0), (4182, 0.019415819017284598), (4183, 0.025627822556710422), (4184, 0.0), (4185, 0.0), (4186, 0.0), (4187, 0.003997954569910306), (4188, 0.04064970708980884), (4189, 0.026722490865889396), (4190, 0.03073850747567977), (4191, 0.03303326419515359), (4192, 0.03313338323187255), (4193, 0.020919637881515525), (4194, 0.025383401118834255), (4195, 0.004360461445638621), (4196, 0.006745870587554861), (4197, 0.004233360359787216), (4198, 0.005869183424597354), (4199, 0.01831472701585629), (4200, 0.03330381315711077), (4201, 0.015891275953846234), (4202, 0.005174158274377605), (4203, 0.026437209984514324), (4204, 0.0), (4205, 0.06931311304758254), (4206, 0.004293868318456768), (4207, 0.01425334664899907), (4208, 0.0), (4209, 0.0), (4210, 0.027200892344892067), (4211, 0.015111800450017131), (4212, 0.0), (4213, 0.02602130519091079), (4214, 0.0), (4215, 0.0), (4216, 0.05296776421655991), (4217, 0.023125495055855625), (4218, 0.03591125818306324), (4219, 0.0), (4220, 0.0), (4221, 0.0), (4222, 0.0058921340787404545), (4223, 0.006335859221241605), (4224, 0.0), (4225, 0.0), (4226, 0.03170166475119798), (4227, 0.0), (4228, 0.0), (4229, 0.0), (4230, 0.0), (4231, 0.0038908271305265005), (4232, 0.0), (4233, 0.009154766839574334), (4234, 0.004534504152446718), (4235, 0.0), (4236, 0.005958969741919824), (4237, 0.015799772968027086), (4238, 0.0), (4239, 0.0), (4240, 0.0), (4241, 0.0), (4242, 0.011283480535628585), (4243, 0.004395514599496134), (4244, 0.004313850623173699), (4245, 0.0), (4246, 0.0041575677089965785), (4247, 0.0032349872979706156), (4248, 0.0), (4249, 0.003935641725929284), (4250, 0.0), (4251, 0.0), (4252, 0.012413422472486394), (4253, 0.01662700586729954), (4254, 0.004339903553070495), (4255, 0.018424648835517143), (4256, 0.0), (4257, 0.017861296637465374), (4258, 0.0), (4259, 0.008622019293057242), (4260, 0.0), (4261, 0.0), (4262, 0.019392188145490617), (4263, 0.004601875776374192), (4264, 0.008266882427600392), (4265, 0.009622493172389774), (4266, 0.0037092374966535475), (4267, 0.037004265546803625), (4268, 0.003642960535381521), (4269, 0.03127367913546527), (4270, 0.02118073173354215), (4271, 0.023220708369034327), (4272, 0.06761117215695507), (4273, 0.0), (4274, 0.016801411573710564), (4275, 0.009992591004542847), (4276, 0.0), (4277, 0.00784036860363622), (4278, 0.0), (4279, 0.0), (4280, 0.0), (4281, 0.031039727148974416), (4282, 0.033097775424070434), (4283, 0.021228205418670522), (4284, 0.003715586840513112), (4285, 0.005059526410731216), (4286, 0.03379626387042454), (4287, 0.008193693759478354), (4288, 0.03465727025137673), (4289, 0.023567377431507906), (4290, 0.008310602224935307), (4291, 0.0), (4292, 0.0), (4293, 0.024261888805127328), (4294, 0.023046965195401337), (4295, 0.009239848131741956), (4296, 0.0), (4297, 0.00832096470018803), (4298, 0.027686456369681874), (4299, 0.05257390577397872), (4300, 0.013764379370959343), (4301, 0.0), (4302, 0.0), (4303, 0.006057506971683371), (4304, 0.013501759726841134), (4305, 0.0), (4306, 0.0), (4307, 0.0), (4308, 0.00486959457051676), (4309, 0.0210127120862759), (4310, 0.0), (4311, 0.003160756618892406), (4312, 0.009775304411837563), (4313, 0.024172986124032837), (4314, 0.008479965704412104), (4315, 0.004774671519408965), (4316, 0.0), (4317, 0.0), (4318, 0.0), (4319, 0.02836323501722119), (4320, 0.022034533681713195), (4321, 0.025078986740915143), (4322, 0.0), (4323, 0.004772104439156297), (4324, 0.014712800500265986), (4325, 0.004076113448942146), (4326, 0.0), (4327, 0.013005316896986552), (4328, 0.008859977723674523), (4329, 0.009189123248376166), (4330, 0.013961248618903256), (4331, 0.0), (4332, 0.01948234976307579), (4333, 0.0042504751806763325), (4334, 0.026538034859533953), (4335, 0.04120612879605912), (4336, 0.010125384585916261), (4337, 0.006532121582420993), (4338, 0.023785484171762683), (4339, 0.008828881485399797), (4340, 0.0), (4341, 0.020363816448602585), (4342, 0.013374792511606233), (4343, 0.0), (4344, 0.024142940498900013), (4345, 0.01954890705966462), (4346, 0.0048681235131259855), (4347, 0.03291473635838795), (4348, 0.029058106679787532), (4349, 0.0), (4350, 0.011173919491252645), (4351, 0.021572541678279655), (4352, 0.0), (4353, 0.0), (4354, 0.023370062151582834), (4355, 0.0), (4356, 0.014586821832131242), (4357, 0.008514014381628068), (4358, 0.0), (4359, 0.017241620937459363), (4360, 0.01125405079347094), (4361, 0.0), (4362, 0.0036044265922398665), (4363, 0.04418513593745149), (4364, 0.013121643758578726), (4365, 0.0), (4366, 0.0), (4367, 0.006488572457656522), (4368, 0.004158072305534319), (4369, 0.023081717903368052), (4370, 0.0), (4371, 0.019416855717438723), (4372, 0.0), (4373, 0.004701408391261905), (4374, 0.03642474273369279), (4375, 0.0), (4376, 0.00957263316565979), (4377, 0.0), (4378, 0.008766962951965435), (4379, 0.022333770522151346), (4380, 0.0), (4381, 0.0), (4382, 0.01147757023364639), (4383, 0.0), (4384, 0.0), (4385, 0.01514649457712057), (4386, 0.0), (4387, 0.0035567135845181947), (4388, 0.02042634332778175), (4389, 0.014279561819163372), (4390, 0.0), (4391, 0.03791124821604486), (4392, 0.014987090904169272), (4393, 0.0), (4394, 0.0035519066421149234), (4395, 0.022920163934916415), (4396, 0.0), (4397, 0.0), (4398, 0.0), (4399, 0.017499702761220884), (4400, 0.0), (4401, 0.003914345662241634), (4402, 0.011819669544706354), (4403, 0.0161174794402435), (4404, 0.014047662698948334), (4405, 0.0), (4406, 0.04574024710422375), (4407, 0.0), (4408, 0.005251359015567414), (4409, 0.0), (4410, 0.0), (4411, 0.022615511257787754), (4412, 0.004296788316330711), (4413, 0.0), (4414, 0.007666863670812329), (4415, 0.0), (4416, 0.0), (4417, 0.0), (4418, 0.0), (4419, 0.013028920277619316), (4420, 0.025515315758578863), (4421, 0.0), (4422, 0.00843291800782411), (4423, 0.0), (4424, 0.0), (4425, 0.0), (4426, 0.0039349138739018606), (4427, 0.009788775187601953), (4428, 0.0), (4429, 0.0033215426125374394), (4430, 0.003869782427179092), (4431, 0.01963936228685778), (4432, 0.0031727649116279674), (4433, 0.004699551536275454), (4434, 0.004585508750526669), (4435, 0.017324154964866254), (4436, 0.034216690734959546), (4437, 0.008053299636925897), (4438, 0.008965619088504694), (4439, 0.0), (4440, 0.012705174458127876), (4441, 0.0), (4442, 0.025480623204017436), (4443, 0.004377381648738299), (4444, 0.004818572923036517), (4445, 0.00995355279785487), (4446, 0.008362735276946556), (4447, 0.004199778896587274), (4448, 0.033550095596926614), (4449, 0.0), (4450, 0.0), (4451, 0.015183383642894161), (4452, 0.019196426693136433), (4453, 0.014489325326146019), (4454, 0.009209158450229325), (4455, 0.0), (4456, 0.0), (4457, 0.004500078372085553), (4458, 0.0), (4459, 0.014181663915037163), (4460, 0.04015587300807133), (4461, 0.0), (4462, 0.01925189239678531), (4463, 0.005001829634559673), (4464, 0.0), (4465, 0.02502974465580813), (4466, 0.008535353841643806), (4467, 0.024111106771869367), (4468, 0.0), (4469, 0.0), (4470, 0.012738417252474854), (4471, 0.02432670540463623), (4472, 0.02436601891321452), (4473, 0.015984232186569945), (4474, 0.0), (4475, 0.003572178355084148), (4476, 0.03816068273960682), (4477, 0.015416793195965147), (4478, 0.025735675190365046), (4479, 0.03650089588071494), (4480, 0.04788668537980749), (4481, 0.012547955503772202), (4482, 0.04301707217414185), (4483, 0.02500245842141887), (4484, 0.00474589446692568), (4485, 0.0), (4486, 0.028790146138116618), (4487, 0.003605236174082733), (4488, 0.0201281603534257), (4489, 0.008543660716096885), (4490, 0.004438208039048249), (4491, 0.0), (4492, 0.013413641312231911), (4493, 0.0), (4494, 0.004118264419939181), (4495, 0.012526099963887946), (4496, 0.0), (4497, 0.0), (4498, 0.01574670557716028), (4499, 0.0), (4500, 0.0), (4501, 0.027298314312395003), (4502, 0.0034444771021055432), (4503, 0.0036078950519939537), (4504, 0.036071045645851285), (4505, 0.0), (4506, 0.0), (4507, 0.028637080947449805), (4508, 0.0), (4509, 0.0), (4510, 0.03838118781124502), (4511, 0.03122545305121482), (4512, 0.0), (4513, 0.0), (4514, 0.00529339698322697), (4515, 0.023892487978644107), (4516, 0.013987435991075787), (4517, 0.01379400987164396), (4518, 0.0), (4519, 0.0038989991865205588), (4520, 0.003944195805075164), (4521, 0.004451281031266205), (4522, 0.00915268268731446), (4523, 0.058483457424771165), (4524, 0.01849302032754227), (4525, 0.0), (4526, 0.0), (4527, 0.0), (4528, 0.003992884932705861), (4529, 0.0), (4530, 0.003576909940099365), (4531, 0.0), (4532, 0.0), (4533, 0.06415421367033872), (4534, 0.008902408338840682), (4535, 0.013548512328441962), (4536, 0.02472447594153588), (4537, 0.0), (4538, 0.0), (4539, 0.0), (4540, 0.0), (4541, 0.034106995134220316), (4542, 0.025965981388181698), (4543, 0.023969611892942416), (4544, 0.0), (4545, 0.0), (4546, 0.021259710990849178), (4547, 0.0), (4548, 0.008845360505637124), (4549, 0.010264893926039128), (4550, 0.0), (4551, 0.013551832412544765), (4552, 0.004424886123264864), (4553, 0.0), (4554, 0.006960577322822958), (4555, 0.0344904890510797), (4556, 0.00922492319121586), (4557, 0.040375809847312025), (4558, 0.0), (4559, 0.0), (4560, 0.0), (4561, 0.0), (4562, 0.0056523263419969395), (4563, 0.026504150477892167), (4564, 0.03609576658273482), (4565, 0.012650439666393901), (4566, 0.003801481366472958), (4567, 0.0), (4568, 0.016239668416620806), (4569, 0.0), (4570, 0.005396003658597853), (4571, 0.005565182973108974), (4572, 0.0), (4573, 0.0038139964992262463), (4574, 0.0), (4575, 0.02925543659771329), (4576, 0.07613580863854058), (4577, 0.0), (4578, 0.0), (4579, 0.0), (4580, 0.004903577125544612), (4581, 0.0), (4582, 0.008916747610975762), (4583, 0.0), (4584, 0.0), (4585, 0.0), (4586, 0.0), (4587, 0.009227442735880957), (4588, 0.008147357662527317), (4589, 0.025826677511981082), (4590, 0.018690757293354014), (4591, 0.02476376818339748), (4592, 0.009271598637768162), (4593, 0.004074675108022318), (4594, 0.019995347281445332), (4595, 0.0), (4596, 0.02646764959994916), (4597, 0.025870802694358506), (4598, 0.0462647071412501), (4599, 0.00496574538086733), (4600, 0.021378500067349784), (4601, 0.003889524805896497), (4602, 0.024359885489380003), (4603, 0.014538643375231232), (4604, 0.016637972214922515), (4605, 0.006679464176434128), (4606, 0.0), (4607, 0.0), (4608, 0.0), (4609, 0.03704123637183134), (4610, 0.008244291426124876), (4611, 0.0), (4612, 0.011694205212413407), (4613, 0.009672154380169279), (4614, 0.01404389376258629), (4615, 0.0), (4616, 0.0), (4617, 0.004938638870369907), (4618, 0.0), (4619, 0.0368635697875452), (4620, 0.0), (4621, 0.009948237563400287), (4622, 0.0), (4623, 0.0), (4624, 0.024181766405614015), (4625, 0.0039845288298595), (4626, 0.0031459942928179323), (4627, 0.003946566930736973), (4628, 0.035902272164705255), (4629, 0.022406567762320685), (4630, 0.10752342234929654), (4631, 0.0), (4632, 0.004328734673629753), (4633, 0.005068027535222902), (4634, 0.008594206513912298), (4635, 0.0), (4636, 0.007003186449781052), (4637, 0.004523478189918318), (4638, 0.003424668054212064), (4639, 0.0), (4640, 0.017902014973913187), (4641, 0.0), (4642, 0.01676977586891061), (4643, 0.06190769776216539), (4644, 0.0), (4645, 0.0), (4646, 0.0), (4647, 0.0), (4648, 0.0), (4649, 0.0057143859338462935), (4650, 0.0170901467358402), (4651, 0.0), (4652, 0.023495213814350102), (4653, 0.0), (4654, 0.0), (4655, 0.0), (4656, 0.0), (4657, 0.004069215054859151), (4658, 0.018030202015799725), (4659, 0.0), (4660, 0.004454475284030489), (4661, 0.0), (4662, 0.0), (4663, 0.017767475021797804), (4664, 0.0), (4665, 0.0), (4666, 0.0), (4667, 0.012647283853109441), (4668, 0.0037748819839611824), (4669, 0.0279235982558573), (4670, 0.0036005398357570597), (4671, 0.0), (4672, 0.0), (4673, 0.003532780526046625), (4674, 0.04979834234809975), (4675, 0.00453785720250007), (4676, 0.0), (4677, 0.0), (4678, 0.0), (4679, 0.017049871585818506), (4680, 0.04317537816178213), (4681, 0.0), (4682, 0.02377448963749554), (4683, 0.00932508535037345), (4684, 0.009495854927965286), (4685, 0.006495422796694099), (4686, 0.009354366567390311), (4687, 0.025961815949810056), (4688, 0.03584643269101092), (4689, 0.016449988113184072), (4690, 0.0), (4691, 0.0), (4692, 0.0), (4693, 0.0), (4694, 0.0), (4695, 0.039322299469455736), (4696, 0.0), (4697, 0.0), (4698, 0.0), (4699, 0.014430478475373213), (4700, 0.005794092487039704), (4701, 0.004232300252908098), (4702, 0.0), (4703, 0.0), (4704, 0.0), (4705, 0.0), (4706, 0.004249446319891196), (4707, 0.0), (4708, 0.031043974768184365), (4709, 0.0), (4710, 0.0048594419160500595), (4711, 0.0), (4712, 0.10303324631602198), (4713, 0.004222699604604667), (4714, 0.0), (4715, 0.0), (4716, 0.0), (4717, 0.0052694853221727156), (4718, 0.0041745966069324505), (4719, 0.007703174701462845), (4720, 0.005511282954633879), (4721, 0.016828394824820913), (4722, 0.00391163532748156), (4723, 0.004636794819385007), (4724, 0.0), (4725, 0.005914548167907749), (4726, 0.005516735225187078), (4727, 0.024830576405596744), (4728, 0.0), (4729, 0.0), (4730, 0.01742104186112606), (4731, 0.02103686993738324), (4732, 0.018910566041625214), (4733, 0.022751401597343526), (4734, 0.004032329111365676), (4735, 0.0), (4736, 0.0), (4737, 0.0), (4738, 0.010306724945905118), (4739, 0.020302240022513532), (4740, 0.0), (4741, 0.0), (4742, 0.0), (4743, 0.0), (4744, 0.0036989181123971895), (4745, 0.0), (4746, 0.05958427543624382), (4747, 0.0), (4748, 0.020820330778265), (4749, 0.0), (4750, 0.0), (4751, 0.0), (4752, 0.002610483165080478), (4753, 0.0), (4754, 0.0), (4755, 0.0), (4756, 0.00446610156354516), (4757, 0.030075667704168703), (4758, 0.0), (4759, 0.0)]\n"
          ]
        }
      ]
    },
    {
      "cell_type": "code",
      "source": [
        "len(Recommendation_Score)"
      ],
      "metadata": {
        "colab": {
          "base_uri": "https://localhost:8080/"
        },
        "id": "8kiox3q02X9v",
        "outputId": "812e1fca-db34-47eb-d0b1-016cd641b5a1"
      },
      "execution_count": 35,
      "outputs": [
        {
          "output_type": "execute_result",
          "data": {
            "text/plain": [
              "4760"
            ]
          },
          "metadata": {},
          "execution_count": 35
        }
      ]
    },
    {
      "cell_type": "markdown",
      "source": [
        "**Get all movies sort based on recommendation score wrt favourite movie**"
      ],
      "metadata": {
        "id": "ht5MTEJHIjve"
      }
    },
    {
      "cell_type": "code",
      "source": [
        "Sorted_Similar_Movies= sorted(Recommendation_Score,key=lambda x:x[1],reverse=True)\n",
        "print(Sorted_Similar_Movies)"
      ],
      "metadata": {
        "colab": {
          "base_uri": "https://localhost:8080/"
        },
        "id": "AKsQixHn2d5y",
        "outputId": "f968a9d1-6519-4dfc-b5fa-7791dac0b1f8"
      },
      "execution_count": 36,
      "outputs": [
        {
          "output_type": "stream",
          "name": "stdout",
          "text": [
            "[(3, 0.9999999999999999), (206, 0.16333626014532604), (164, 0.13884925477300814), (2650, 0.12238049134318153), (1087, 0.11513410898415817), (235, 0.11492572005515189), (452, 0.1113712478803419), (524, 0.11026800764410552), (387, 0.10900375839126136), (2158, 0.10894074197976315), (4630, 0.10752342234929654), (751, 0.10574648627797661), (1329, 0.10543268032881192), (388, 0.105103684554049), (1936, 0.1046722121169956), (1120, 0.10312206800361554), (1128, 0.10309886679056766), (4712, 0.10303324631602198), (1048, 0.10035835872723656), (1340, 0.0983965454021325), (919, 0.09816639140745044), (2504, 0.09777481585823222), (3866, 0.0948957998575908), (197, 0.09353194871514992), (3965, 0.09290459100379138), (703, 0.0924923796281989), (1367, 0.0906193546027546), (2949, 0.09060797392924481), (891, 0.08965009975052445), (3611, 0.08696951115875783), (403, 0.0864651542929095), (307, 0.08521779624603054), (3018, 0.08419963478678703), (714, 0.08387377051801258), (1915, 0.08338303412634548), (663, 0.08320602172594752), (1132, 0.08210827816075479), (3364, 0.08125737532699769), (1278, 0.08121913304368844), (250, 0.0811752937301117), (2256, 0.08099076177766296), (685, 0.08069211129197117), (909, 0.07978419255208251), (3599, 0.078894624270994), (2584, 0.07791121955451197), (2403, 0.07755473354496348), (3285, 0.07645964666460146), (4576, 0.07613580863854058), (3336, 0.07382231731727806), (736, 0.07299898694565261), (1413, 0.07252537194467858), (3325, 0.07057274690885892), (2867, 0.07020468636320865), (4205, 0.06931311304758254), (809, 0.06914553834409763), (655, 0.06902062103518004), (1281, 0.06898396213584601), (2547, 0.06863979144472072), (969, 0.06828780402226488), (1919, 0.06767915463232975), (4272, 0.06761117215695507), (1964, 0.06759086616735847), (1701, 0.06754586346321936), (606, 0.06736936502911917), (3460, 0.06693963283786572), (1843, 0.06684558081873265), (91, 0.06680197181760636), (2711, 0.06663893325117316), (634, 0.06663289726169276), (726, 0.06637129158168636), (1210, 0.06600377587685717), (13, 0.06591633438564269), (108, 0.06591437348953423), (1925, 0.06516221379523911), (3142, 0.06483974245337475), (2528, 0.06471891392710581), (1903, 0.06449420177431654), (251, 0.06445793543006599), (1353, 0.06436034584761298), (464, 0.06435155200294622), (852, 0.0642555933334785), (372, 0.06424079383084942), (2595, 0.06417480767600117), (4533, 0.06415421367033872), (12, 0.06347404367689402), (1456, 0.06271888880229445), (1282, 0.0626838096934113), (3612, 0.06258469937682479), (515, 0.06255911808345246), (609, 0.062367663242614904), (3656, 0.06212086257032331), (1948, 0.06206384757197767), (228, 0.06192017297888121), (4643, 0.06190769776216539), (3414, 0.06187673758952014), (4017, 0.061860746494274324), (1414, 0.06128954030516164), (34, 0.061093096355183625), (653, 0.06088106196657325), (3765, 0.060659174383408794), (39, 0.060626815280805775), (2043, 0.06044799925781759), (2198, 0.0604153159097843), (269, 0.06023139485236416), (1169, 0.06022987984364891), (189, 0.06019638373135447), (4152, 0.059915312975617085), (3463, 0.05978611489552432), (937, 0.0596650070135867), (2218, 0.059585669809422065), (4746, 0.05958427543624382), (328, 0.05954302422253549), (3295, 0.059417307526524334), (553, 0.05933450596980173), (2027, 0.058632131172769685), (3751, 0.05862939157314585), (4523, 0.058483457424771165), (1239, 0.058055897423406104), (563, 0.057892140937205794), (212, 0.057844666934223785), (3447, 0.05776774874574589), (1188, 0.05757148581262957), (719, 0.05753502389749511), (1465, 0.05726272092717247), (876, 0.05712807986708395), (3955, 0.05687155333711725), (1715, 0.05648929890393987), (1719, 0.05627136044499061), (2701, 0.05614762728602185), (829, 0.05604667407227008), (4113, 0.05588198054923661), (2474, 0.05577436779212286), (1692, 0.055757809806911154), (3886, 0.05575336610709264), (773, 0.055696121592267445), (2627, 0.05566080941232225), (3998, 0.055635678720710166), (3083, 0.05553647282629283), (2231, 0.05524833270779704), (1295, 0.05497459296900481), (97, 0.05484083905332916), (1016, 0.05478987023843102), (3096, 0.05477502002296729), (734, 0.05474043866960881), (4162, 0.054550216369698104), (2114, 0.054396213568993365), (1467, 0.05410812268281936), (2178, 0.05393330266858702), (2509, 0.05389941148702347), (808, 0.0538687669562788), (1090, 0.05379865940979126), (2822, 0.053782704176714574), (2000, 0.05378011901537631), (357, 0.05372144230000031), (2074, 0.053593075396070125), (272, 0.053444600328077345), (3477, 0.053328747973552595), (706, 0.0531319465364308), (2844, 0.05302151157982211), (4216, 0.05296776421655991), (3424, 0.05296436761281278), (280, 0.052930528927123154), (1443, 0.05292513404715474), (1938, 0.05289036356523624), (3294, 0.05288357942552087), (1788, 0.052822470069326805), (3619, 0.0527440097419549), (1442, 0.052624874010502885), (4299, 0.05257390577397872), (1341, 0.05254257759910186), (1725, 0.052367322455759244), (88, 0.05234549876365933), (1612, 0.052211845416395355), (1524, 0.052063892998527414), (2616, 0.051926600741727336), (3141, 0.05192041708589755), (2766, 0.05179879197509198), (2180, 0.05173374044712048), (2152, 0.051690508171608154), (3181, 0.05164056035424615), (253, 0.05163210532737145), (2137, 0.051445967985609735), (3344, 0.051389224124769484), (3240, 0.05136626752282168), (762, 0.05136138634099547), (127, 0.051326695151486516), (271, 0.05132278140209906), (2463, 0.051322483645060715), (656, 0.051192303923767585), (4106, 0.05119049919372007), (396, 0.05104633991535739), (959, 0.05092175836626884), (351, 0.050904536059486416), (1489, 0.05083333716175949), (330, 0.05081275616895879), (2582, 0.05076302385546234), (1111, 0.05051386907026539), (1720, 0.05036392705509289), (669, 0.050289590452212485), (1004, 0.050167676356122626), (1192, 0.05013007517449351), (1130, 0.050105335958915025), (3534, 0.05004241466910038), (4156, 0.049864475111766476), (4674, 0.04979834234809975), (1643, 0.049658287544733004), (392, 0.04964670449388547), (1252, 0.049478262301485554), (3085, 0.04939503440467261), (3297, 0.04934712138147421), (916, 0.049104479370133264), (2981, 0.049094095811963404), (336, 0.04902930488959001), (2323, 0.04902571910324788), (4005, 0.04894841917405536), (1361, 0.04888715624074844), (3919, 0.04874935672420591), (263, 0.04868499811939295), (240, 0.048621206772140955), (75, 0.048473622890167635), (1373, 0.0483205103055625), (4012, 0.048108411300790445), (3348, 0.04806862116085702), (506, 0.04806399046363431), (2964, 0.04803781636283318), (3362, 0.04802330879138715), (2443, 0.047979271828602295), (4480, 0.04788668537980749), (1858, 0.047675236089028634), (25, 0.047531844437851155), (45, 0.047461232322936586), (2131, 0.04745908284272758), (130, 0.047418678287520985), (2459, 0.047155155600815894), (3903, 0.04715501258838854), (2239, 0.047152073063558335), (2480, 0.04713605194421019), (74, 0.04708196610026068), (1707, 0.04702313929911824), (2634, 0.046855821850268986), (2118, 0.046789190208730416), (3368, 0.04669751255400978), (930, 0.04651719505404633), (3484, 0.04645798321719285), (1867, 0.046284035536643), (4598, 0.0462647071412501), (2666, 0.046244805973363015), (500, 0.046150722192541474), (1579, 0.04610321647672426), (1535, 0.046094043492482056), (2498, 0.04609327216543719), (1405, 0.04605159045957995), (2642, 0.04603139193405881), (2944, 0.04602500051380237), (1553, 0.045921346632662084), (1059, 0.04586365291028277), (4137, 0.04580985704522629), (1849, 0.04575984608618871), (4406, 0.04574024710422375), (1248, 0.045694734365895474), (2923, 0.0456559895243393), (2340, 0.045618628082346874), (2558, 0.045561660648412265), (1983, 0.0455161046458716), (82, 0.04531222645439212), (2548, 0.04527357986347999), (744, 0.04524824550816396), (407, 0.0452466061288922), (361, 0.045137407362137325), (195, 0.04506065509522187), (3786, 0.04504384136905202), (1798, 0.0450160924619785), (3450, 0.0449948004675876), (776, 0.04487763806839046), (3393, 0.0448124968135723), (259, 0.04466854805180938), (3989, 0.04455396151061127), (633, 0.04453476004808685), (4363, 0.04418513593745149), (3023, 0.04418501742204099), (4174, 0.044071399993774844), (2294, 0.044068590525705546), (1506, 0.04405661903721543), (57, 0.04402369321035433), (7, 0.04401355186903804), (342, 0.044011536589778535), (1292, 0.04375516270037959), (1216, 0.04373731333000049), (934, 0.043691705057192706), (1491, 0.04368231992057624), (2502, 0.04366555864801764), (1505, 0.04339474346920932), (35, 0.043360808002035414), (4059, 0.0433604044665046), (950, 0.04332441197305342), (3380, 0.0433187488686195), (727, 0.043224116822426106), (1253, 0.043216866705255576), (1602, 0.043212744776078234), (3747, 0.04319348087781736), (2215, 0.043182320519571236), (4680, 0.04317537816178213), (1290, 0.04310393422865838), (2102, 0.04307889653209246), (4482, 0.04301707217414185), (3911, 0.04299913050260058), (418, 0.04299217502764077), (1433, 0.04297297356014092), (681, 0.04289207793555373), (865, 0.04273872206411905), (412, 0.042735469740671966), (2513, 0.042705118358261844), (807, 0.04265265733962383), (2854, 0.04256191574990978), (3659, 0.04256031205536322), (179, 0.04235499336949837), (2012, 0.04234422869895879), (1202, 0.04223740797650126), (1080, 0.04222437813356158), (1852, 0.04221852703332332), (694, 0.0421426680852074), (2351, 0.04212244412540916), (3961, 0.04207638594102558), (813, 0.04199572699025388), (3698, 0.04199376744975063), (433, 0.04198848823162653), (766, 0.04193902758673945), (1305, 0.041899334010025345), (2625, 0.04189831351023051), (747, 0.04188601632219534), (1430, 0.04182605740038251), (1066, 0.04182472953096032), (2510, 0.04178372311004178), (3389, 0.04176032325339418), (1477, 0.04157957743073087), (3014, 0.041406226419279525), (4074, 0.04139478813029676), (2281, 0.04139142584953911), (1291, 0.041360691381880255), (3205, 0.041330274701125734), (1074, 0.04122504665229247), (4335, 0.04120612879605912), (1052, 0.04116438470196343), (2774, 0.041052391355969824), (607, 0.041049671877212486), (3328, 0.041024284580755035), (1571, 0.04093445508781694), (1448, 0.04088635466972791), (1108, 0.04079036868471563), (555, 0.040768690126451644), (242, 0.04075039311338374), (1490, 0.040658666888792806), (4188, 0.04064970708980884), (277, 0.040557113228278305), (5, 0.04051011558857279), (481, 0.04049479769984983), (3856, 0.040390851067981945), (4557, 0.040375809847312025), (3070, 0.04036665345900331), (3289, 0.040351740645248366), (899, 0.040344466278147376), (2884, 0.04031206386782096), (1841, 0.0402544905926977), (2588, 0.040249632508319574), (341, 0.04024345157488575), (2011, 0.04020665732404774), (2760, 0.040158857278973725), (4460, 0.04015587300807133), (4118, 0.04014095838459095), (2005, 0.040084621366126796), (3486, 0.04006822580128031), (2213, 0.04006412746845116), (2857, 0.040037816590459456), (1231, 0.040007604004518), (2273, 0.03999552912784405), (705, 0.03995672770927045), (4150, 0.03995577030377154), (264, 0.039931005512413555), (2003, 0.03992206972176076), (310, 0.039882425411982975), (1013, 0.03986346912757409), (1450, 0.039758179706502444), (1306, 0.03971455084014943), (2155, 0.039708228669762105), (3352, 0.039624641602989265), (802, 0.039624311827131956), (1644, 0.03961656313126274), (3954, 0.0395578185933088), (2147, 0.03944838812296933), (2386, 0.03944413321992029), (1168, 0.039433516156061804), (258, 0.0394086755720718), (4695, 0.039322299469455736), (248, 0.03929270193643613), (4070, 0.03928487557371971), (1106, 0.03928462585725515), (756, 0.03928330045877604), (701, 0.03923769885878551), (1638, 0.03923644777044224), (4028, 0.0391632371850138), (124, 0.039142748913949914), (2780, 0.03910837951876892), (3066, 0.03908029981169511), (391, 0.0390025606001666), (3034, 0.03894153482679786), (3457, 0.038807929887130485), (3335, 0.03875369306370985), (1627, 0.038724624041360386), (28, 0.0387245775148911), (1195, 0.038705733152618764), (1173, 0.038681859243224814), (99, 0.03861124603560177), (2527, 0.038596238031770286), (1047, 0.03858698583127365), (686, 0.038583087774337124), (73, 0.03855047770292593), (3524, 0.03847795307349657), (617, 0.038473336339305726), (165, 0.03844854878504637), (864, 0.038444340069587114), (591, 0.03842853711010244), (4114, 0.0384031129870164), (4510, 0.03838118781124502), (1109, 0.03830881863388269), (4001, 0.038294686155740325), (2160, 0.03828065839935745), (739, 0.03825798589707349), (3469, 0.03824095693919368), (56, 0.03820299003914459), (3614, 0.03818175787395473), (4155, 0.038174907982482104), (4476, 0.03816068273960682), (967, 0.0381521899474842), (348, 0.03808246849192315), (684, 0.03803721012903295), (496, 0.03797022311341807), (4391, 0.03791124821604486), (866, 0.03790295705360659), (3360, 0.037819740384275026), (1255, 0.03781481561991776), (963, 0.03778946563909825), (2430, 0.03774711318805473), (50, 0.03773945118492864), (862, 0.03773027140107228), (1762, 0.03771071925055241), (428, 0.03767524869810536), (1204, 0.03760372020460946), (3458, 0.0376035396528183), (2779, 0.03756067489279205), (3546, 0.03753732183882237), (468, 0.03753245182803676), (731, 0.03743832629642781), (3921, 0.037397456394614684), (2975, 0.037238150910831616), (2494, 0.0372049014871426), (2015, 0.03715386485400938), (3670, 0.03715070779329919), (349, 0.03710043749561645), (2755, 0.03708140641315541), (4609, 0.03704123637183134), (2660, 0.03703392377459107), (787, 0.03701267680965357), (4267, 0.037004265546803625), (544, 0.036985604361492036), (725, 0.036975581455937594), (203, 0.03695954824125834), (4119, 0.03688028869813884), (3094, 0.0368673617630072), (1503, 0.03686501501960425), (4619, 0.0368635697875452), (982, 0.036825002204002324), (1764, 0.03673460173575311), (457, 0.036696067029026405), (2207, 0.036695211836135715), (3512, 0.03665366169917534), (3875, 0.03664601893989875), (2598, 0.036611417035537504), (923, 0.03656701952773735), (6, 0.03655506067868037), (4479, 0.03650089588071494), (354, 0.03645439731853228), (522, 0.03645362545060718), (4374, 0.03642474273369279), (3154, 0.03616320016367176), (4564, 0.03609576658273482), (4504, 0.036071045645851285), (3951, 0.03604795546341658), (67, 0.036031306845549435), (2143, 0.035984365694873406), (43, 0.03594366742389659), (1068, 0.03593969611938585), (2350, 0.035939048370411474), (4218, 0.03591125818306324), (4628, 0.035902272164705255), (1223, 0.035895005894059674), (1874, 0.03585243356128129), (4688, 0.03584643269101092), (1530, 0.03578257383253964), (4099, 0.03571317985424019), (707, 0.03568576232944979), (844, 0.035641039047753335), (1682, 0.035620154315794975), (2535, 0.035558154744719225), (1512, 0.035478441519169325), (757, 0.03547770029294701), (733, 0.03540648501921735), (184, 0.03536518854104215), (1613, 0.035361431028003425), (843, 0.035342801315112804), (2145, 0.03531997201944077), (1741, 0.035302324813755975), (202, 0.03529917286436192), (979, 0.035299120800254526), (697, 0.035287874685750766), (3655, 0.03518765299378629), (2680, 0.035153656164751586), (3377, 0.03512945754447093), (2161, 0.03508767422067093), (2607, 0.03503467880813589), (2276, 0.03492945826762302), (201, 0.034889552105150705), (3284, 0.03488425921893079), (3927, 0.034846991855642794), (3873, 0.03479051933939433), (135, 0.03471775425586898), (1756, 0.03466723955061728), (4288, 0.03465727025137673), (2745, 0.03462565632305539), (2212, 0.03457812936920966), (1594, 0.03456398137772307), (3557, 0.03455770998293068), (297, 0.03451100290459873), (2409, 0.03450335592441466), (1561, 0.034491719928499684), (4555, 0.0344904890510797), (154, 0.03448797743765817), (2553, 0.03441094216561409), (1033, 0.034363612445371505), (3833, 0.0343485962640439), (2612, 0.0343428059911409), (1599, 0.03424004743235294), (2487, 0.03422936596815755), (2534, 0.0342263249377005), (4436, 0.034216690734959546), (2039, 0.03417633202468431), (1157, 0.034169085729372675), (4541, 0.034106995134220316), (1511, 0.03405563949757828), (2931, 0.03402169183802438), (198, 0.03401217322293009), (3386, 0.033938291754365905), (1129, 0.03385759370614495), (2297, 0.03383282924822775), (4286, 0.03379626387042454), (84, 0.03378877829604042), (1186, 0.03374012422051955), (1592, 0.03373537752428533), (2214, 0.03372843478474713), (2731, 0.03372689470810501), (356, 0.033722225672644025), (470, 0.03369774262302772), (3308, 0.03367779396586307), (467, 0.033669777246998024), (3019, 0.03363026164030823), (3475, 0.03358828735263951), (4448, 0.033550095596926614), (619, 0.03353125475642292), (3153, 0.03348669926273807), (700, 0.033437564247243284), (2277, 0.03337437218604627), (1850, 0.03337280489193764), (2962, 0.03334722755556193), (3005, 0.03331788044669338), (4200, 0.03330381315711077), (3906, 0.033294329660102706), (1747, 0.03327756703550428), (1647, 0.033275689550102246), (1263, 0.03327323794252805), (1549, 0.03325606205214199), (867, 0.03325434952588133), (2732, 0.03315559434994366), (4192, 0.03313338323187255), (2522, 0.0331286316016971), (3045, 0.0331199037403153), (3839, 0.03311443498180862), (4282, 0.033097775424070434), (3237, 0.03307732238568313), (192, 0.03307570785841021), (4191, 0.03303326419515359), (3395, 0.03303089476548006), (2036, 0.03301347051712907), (1461, 0.032943575776789746), (1911, 0.032942987789462946), (4347, 0.03291473635838795), (123, 0.03288140230401829), (3907, 0.03287406874985048), (856, 0.032843127224661595), (2651, 0.032830332963896446), (2001, 0.032745070318480556), (4132, 0.03273347187667591), (2047, 0.032728345747019244), (256, 0.032703646198227604), (241, 0.032671532023076176), (3671, 0.032670175082536695), (1776, 0.03263048466384912), (1787, 0.0325641252297279), (1071, 0.032542113357047577), (3864, 0.03253408129574298), (3661, 0.032513816380018185), (1471, 0.032511463354264525), (966, 0.03248032061206303), (1069, 0.032387584213198636), (2274, 0.03238607135445276), (3592, 0.0323400559510897), (1510, 0.032333428736421976), (2461, 0.0323090127687243), (239, 0.03227814712601004), (1224, 0.032222059854510945), (4069, 0.03215792466841337), (561, 0.03211901469507253), (1254, 0.032116030435696725), (2878, 0.03208804176859542), (282, 0.032066846639957965), (4089, 0.032023908271502), (1974, 0.03198365373307834), (2933, 0.031958127492317266), (3449, 0.0318491692440285), (2565, 0.03181596093771609), (1711, 0.03181332145397523), (96, 0.03172566537733709), (4226, 0.03170166475119798), (266, 0.03169365070866202), (2045, 0.031635836743272305), (1522, 0.031599460606251475), (981, 0.03158551280061842), (1658, 0.03157282988426358), (104, 0.03155896310418174), (1516, 0.03151031529833171), (19, 0.03149108066566344), (4110, 0.03138290579715915), (107, 0.0313512170836914), (2876, 0.03133317860343671), (769, 0.03133052912658353), (4269, 0.03127367913546527), (2698, 0.03122774038141954), (4511, 0.03122545305121482), (3238, 0.031215965852681514), (299, 0.031191668261092015), (3129, 0.031143226093776497), (1394, 0.03112108368518924), (1039, 0.031098707390144482), (4708, 0.031043974768184365), (4281, 0.031039727148974416), (479, 0.031000242995001877), (332, 0.030996784234860207), (2174, 0.03096535712891859), (1232, 0.030961953144750066), (2848, 0.030955840798733814), (2211, 0.03090598189634173), (460, 0.03086787098814241), (2250, 0.03085073940531013), (2447, 0.03083990763832719), (119, 0.03082825657190403), (169, 0.030814847210117582), (1469, 0.03081433518781622), (3518, 0.030813521661570347), (1542, 0.030799984444258986), (4061, 0.030768168005079772), (3149, 0.03076607330339113), (3179, 0.030752893363939788), (4190, 0.03073850747567977), (1304, 0.03071850674722327), (2320, 0.030691743208423633), (543, 0.03068940734973839), (1981, 0.030683338802286145), (4015, 0.03066072035104936), (3435, 0.03065456477158291), (301, 0.03064362437006858), (538, 0.030559273303738296), (368, 0.030492244020242327), (3772, 0.030477774672127218), (2319, 0.03046243706893635), (3996, 0.030360549042595268), (3658, 0.030349848141147003), (222, 0.030271573340391548), (138, 0.03024576342901031), (1566, 0.030184362784424525), (1241, 0.030168653034372613), (2436, 0.03015029822131665), (1586, 0.030077973231645804), (4757, 0.030075667704168703), (1115, 0.030070975695800063), (597, 0.030069161000625153), (1650, 0.030057294676618038), (1825, 0.030036664540147175), (161, 0.029960250908133423), (3253, 0.029956399039375532), (1823, 0.029947420604966635), (3745, 0.029911213212563636), (696, 0.029878598555605266), (1807, 0.02983291288825759), (3184, 0.029831216063734844), (3634, 0.029795194564672417), (1775, 0.029739319263694428), (365, 0.02972886672534454), (974, 0.029703322479418395), (3736, 0.029701887730297742), (384, 0.029657396185013146), (940, 0.029653480657472885), (4140, 0.02961204201227377), (2799, 0.029611731780795243), (1194, 0.0295866024017682), (566, 0.029577666517056588), (100, 0.029485311735703616), (1782, 0.02948373406884624), (616, 0.029473360190523743), (3144, 0.029467917346392675), (1622, 0.02946196112164602), (1002, 0.029416305100077804), (2013, 0.029403639124256382), (911, 0.029386597115160153), (1691, 0.029316793493832496), (794, 0.02930501847379712), (274, 0.029298862853352425), (1951, 0.02929102438963082), (3063, 0.029287621861663567), (4575, 0.02925543659771329), (569, 0.029245282703653515), (1494, 0.029229232614654627), (2819, 0.029177141135479836), (1848, 0.02916233672709203), (2460, 0.029155554517586942), (1493, 0.029153468712806982), (331, 0.02915206940744979), (182, 0.029137207504523765), (993, 0.029122699690007036), (3227, 0.029117030673123424), (131, 0.02911457144362663), (2691, 0.029084760445619452), (4348, 0.029058106679787532), (3857, 0.029050965728769463), (2689, 0.029049664116161493), (1005, 0.02903997381361704), (798, 0.029028151806243012), (3648, 0.029004211583274996), (1908, 0.02896048326495105), (1217, 0.028956830728299136), (2176, 0.028956557432446628), (3200, 0.028955873348878763), (1270, 0.028933303351685417), (618, 0.028931218215603446), (2334, 0.02892665737244541), (2681, 0.028912981299560818), (1310, 0.028880806322273012), (575, 0.028843030993078674), (324, 0.02882998739133147), (2668, 0.028823512645540214), (2376, 0.02881575622143158), (4486, 0.028790146138116618), (1412, 0.028733776543866794), (1463, 0.028728337337146925), (191, 0.02871770374981247), (1781, 0.02871238154862342), (2421, 0.028706841403692042), (2798, 0.028692353768618818), (2301, 0.028677951061602), (1101, 0.02867569987443803), (3498, 0.028667675658319534), (4507, 0.028637080947449805), (1897, 0.02862463985578033), (2845, 0.02861849088252528), (2791, 0.02859292792859948), (1675, 0.02858172505038837), (3001, 0.02857628489195016), (200, 0.028562912500337823), (1668, 0.028554235945673044), (907, 0.02855143644040218), (2546, 0.028531814776658268), (3902, 0.028447009330683826), (2632, 0.02844577996186657), (37, 0.028440186579582048), (3420, 0.02843098475506125), (1420, 0.028422491859769417), (1728, 0.02836326985488704), (4319, 0.02836323501722119), (3143, 0.02834870698387571), (345, 0.028336707465309537), (1996, 0.028317353899363868), (204, 0.028298558970014084), (895, 0.028296102341082728), (1366, 0.02824103305309812), (887, 0.02818937629939479), (3135, 0.02818789965214192), (1411, 0.02818178856034597), (217, 0.028158545428616667), (4032, 0.02814475032457019), (2984, 0.0281293130133428), (4093, 0.02812320543180708), (3394, 0.028119984596906816), (729, 0.028110042598963055), (1392, 0.028104298870344303), (3924, 0.028057948289909304), (374, 0.028043065022919228), (4022, 0.02802705512562056), (4003, 0.028016981633729256), (2550, 0.028005533783560858), (401, 0.027955371729110227), (1527, 0.027949162447211875), (3777, 0.027932440532909948), (4669, 0.0279235982558573), (115, 0.027876460001898005), (334, 0.02787462662360681), (1492, 0.027867949847780363), (9, 0.02785751637228682), (440, 0.02776964255403242), (346, 0.027765766836006147), (3678, 0.027763765050882752), (657, 0.02772234488089551), (1077, 0.027692712512211726), (4298, 0.027686456369681874), (3941, 0.027679117686063), (699, 0.02766106885640632), (3910, 0.027657822880667572), (2656, 0.027651229387715488), (1215, 0.02763154033754677), (3825, 0.027612984370031377), (427, 0.027601770098811707), (3409, 0.02757736596113588), (3932, 0.027498639085703394), (3980, 0.027475204532034735), (2645, 0.02747478052061307), (2088, 0.027456027108645087), (2564, 0.027446605942308064), (1359, 0.02744378638254692), (1454, 0.027415773162803237), (728, 0.027404687902739415), (215, 0.027403479836220587), (3690, 0.027383253635223547), (810, 0.027376287016103562), (371, 0.02730422491235889), (4501, 0.027298314312395003), (4046, 0.027257184084033586), (962, 0.02725160835888246), (1714, 0.02722996614921381), (4210, 0.027200892344892067), (4033, 0.027165682479781253), (788, 0.027156374168914255), (1799, 0.027152398590873462), (1709, 0.027130053878088825), (4038, 0.027101976376398718), (3426, 0.027090130912421184), (1751, 0.02705169546123748), (3589, 0.027041138592089658), (1425, 0.02703634705627205), (3016, 0.02702066908081125), (2808, 0.02700840593878359), (1802, 0.02699999290278811), (541, 0.02698015598121859), (3601, 0.026964853511180664), (144, 0.02693613825440077), (1533, 0.026879053058805624), (528, 0.026878810941029264), (2807, 0.02687773919059456), (3233, 0.026848013981757214), (1961, 0.026847878012118527), (936, 0.02683619030162772), (2014, 0.026810764929179144), (840, 0.0268101229688062), (2813, 0.02680271300079448), (2492, 0.026794378713530943), (768, 0.026775014282688053), (1096, 0.02677013594743561), (3197, 0.026750995467077508), (635, 0.02673303404213077), (456, 0.0267317085174082), (1888, 0.0267299540891954), (4189, 0.026722490865889396), (425, 0.02671311875398714), (2647, 0.02670936691101631), (424, 0.026676339742727054), (4171, 0.026615576036922536), (2202, 0.026608196167101042), (742, 0.02659646042308049), (935, 0.026547259597593735), (4334, 0.026538034859533953), (1818, 0.02651446421858556), (4563, 0.026504150477892167), (3076, 0.026497638991061365), (4596, 0.02646764959994916), (3819, 0.02644958118351914), (928, 0.02644047534594346), (4203, 0.026437209984514324), (3367, 0.026430856797642822), (2712, 0.02642984825027267), (2236, 0.026425049548313102), (3407, 0.026413061152973816), (2205, 0.026392875515309912), (3270, 0.026375715762695234), (3780, 0.026368756669208366), (2722, 0.026316603885591344), (2422, 0.02631349268674539), (4009, 0.026301710748655168), (491, 0.026293435577737598), (2037, 0.026283674792785608), (2821, 0.026273902374939213), (3531, 0.026230992681568685), (3286, 0.02620767567338647), (3515, 0.026186491110116998), (2321, 0.0261553719253739), (643, 0.026130495778924713), (2127, 0.026118360813386664), (3976, 0.026109468562492653), (445, 0.026106780590299347), (3279, 0.026094989522345055), (737, 0.026088311575820776), (3283, 0.02607282010492115), (2769, 0.02606231550083621), (3890, 0.026054941613641698), (4213, 0.02602130519091079), (4007, 0.0260034361376658), (2104, 0.025999337011552888), (4542, 0.025965981388181698), (4687, 0.025961815949810056), (2568, 0.025960367313954673), (1190, 0.02592711776156695), (3397, 0.025917475139654443), (3868, 0.025892131594960004), (4597, 0.025870802694358506), (3172, 0.02585938817437551), (76, 0.025856189992126584), (1284, 0.025836252632467596), (2895, 0.025833405288820405), (4589, 0.025826677511981082), (1581, 0.0258163560953469), (1952, 0.025812185208236325), (1957, 0.02579938813802646), (2418, 0.025773197454766583), (2427, 0.025763249877635667), (4051, 0.025757039043124118), (2531, 0.02574701259661847), (4478, 0.025735675190365046), (2511, 0.025714239392716307), (2908, 0.02571142950112921), (4068, 0.02570138315593916), (2699, 0.025692192931026748), (702, 0.02565222241639582), (4183, 0.025627822556710422), (677, 0.02560773246785567), (2269, 0.02560338825985967), (2894, 0.02558837361592947), (2133, 0.025582474829273782), (1131, 0.025580398112372314), (690, 0.02555954778630426), (2652, 0.025554301124046018), (4420, 0.025515315758578863), (129, 0.025495909910495433), (2107, 0.025493991684022534), (4442, 0.025480623204017436), (2784, 0.025459088099617964), (2221, 0.025435357549991017), (3759, 0.02542678770445097), (4071, 0.025424138804510617), (3214, 0.02541618359420117), (4194, 0.025383401118834255), (1095, 0.025371321752178606), (3877, 0.025356614622392137), (2870, 0.02530468066688351), (3487, 0.02526766436773062), (122, 0.02525044248920584), (3218, 0.025219661497382397), (1803, 0.02521592842314887), (2064, 0.02521590375329829), (1584, 0.025204412841900403), (3853, 0.025204337278836253), (4321, 0.025078986740915143), (1029, 0.025043851394330047), (4465, 0.02502974465580813), (3316, 0.02502966884938888), (4483, 0.02500245842141887), (1060, 0.024986153268330823), (2265, 0.024974052844854842), (3815, 0.0249538712544804), (3822, 0.02494341638452885), (53, 0.024924501874269672), (1539, 0.024923087982542884), (49, 0.02489214651791115), (4153, 0.024871959532952858), (3298, 0.02485677311305216), (4727, 0.024830576405596744), (1259, 0.02482312280805983), (886, 0.024807731215547187), (4085, 0.024791874552545563), (4591, 0.02476376818339748), (3533, 0.02472978103645785), (4536, 0.02472447594153588), (2802, 0.024722745905154934), (4031, 0.024701858881733915), (2371, 0.024701535696823824), (3293, 0.02468798884539252), (3842, 0.024662083027251418), (2144, 0.024661921944325066), (1257, 0.024660182546744264), (2633, 0.02466015137106939), (1551, 0.024629841459580484), (1092, 0.024597164399192663), (3071, 0.024595559097736926), (514, 0.024594455505880325), (1221, 0.02457390503597085), (1738, 0.024545233718928423), (1863, 0.024513577525026923), (3626, 0.024493498587315126), (3783, 0.024486324077261472), (2978, 0.024479826695978098), (254, 0.02446582984927018), (803, 0.024443929184949913), (1018, 0.02444330835064977), (3028, 0.024438222341444577), (1827, 0.02443557722317514), (869, 0.024379396754992618), (1453, 0.024375309012181937), (4472, 0.02436601891321452), (4602, 0.024359885489380003), (4471, 0.02432670540463623), (237, 0.024295453614071014), (3265, 0.02429098440982333), (2838, 0.024282893156037343), (687, 0.024281541725358187), (1521, 0.024271985915774272), (4293, 0.024261888805127328), (545, 0.024229872445398204), (86, 0.02419113919102122), (4624, 0.024181766405614015), (1569, 0.02417767130377688), (1362, 0.02417425761497386), (4313, 0.024172986124032837), (1698, 0.02416602992741104), (2389, 0.02416377134221788), (0, 0.024150160564458793), (3845, 0.024148822685522327), (353, 0.02414720800133169), (4344, 0.024142940498900013), (4176, 0.024130396153179565), (4467, 0.024111106771869367), (2665, 0.024096780751090507), (2920, 0.024068025613553375), (924, 0.02406364760469651), (1153, 0.02406057535828901), (3401, 0.02406014340767102), (775, 0.02404490031536108), (604, 0.02404348789840788), (3234, 0.024022199733799342), (102, 0.024020736153319327), (3132, 0.024014983628128612), (2591, 0.02401369230134167), (4543, 0.023969611892942416), (1500, 0.02395974798211388), (3470, 0.023958825003056135), (3342, 0.023956517629189305), (3977, 0.023913503317437537), (78, 0.023909039238218376), (1093, 0.02389343530708385), (4515, 0.023892487978644107), (288, 0.023888269332088014), (1555, 0.023886402335299605), (2839, 0.023877709191859917), (441, 0.023837096000815815), (1118, 0.02381362866410767), (4338, 0.023785484171762683), (4682, 0.02377448963749554), (3936, 0.023763638585125993), (2259, 0.02376109541934037), (4109, 0.02376044913302218), (691, 0.023747949785672684), (3073, 0.02374222347988656), (3044, 0.02374109245944616), (409, 0.023728816333463527), (3433, 0.023725668082515198), (2789, 0.023702871629088223), (3130, 0.023702071166432834), (2936, 0.023653115732375836), (1197, 0.023648489130271667), (3938, 0.023628641508645506), (988, 0.02362183210817425), (4121, 0.02361320765082517), (106, 0.023591265904483343), (4289, 0.023567377431507906), (2182, 0.023549451844963272), (287, 0.023536298065129108), (2622, 0.023533770065695316), (689, 0.023526572143061454), (4652, 0.023495213814350102), (101, 0.023491155638879182), (4143, 0.023477398584706537), (640, 0.023441042868104327), (901, 0.02343776008213004), (1286, 0.023425057010323047), (2706, 0.02342414161383302), (2739, 0.023404472458787073), (3979, 0.023396717800679007), (2812, 0.02337869077484953), (723, 0.023376025504632216), (4354, 0.023370062151582834), (410, 0.023358760188901772), (1495, 0.023353328498245025), (395, 0.02334765246990847), (3199, 0.02334426051707108), (1307, 0.023309382401830822), (2316, 0.023307720780105116), (2539, 0.02326759049308759), (36, 0.023253388583169485), (1376, 0.0232394751453329), (722, 0.023239432247917247), (3991, 0.023225684210965547), (2381, 0.023225422173270855), (3323, 0.023221271276717238), (4271, 0.023220708369034327), (105, 0.023216799931634995), (3474, 0.023215046010233324), (3134, 0.023211196306263657), (3456, 0.02318090117714731), (1249, 0.02317633176074079), (1393, 0.02317358961405821), (4146, 0.023133158476832158), (4217, 0.023125495055855625), (952, 0.023122442886243433), (2892, 0.02309506031043402), (2062, 0.023084368801975036), (4369, 0.023081717903368052), (2996, 0.023077478907181447), (2175, 0.023074167621156643), (3709, 0.023054190879264705), (4294, 0.023046965195401337), (3650, 0.023039766871280197), (218, 0.023032381650861647), (2977, 0.023027493414908968), (1893, 0.023022617043979593), (2653, 0.02301353310458741), (3226, 0.02300286050294747), (3968, 0.0229995781393777), (1140, 0.022985709357869137), (1759, 0.02298396438836038), (2725, 0.022975823854916755), (4018, 0.022970537644667104), (220, 0.022940411107098366), (659, 0.022938588176829464), (1950, 0.02293158357295242), (4395, 0.022920163934916415), (1780, 0.022893214413801797), (2814, 0.02287990258377512), (1617, 0.02287876825100995), (1496, 0.022860607690821565), (763, 0.022856049240486294), (1578, 0.022830953837919377), (3928, 0.0228131893182223), (3345, 0.022777878432918643), (3168, 0.022777148085276894), (4733, 0.022751401597343526), (1645, 0.022745652418134497), (957, 0.022716865795934675), (3959, 0.02271149876676201), (4006, 0.02270827894975674), (2055, 0.022700461291731963), (3657, 0.022698505777755246), (1439, 0.022693067731911903), (3478, 0.02267757079467403), (1730, 0.022662917967322053), (3563, 0.022658101328255457), (1700, 0.02262743506968635), (4411, 0.022615511257787754), (2972, 0.022605713068897918), (389, 0.022586382381550557), (2562, 0.0225720618455633), (1379, 0.022556657829421525), (3730, 0.022538331600257998), (386, 0.0225304095444835), (3173, 0.022514807212877026), (1387, 0.022513398510094457), (785, 0.022509435862204302), (55, 0.022503036411585218), (1473, 0.022480429195863808), (1345, 0.02242834338781826), (4629, 0.022406567762320685), (1175, 0.022397112236218583), (3275, 0.02239669700108812), (340, 0.022367015632082547), (2382, 0.02236650069534503), (3829, 0.02235425553175785), (63, 0.022336231266461393), (4379, 0.022333770522151346), (874, 0.022310623457540618), (2268, 0.02230264752318046), (233, 0.022291516693192667), (1935, 0.02227361256142402), (2763, 0.02225682153022912), (4094, 0.022223595698566592), (3818, 0.022218853143708365), (81, 0.02221507165609634), (3097, 0.02220326438165633), (3166, 0.0221973603413059), (302, 0.02218833095633029), (1222, 0.02217762271304058), (2244, 0.02217169994222439), (172, 0.022157006343554497), (145, 0.022114641231722416), (4095, 0.02209102311939102), (497, 0.022075881625544358), (4055, 0.022064304968965772), (872, 0.022051644655278223), (4320, 0.022034533681713195), (3551, 0.0220230065353166), (1390, 0.022016913002813773), (2285, 0.02200241212125649), (1191, 0.021994692976184275), (3841, 0.02199395820987194), (2408, 0.02197934933143879), (2611, 0.021970895570014824), (3259, 0.02194881641834516), (608, 0.021938001169487874), (780, 0.021936697637166616), (749, 0.021935355841931355), (117, 0.021919825582716216), (260, 0.021896093511209292), (2688, 0.02189182500775292), (3982, 0.021874950631637143), (397, 0.021872589168845973), (3741, 0.021859903473930135), (2850, 0.021859460732556568), (2740, 0.021852755764988), (629, 0.021828261967425912), (3778, 0.021826970053282182), (613, 0.021820775044211423), (160, 0.0218091944224851), (454, 0.021800053892231788), (1590, 0.021787768279458365), (1026, 0.021784745377483337), (938, 0.0217719275289606), (4157, 0.021769613238053136), (3122, 0.021748531613270165), (1472, 0.02171475736459346), (1308, 0.02169867474105767), (98, 0.021696420381910216), (171, 0.021695834896357485), (3388, 0.021693451104238266), (3118, 0.021676506746232976), (261, 0.02167569809167237), (126, 0.021664885292108478), (758, 0.0216642943290723), (352, 0.02166080222733997), (3157, 0.021651346848699224), (3355, 0.021641660662021632), (3225, 0.021614316484973518), (3467, 0.021591489864556956), (2873, 0.021581786526007063), (4351, 0.021572541678279655), (881, 0.021537482761519487), (2046, 0.021522229080892012), (3984, 0.0214785603294936), (399, 0.021468913271764815), (1666, 0.021449726860255074), (46, 0.021430050522395216), (2969, 0.02142269741652933), (3403, 0.02140838009777814), (4600, 0.021378500067349784), (2029, 0.02137299351429499), (244, 0.02136385385506068), (2441, 0.021362872336258776), (2322, 0.02135818468751982), (2169, 0.021335655423698564), (1769, 0.02130264415596439), (2587, 0.021299186249239474), (1135, 0.021283365795837852), (4546, 0.021259710990849178), (2574, 0.021251936804123413), (1742, 0.02123147968802208), (847, 0.021230939936696933), (4283, 0.021228205418670522), (4086, 0.021224335162381102), (2348, 0.021221554371925945), (1384, 0.021203233271101393), (4270, 0.02118073173354215), (3579, 0.021162750692660624), (1567, 0.021153765914284514), (1855, 0.021145197932923143), (3797, 0.021143129671666892), (221, 0.021124113773936748), (1744, 0.021121657745512282), (214, 0.0211205245433329), (3022, 0.02106943740880371), (4731, 0.02103686993738324), (2188, 0.021027639931919244), (4309, 0.0210127120862759), (32, 0.021006305890088124), (1518, 0.02099935831207979), (2051, 0.02099304909136791), (1208, 0.020989265555012446), (1748, 0.020984930042884584), (1001, 0.02096893597025842), (537, 0.02096730630680672), (408, 0.020966965244229384), (772, 0.02096046708988366), (1718, 0.020956944674860062), (2442, 0.0209516466532619), (3091, 0.020928222917636068), (4193, 0.020919637881515525), (2493, 0.02091573402409155), (3133, 0.020882520277355668), (1982, 0.020879575471901758), (2899, 0.02087917756643496), (2229, 0.020878785001753723), (2485, 0.020874781092271415), (3716, 0.02085669752797307), (2122, 0.02082361815207474), (4748, 0.020820330778265), (2834, 0.020818739151478884), (112, 0.020814027941859103), (1973, 0.020812303892127983), (3089, 0.02076571584352331), (1649, 0.020760302399638806), (692, 0.020757933279512416), (2671, 0.020740414779063757), (1784, 0.0207046007436408), (1608, 0.020688773059258952), (2303, 0.020675551301431082), (3108, 0.020670733250375155), (3610, 0.02067013084820752), (1427, 0.020644365195388408), (369, 0.020623687478892237), (1067, 0.020623313846782072), (1886, 0.020585884311968814), (1041, 0.020585801287059117), (594, 0.02058368868169988), (4077, 0.020579417581328904), (1821, 0.020578209120600266), (1654, 0.020556834107003527), (2624, 0.020554844544904888), (411, 0.020550704495930085), (2816, 0.020525405129839573), (1487, 0.020523960095393232), (3127, 0.020523267941245572), (1988, 0.020480174889072836), (4158, 0.020464019075633135), (2224, 0.020436203287813044), (1403, 0.020427167970938742), (4388, 0.02042634332778175), (3577, 0.020410765246314903), (638, 0.02039911448334772), (2318, 0.02036886263490424), (4341, 0.020363816448602585), (2112, 0.020353095817448222), (3459, 0.0203515703524271), (857, 0.020315874459482804), (2519, 0.020309782558917265), (824, 0.02030784205085076), (4739, 0.020302240022513532), (2287, 0.020297655783492165), (1808, 0.020273366878059536), (1171, 0.020269845000249535), (1046, 0.020269767938732346), (1699, 0.02026669462902269), (527, 0.020264245745928652), (3318, 0.020258128180218556), (4159, 0.020255721349232658), (152, 0.02024210078120733), (1688, 0.02024194556597099), (800, 0.020234935372376), (3677, 0.020204636808289926), (376, 0.02018869555814127), (1651, 0.020183529163148646), (1737, 0.02018171725364503), (3147, 0.020157084384968722), (1199, 0.020144642854218152), (3956, 0.020136114170346137), (4488, 0.0201281603534257), (577, 0.02011683575070322), (2022, 0.020096929814976943), (1792, 0.02008227062898113), (565, 0.020080017446495377), (2031, 0.020076426122859935), (322, 0.02005661302142405), (2486, 0.020049089809783097), (1119, 0.020038897923211653), (472, 0.020021830274745613), (3121, 0.02001933242527473), (243, 0.020012362737729168), (4594, 0.019995347281445332), (2309, 0.019993321310878755), (562, 0.019989392859995084), (166, 0.01998052447139662), (2618, 0.019955937499845432), (2603, 0.01995125662050544), (2252, 0.019929589544751023), (2240, 0.01991717625765295), (4105, 0.01990857012119016), (2840, 0.019902199090541077), (3813, 0.019877560827541812), (2193, 0.019803747484379887), (33, 0.019795750471023492), (162, 0.019775232073891237), (877, 0.019755212580043893), (2338, 0.01974250282822331), (511, 0.019729662827520433), (620, 0.019722422601829222), (1501, 0.019718804798320846), (3287, 0.01971762437583847), (1006, 0.019715256582391767), (2724, 0.019713416206442805), (3643, 0.01970315407582659), (1114, 0.019690861485262046), (521, 0.01968302105360596), (3033, 0.019667601890012078), (1619, 0.019643708822256023), (4431, 0.01963936228685778), (1779, 0.01963202318957765), (2069, 0.019630816959996363), (3905, 0.01962151265197399), (373, 0.019584588216249976), (2924, 0.019569829937793826), (3603, 0.01955679019880808), (4345, 0.01954890705966462), (3689, 0.019535773832316396), (3708, 0.019528186383134753), (61, 0.019519523849382527), (816, 0.019517810313367877), (3694, 0.019516068969612946), (1172, 0.01950619057219314), (2790, 0.019505407145830315), (4332, 0.01948234976307579), (4025, 0.019463357013437793), (64, 0.019440673126808295), (2065, 0.0194351038843918), (4371, 0.019416855717438723), (4182, 0.019415819017284598), (3111, 0.019415490687732136), (632, 0.019398345556082407), (4262, 0.019392188145490617), (1994, 0.019335366956503904), (708, 0.019330501916358794), (1965, 0.019329939428567536), (149, 0.01932374427963685), (2041, 0.01931954842724289), (419, 0.01931921664908375), (2311, 0.01930610890679925), (1214, 0.019302108869511326), (2134, 0.019294043430351918), (3437, 0.019277688078107386), (4462, 0.01925189239678531), (1985, 0.019237650206627217), (2237, 0.019215435158406825), (897, 0.019206046409867342), (4452, 0.019196426693136433), (2056, 0.019181416377445477), (3026, 0.019154092877910638), (1484, 0.01913553849978742), (2129, 0.01909596190772049), (291, 0.01907195247290406), (1054, 0.01907167475712405), (1402, 0.019067848685826172), (3408, 0.019062128458728844), (2449, 0.019060072489601745), (2988, 0.019049975244352504), (1504, 0.019048297205696896), (1508, 0.0190253732972811), (1408, 0.01900759264951949), (3623, 0.018996657258253218), (1678, 0.01899284716719573), (2412, 0.018966542099207083), (2469, 0.018963955803434136), (1971, 0.018934057885757086), (4732, 0.018910566041625214), (2203, 0.01890404888532592), (293, 0.018890243582679364), (1365, 0.0188887059775418), (1557, 0.018834640594332576), (1585, 0.01883380205145672), (109, 0.018824625525565852), (586, 0.018725332162528828), (344, 0.018720581718295444), (4590, 0.018690757293354014), (1865, 0.01864915991114232), (1105, 0.018641566273632514), (2758, 0.018637189519352223), (2610, 0.018633363969321595), (3375, 0.018632502302079725), (955, 0.01862094498369286), (3151, 0.018619410159821152), (3629, 0.018533141940104584), (1297, 0.01852741100519084), (502, 0.018525145320421686), (196, 0.018514258596636458), (1019, 0.01850775625367656), (1517, 0.018504836174567534), (4524, 0.01849302032754227), (4050, 0.018490542450750262), (1772, 0.018485705087479622), (913, 0.01848552679047574), (2793, 0.01846326720627141), (2626, 0.018460125825341997), (2227, 0.018457169908045225), (432, 0.018446300274961355), (3516, 0.018439265280498527), (1880, 0.018427805306599085), (870, 0.018425653632488923), (4255, 0.018424648835517143), (1459, 0.018421989897646995), (156, 0.018411158836803367), (2729, 0.018403130257349895), (29, 0.018398150820455768), (1746, 0.01839663081104343), (1537, 0.01839326350400986), (48, 0.018374963372824602), (1565, 0.018365057055662243), (3743, 0.018351579507437557), (1432, 0.01834990476534864), (3436, 0.0183485401725317), (1446, 0.018335913831325778), (4148, 0.0183301238700395), (2777, 0.018322455900231627), (4199, 0.01831472701585629), (1112, 0.018305699123026084), (1851, 0.01830073127390407), (1272, 0.018284797939520585), (1319, 0.018276683081191097), (2095, 0.018270775293036653), (455, 0.018242926903737293), (1727, 0.018211201301826803), (850, 0.018157717040723595), (2481, 0.018137015393966), (2621, 0.018107880287331936), (2605, 0.018099345166141947), (2219, 0.018089454829442256), (509, 0.018075370629919058), (3826, 0.018069631824193952), (2935, 0.0180695929393662), (3963, 0.018068991974741426), (2166, 0.018063357123807362), (1755, 0.01806224196903875), (2416, 0.01804693291424781), (4658, 0.018030202015799725), (2859, 0.0180156134467293), (3399, 0.01801519577447861), (3329, 0.018007903189530314), (1896, 0.018002736049329508), (1923, 0.01799414383472133), (1740, 0.017992911357118176), (2115, 0.01799029147301084), (483, 0.01798088335401208), (2580, 0.017976446732937464), (2246, 0.017974881768902766), (2792, 0.017949483185547024), (4640, 0.017902014973913187), (2084, 0.017880666244421233), (900, 0.01788025451569414), (3011, 0.017880215516170757), (560, 0.017879899602495978), (3010, 0.01786516617851941), (1121, 0.01786141550851591), (4257, 0.017861296637465374), (1369, 0.0178610158914576), (530, 0.017856509311714047), (4062, 0.017845710496358906), (1570, 0.01784345600885661), (2841, 0.017834869671246076), (583, 0.017829267216486734), (41, 0.017812344857164937), (1601, 0.017800956711047054), (3823, 0.017800277100914728), (2058, 0.017797399057067793), (3598, 0.017795170482177734), (485, 0.017775489107278584), (2465, 0.017773640149986534), (4663, 0.017767475021797804), (3304, 0.017729156128039256), (422, 0.01772729044678333), (3454, 0.017715681901774822), (2150, 0.017713598911424346), (1532, 0.01769622509645143), (62, 0.017687450631521606), (664, 0.01768061418345874), (186, 0.017679780669362252), (2024, 0.017679003919440026), (2765, 0.01766072825462561), (3701, 0.017654286593017612), (2746, 0.017648915913762334), (3303, 0.017580754682713702), (2714, 0.017567994183288714), (668, 0.017567023547533953), (995, 0.01756135836810679), (304, 0.01755346981822197), (1300, 0.01755117536470402), (3384, 0.017549709742985267), (1312, 0.01754335548384378), (2099, 0.017540367274233762), (2327, 0.017540108616962907), (1992, 0.01752298268762291), (1562, 0.017502757691108612), (3451, 0.017501395423228223), (4399, 0.017499702761220884), (3706, 0.0174953478586918), (504, 0.01749376792571885), (2216, 0.01747612686456189), (3243, 0.017474527388116962), (3748, 0.017452195767378206), (3970, 0.017444522189001364), (178, 0.017424851066161044), (4730, 0.01742104186112606), (1324, 0.01740167642873163), (584, 0.01740099134346215), (1245, 0.01739215672072612), (1125, 0.01739114180351445), (4125, 0.01737568930277567), (488, 0.017368555109922912), (2083, 0.017354071525869614), (4075, 0.017348814806372504), (438, 0.01733152238848918), (540, 0.017327439824020744), (367, 0.01732577315284485), (4435, 0.017324154964866254), (1229, 0.017317782815209355), (818, 0.01729778804094969), (3631, 0.01729464994418296), (2398, 0.0172722693111162), (1630, 0.017258495615654797), (3398, 0.017252574778718888), (2339, 0.01724705264082651), (4359, 0.017241620937459363), (2128, 0.01720479529185949), (4135, 0.017201464823128745), (2809, 0.017185996877585995), (2363, 0.01717543385990639), (414, 0.01713781029049077), (469, 0.01711946624417289), (4650, 0.0170901467358402), (4679, 0.017049871585818506), (3077, 0.017043411932453054), (929, 0.017038939295905255), (1480, 0.017025898669060572), (949, 0.016981501629694796), (111, 0.016946043930678268), (579, 0.016943991418235473), (1648, 0.01693822157044087), (1136, 0.01691105989952254), (3571, 0.016909239715172518), (3564, 0.01690872069154513), (588, 0.016886915774776377), (1931, 0.016875086547469817), (3575, 0.01685724730921215), (4721, 0.016828394824820913), (1418, 0.016812629453399498), (3387, 0.016801439675007045), (4274, 0.016801411573710564), (1771, 0.01679686377349732), (4642, 0.01676977586891061), (1750, 0.01675557976660248), (1354, 0.016752870772243314), (2007, 0.016724825560150477), (1690, 0.016700070440941992), (1261, 0.016687284191571897), (948, 0.01668201511915756), (1160, 0.016666236968443847), (4064, 0.016642350436762706), (4604, 0.016637972214922515), (549, 0.016637332237627915), (4253, 0.01662700586729954), (449, 0.016608992072693826), (1812, 0.016602226768089014), (892, 0.0165923996289812), (3333, 0.016587922099180055), (2208, 0.016575232576228043), (551, 0.016550678734438475), (3508, 0.016549573815525548), (710, 0.01654428556668386), (3790, 0.016540741950360368), (1605, 0.01651526285739628), (3540, 0.016510716770195104), (1234, 0.016499060826849772), (1895, 0.016496270550226403), (60, 0.016471655859573085), (3646, 0.01647136763911488), (4689, 0.016449988113184072), (3514, 0.016446104595443184), (3492, 0.01644092803711681), (463, 0.016423101165968554), (2738, 0.016397074957962804), (1582, 0.01637130715876817), (2581, 0.016368462978867876), (1934, 0.01634695029090307), (3505, 0.016330273828904607), (3539, 0.01628397988029677), (3264, 0.01627506560521188), (44, 0.01625705302332073), (3583, 0.01625260753097623), (1377, 0.016247355964281472), (1721, 0.016244589721501244), (2576, 0.016243851055985796), (4568, 0.016239668416620806), (2801, 0.016238849691960554), (805, 0.01622513033869301), (3569, 0.01621589725814671), (2762, 0.016205902110240634), (3351, 0.016189493945413417), (605, 0.01617933420570944), (3315, 0.016143999609016232), (1839, 0.016132675403875592), (3912, 0.016120269914662554), (828, 0.016117499099836882), (4403, 0.0161174794402435), (2368, 0.016116634202878274), (493, 0.016111519044958014), (2070, 0.016109544871878753), (249, 0.016098650969787163), (1816, 0.01608988093847845), (2496, 0.016074203946252485), (1044, 0.01606012514460996), (2906, 0.016024131816061743), (1743, 0.016014770973842008), (2385, 0.015988606668206083), (4473, 0.015984232186569945), (1559, 0.015973031283038112), (2367, 0.01596132989291768), (3410, 0.015955112834104456), (3311, 0.015948030738190587), (4011, 0.01593404531485118), (1207, 0.015924633246731146), (3541, 0.01592371431855878), (148, 0.015901952011918942), (2049, 0.015894997290925313), (4201, 0.015891275953846234), (3923, 0.015886274739617814), (3314, 0.015885539695910268), (2617, 0.015884923094927415), (3616, 0.015884328082624185), (1845, 0.015871054624513044), (437, 0.015853393163175435), (642, 0.01584114676567279), (4002, 0.015809382980906544), (275, 0.01580815616564576), (4237, 0.015799772968027086), (1946, 0.01579071121442506), (746, 0.015782904249682362), (4154, 0.01577648995863612), (2654, 0.015765393780387795), (4498, 0.01574670557716028), (1464, 0.015735527484143044), (951, 0.015732953913055944), (225, 0.015714467970580532), (1298, 0.015709008261663198), (2004, 0.015695370005382313), (137, 0.015692436775997017), (1262, 0.015682731230938905), (1838, 0.01566904473207603), (116, 0.01566660822861769), (904, 0.015631771566509987), (3787, 0.0156305892959881), (434, 0.015606907717509997), (523, 0.015605621587158319), (1396, 0.015604285174049135), (1695, 0.015601989892968664), (1351, 0.015587286409400023), (1944, 0.01557795035056778), (2116, 0.015563852324605092), (1736, 0.015528861554577882), (1146, 0.015525024151589874), (1280, 0.015513449650889802), (1873, 0.015509903190010667), (3594, 0.015498397447384972), (2448, 0.015492189616579364), (3152, 0.015476238825854544), (2640, 0.015467957276356723), (343, 0.015464693990843947), (778, 0.015449980330750058), (3536, 0.015446209066162557), (1152, 0.015438346802444483), (1659, 0.01543127604749171), (3948, 0.015427473635838592), (309, 0.015426619706454703), (4477, 0.015416793195965147), (358, 0.015397386814616915), (1156, 0.015381251101775626), (2410, 0.015373531436730672), (660, 0.015371449723444435), (4097, 0.015366459622856328), (2032, 0.015356879094078704), (752, 0.015356856674315456), (2720, 0.015354853993656332), (413, 0.015338075576431087), (1144, 0.015331087079484124), (4010, 0.015325109543996926), (1117, 0.0153224928619173), (3558, 0.01531046642307025), (590, 0.015304367321727116), (3789, 0.0152891568758119), (1729, 0.015248305982472015), (113, 0.015245962965070659), (2503, 0.015245816128255355), (1640, 0.015234730203797172), (2034, 0.015232078363531288), (1226, 0.015230772327266532), (2619, 0.015220406213901264), (2109, 0.01521486021521172), (821, 0.015213185780394971), (1116, 0.015213036268275904), (4451, 0.015183383642894161), (3193, 0.015182727129600976), (1676, 0.015165114675830243), (1526, 0.015158680256334366), (1636, 0.015158421043219723), (956, 0.015149900511556015), (1515, 0.01514734529533677), (4385, 0.01514649457712057), (3733, 0.015138902035414719), (804, 0.01513823820225193), (944, 0.01513222924436395), (3269, 0.015130410971042443), (823, 0.015125674183689809), (448, 0.015113793622695732), (4211, 0.015111800450017131), (1389, 0.015104574040845333), (1149, 0.015104244321431128), (2601, 0.015074180218479016), (1243, 0.015073796309128492), (1603, 0.015060251274218998), (939, 0.015053300371780456), (3566, 0.015049614364996786), (1949, 0.01504318492740231), (1929, 0.015006096943253187), (3858, 0.01498817820117696), (3232, 0.01498764143750628), (4392, 0.014987090904169272), (3811, 0.014982058825716103), (1872, 0.014958166504572578), (1614, 0.014954171273650809), (2530, 0.014907756097112432), (3681, 0.014892721054623323), (1733, 0.014883956364336664), (1797, 0.014882626032613516), (508, 0.014879382325303114), (1355, 0.014877709956360122), (873, 0.014872485122224149), (1382, 0.014859395821266662), (252, 0.014832996578693221), (66, 0.014820675762049814), (789, 0.014818600759596777), (2520, 0.014813007802377261), (1027, 0.014801738801846032), (568, 0.014783383508613974), (614, 0.014773254859149515), (1479, 0.01472712006272233), (3973, 0.014722776541958315), (2162, 0.014718742558701902), (3444, 0.014716413076256814), (4324, 0.014712800500265986), (3169, 0.014703147181610782), (27, 0.014695352395534178), (3046, 0.014668189392752998), (465, 0.014667992004109075), (1318, 0.014657259600898346), (4067, 0.014656568140222346), (3983, 0.014640868973758193), (1793, 0.014638329114379124), (578, 0.014617552950638142), (958, 0.014616692943629573), (2672, 0.014603797866702253), (3728, 0.01460329333184642), (3889, 0.014591791648303185), (3869, 0.014586959996760893), (4356, 0.014586821832131242), (676, 0.014585897513569465), (2377, 0.014576478915955437), (443, 0.014558643021737823), (1045, 0.014551636558809684), (1528, 0.014551169605046533), (4603, 0.014538643375231232), (1520, 0.014537288840581163), (968, 0.014524779651085276), (174, 0.014517736690483419), (3801, 0.014505148307600552), (2951, 0.014499635936455433), (4453, 0.014489325326146019), (1143, 0.014488021585358314), (2744, 0.014479934825529832), (4141, 0.014466351889397315), (4108, 0.014434974357049123), (4699, 0.014430478475373213), (3461, 0.01441202642600873), (3175, 0.014398834278395129), (4034, 0.014397124302443177), (2291, 0.014394490388259247), (1177, 0.01439150368727973), (1277, 0.014378437057458612), (1008, 0.014366968582647976), (2094, 0.014346318456136691), (3555, 0.014345015224579717), (2704, 0.014344535580088488), (2817, 0.014333165168471136), (1034, 0.01432928453851021), (1267, 0.014328994748683037), (3532, 0.014328498509400059), (2241, 0.014313756055884938), (1968, 0.014311076521036593), (31, 0.01430389004499844), (4389, 0.014279561819163372), (1696, 0.014278648730730606), (1662, 0.014273658294710377), (1635, 0.014272334319980056), (4207, 0.01425334664899907), (38, 0.01424176887657162), (2994, 0.01423472587424317), (2865, 0.014232888942579203), (890, 0.014225631664576795), (2560, 0.014213531074240515), (1375, 0.014210352285750648), (688, 0.014185319068583578), (4459, 0.014181663915037163), (3618, 0.014176270431751885), (1587, 0.014171510569789877), (1349, 0.014159229068329903), (781, 0.014147144004276326), (2035, 0.014136055702259469), (3584, 0.014130787455184757), (2353, 0.014123796113369525), (2222, 0.014106345163469473), (4404, 0.014047662698948334), (1657, 0.014047123866651896), (4614, 0.01404389376258629), (1660, 0.01404237645054355), (3549, 0.014039320438841128), (2087, 0.014017445841130616), (2431, 0.014016637752082726), (2940, 0.013993756047954269), (1997, 0.013991845156653002), (4516, 0.013987435991075787), (3920, 0.013976840426265569), (4330, 0.013961248618903256), (3406, 0.013958716820286515), (4057, 0.013958550521470348), (908, 0.013958212446660786), (1462, 0.013938459712902062), (2444, 0.013938177944407087), (451, 0.013932170399937226), (327, 0.013928689535141687), (3464, 0.013918135118822804), (2893, 0.013905034632140434), (1447, 0.013861079875681477), (1154, 0.013848311025158495), (1155, 0.01384761422661651), (3390, 0.013841220194946371), (931, 0.013831154417240421), (1932, 0.013815097590281036), (1907, 0.013798833159639139), (1881, 0.013794736865982616), (4517, 0.01379400987164396), (377, 0.013786958053130967), (846, 0.013785569050433336), (3752, 0.01378331911629825), (3499, 0.013781611626403302), (971, 0.013767644126384681), (2477, 0.013765216198198085), (4300, 0.013764379370959343), (3188, 0.01376108920102654), (3812, 0.013738197068783277), (2751, 0.013735207578321657), (961, 0.01372894666771532), (1525, 0.01372182271226178), (3150, 0.013701048175089374), (1589, 0.01370095156586548), (510, 0.013695013859945069), (960, 0.013688739287344645), (1664, 0.013666177625007067), (1726, 0.013663199816810224), (2771, 0.013644128442558618), (2911, 0.013635771281387172), (529, 0.013624195896303395), (2016, 0.013624098775672772), (3374, 0.013607374474126055), (1485, 0.013607310909330572), (987, 0.013594256054116117), (3272, 0.013586546206439894), (4551, 0.013551832412544765), (2156, 0.013550039335638545), (792, 0.01354919643346099), (4535, 0.013548512328441962), (830, 0.013546042939504867), (444, 0.013535168780288825), (1275, 0.013531170447278258), (4304, 0.013501759726841134), (2942, 0.013482721602852833), (827, 0.013478666408617043), (3391, 0.013461726425220293), (2280, 0.013437573403736795), (4101, 0.013432450463716947), (1162, 0.013424489330780134), (1600, 0.013422926590391585), (1924, 0.013417282368442442), (4168, 0.013416972176756), (4492, 0.013413641312231911), (2579, 0.013410871120876515), (2871, 0.013402728639133827), (1022, 0.013392250519092559), (871, 0.0133920066065037), (4112, 0.013386278487004886), (4342, 0.013374792511606233), (1677, 0.01335268867708098), (1963, 0.013352411485466589), (11, 0.013346081439841933), (1437, 0.013345213992245808), (480, 0.013344229556764267), (1794, 0.01332150153278561), (2910, 0.013297946186504258), (973, 0.013293504494496343), (945, 0.013278238239881907), (216, 0.013275488432429573), (2167, 0.013273010558343568), (1984, 0.013261822781393066), (219, 0.013260285743783158), (4178, 0.01325880816200102), (158, 0.013242188234442814), (1509, 0.013226993204864843), (1299, 0.013226508967647101), (2329, 0.013221777969387435), (3526, 0.013220162493976683), (3260, 0.01321438405061827), (426, 0.013213115502564312), (507, 0.01318239182655394), (994, 0.013154203571826888), (2897, 0.013144269976820435), (270, 0.013134288614721544), (883, 0.013128364707743746), (3125, 0.013123976426104182), (4364, 0.013121643758578726), (3957, 0.013116214133837598), (3807, 0.013115270193866643), (1113, 0.013078402867519535), (861, 0.013062492262145516), (1179, 0.013058479367510666), (2355, 0.013041628224725047), (2163, 0.013038192499791972), (177, 0.013035140421792846), (3099, 0.01303109901479182), (2818, 0.013030831728063063), (4419, 0.013028920277619316), (3917, 0.013015429670368062), (2641, 0.013007549344840753), (4327, 0.013005316896986552), (3821, 0.012999998635142906), (3731, 0.012986058634573971), (3222, 0.012969066339660698), (2446, 0.012967268681350237), (902, 0.012963156709905216), (3562, 0.012960670985216693), (3792, 0.012950467692837815), (3330, 0.012937003863967164), (2092, 0.012921892792820367), (572, 0.012921341301143635), (2220, 0.012914326904416526), (3320, 0.012909241178071726), (1110, 0.012909210568308347), (1778, 0.012868959635081122), (2985, 0.012865935755556506), (1958, 0.012865095594690984), (983, 0.012863693795015854), (3771, 0.01284136619280301), (2132, 0.012833704926431762), (1279, 0.012831551906026608), (2352, 0.012825567750297485), (2678, 0.012825068787304168), (3836, 0.012821529336109567), (1768, 0.012808925970123819), (1642, 0.01280802848699339), (1368, 0.012806047901366704), (3511, 0.01279748810483164), (1969, 0.01278990036084809), (3552, 0.012773252863804182), (1338, 0.01276937021662215), (1035, 0.012767920538159021), (2917, 0.012765547319263817), (1406, 0.01274428612337753), (2826, 0.01274418288677177), (4470, 0.012738417252474854), (1401, 0.0127359885402755), (894, 0.012730149860649255), (3767, 0.012707596814012458), (4020, 0.012705373694211045), (4440, 0.012705174458127876), (1824, 0.012704988152726995), (2061, 0.012704146624027855), (255, 0.012687685484160945), (2497, 0.012682562240726206), (1620, 0.012668159310794857), (2954, 0.012657513520533691), (4565, 0.012650439666393901), (3182, 0.012649499565563254), (4667, 0.012647283853109441), (1959, 0.012645400058363317), (3739, 0.012639646542778658), (3633, 0.012615185658418415), (231, 0.012612419358631138), (3809, 0.012569785530033378), (3881, 0.01255256229369909), (3695, 0.012548689161493156), (4481, 0.012547955503772202), (1468, 0.012542177836565346), (1482, 0.012533915067399523), (4495, 0.012526099963887946), (1800, 0.01252158726201411), (2195, 0.012515097994072286), (477, 0.012508670429124982), (1030, 0.01250645867002977), (279, 0.012506389285242583), (338, 0.012503215653784594), (296, 0.012482511297133287), (14, 0.01247909701075425), (4039, 0.012463805272769128), (3256, 0.012454535470451788), (1921, 0.012440986373293134), (303, 0.01243929647985197), (2608, 0.01242825671714114), (854, 0.01242520313395168), (4016, 0.01241546962138218), (4252, 0.012413422472486394), (831, 0.012409804013773411), (1025, 0.012404479358550827), (582, 0.012402734593893416), (1597, 0.012398345805789208), (3696, 0.012394204274178243), (1623, 0.012385936423378728), (159, 0.012384898493606276), (3145, 0.012382934628220208), (1086, 0.0123801161603054), (2190, 0.012349392026950049), (3178, 0.012333857232251215), (906, 0.012321274288219315), (52, 0.012316559572733591), (2855, 0.012315654321591759), (820, 0.012313536236375194), (2615, 0.012310643660447044), (814, 0.012308295299596678), (878, 0.0122958039420211), (3713, 0.012291084708223453), (168, 0.01228532154348003), (3411, 0.012284024065260619), (2135, 0.012266832124558594), (2262, 0.012266735060454125), (1987, 0.012264470686288973), (975, 0.012258978111251366), (885, 0.012243863407728662), (1360, 0.012238453599132417), (2648, 0.012231860299078814), (1488, 0.012215646047324252), (3231, 0.01219622965016218), (2347, 0.012165112055119926), (978, 0.012163864204025012), (1634, 0.012159088506844096), (1042, 0.012159012158845092), (1655, 0.012125306505305217), (898, 0.012124291145414343), (3604, 0.01210648368343387), (2862, 0.01209289791528229), (1107, 0.012077483374661038), (3299, 0.012067732800349335), (2508, 0.012064894461558876), (2052, 0.012049036918486283), (205, 0.012008843300805334), (382, 0.012004648173826732), (18, 0.011994139660156587), (2226, 0.011993836773270357), (1061, 0.011983502502768646), (3242, 0.011977427212418752), (3914, 0.01196132877741516), (3854, 0.011936101015524305), (2805, 0.011931481273478671), (1595, 0.011878065557087642), (853, 0.01183439169557398), (2154, 0.011819892726743796), (4402, 0.011819669544706354), (1293, 0.011819423237728168), (1271, 0.01181698348145909), (3039, 0.011799222399135575), (3027, 0.011789939228906124), (40, 0.011787812609745273), (329, 0.011763220770297239), (1000, 0.011752970573735729), (417, 0.011752452844656504), (2209, 0.011737954865209427), (2637, 0.011694651196496611), (4612, 0.011694205212413407), (495, 0.01167378343621131), (1288, 0.01166572640858595), (997, 0.011660242710453548), (379, 0.011653103368207653), (3637, 0.011645786145935741), (3674, 0.011641977983706106), (735, 0.011634239671119751), (2843, 0.011633846312585804), (3937, 0.011619130006781768), (2117, 0.011597784994164449), (2529, 0.01154093400817483), (2101, 0.011536463944859075), (1486, 0.011493037027709997), (4382, 0.01147757023364639), (1548, 0.011474457923025294), (2120, 0.01147324986008415), (3578, 0.011465724655427613), (3327, 0.011459971276350522), (3448, 0.01145657469157033), (3228, 0.011455252700373654), (2673, 0.011453909703597605), (2868, 0.01144977466388856), (2300, 0.011448476229498745), (1991, 0.011427320201819293), (2168, 0.011424079459330602), (1352, 0.011414572498054719), (1099, 0.01140108296142706), (121, 0.011314415254000376), (1344, 0.011285795239096312), (4242, 0.011283480535628585), (648, 0.011268643398154593), (3580, 0.011258541683952503), (4360, 0.01125405079347094), (3313, 0.011220706187579187), (2057, 0.011217534066517782), (2764, 0.011185133371858872), (2747, 0.01118251673414902), (3471, 0.011181368827944143), (4052, 0.01117834791863287), (4350, 0.011173919491252645), (1767, 0.011150146161763996), (3705, 0.011136597206561847), (363, 0.011131612984953597), (319, 0.011126891645874654), (3137, 0.011113749697253442), (3502, 0.011100913269781961), (2379, 0.011098894227541897), (2832, 0.011061366424014781), (2638, 0.01105522555525311), (1870, 0.011036417687679373), (1023, 0.010999226663045904), (1572, 0.010988941268875528), (390, 0.010922914667017197), (1124, 0.010918929730786685), (208, 0.010896171000191003), (2915, 0.010894861466148575), (317, 0.010894855022298826), (621, 0.010868436764486601), (2526, 0.010850664020503676), (2761, 0.010850568407717018), (364, 0.010826707867077387), (624, 0.010814124772701796), (1343, 0.010780380508560923), (3916, 0.010767371061932134), (1094, 0.010750152503263506), (2183, 0.010739335318588776), (1141, 0.010717145998280043), (1289, 0.010711687365275325), (2726, 0.010705201634235386), (671, 0.010686428903542742), (2958, 0.010682184818085978), (2458, 0.010669396958770066), (3632, 0.01059805410840466), (3317, 0.010596270123309893), (1381, 0.010589266751948906), (3538, 0.010563382951444914), (2040, 0.010538225103649369), (2585, 0.01053084347634226), (3495, 0.010530508524477115), (863, 0.010526956647260315), (1685, 0.010521366206166581), (791, 0.010517464081960198), (1302, 0.010516608766370734), (3092, 0.010514129510534013), (190, 0.010492491850027907), (3239, 0.010466743012552102), (3288, 0.010454109696842417), (2096, 0.010447029371228263), (4164, 0.010444262421435275), (3479, 0.010441149405728625), (1986, 0.010437698229601), (1182, 0.010425411244365707), (285, 0.01041162674784617), (3117, 0.010410944684700035), (2335, 0.010392572262191216), (3651, 0.010386347427753972), (1238, 0.010378496453759812), (1758, 0.010376659063390109), (2423, 0.010357898826945227), (2360, 0.010355546484613481), (1887, 0.010340306717502787), (1883, 0.01033154063415526), (22, 0.010325204141815085), (3802, 0.010310931412548416), (3667, 0.010308973989252778), (4738, 0.010306724945905118), (1681, 0.010303570453810163), (1321, 0.0102962341630239), (1876, 0.010282482898363565), (482, 0.01028147865892906), (2079, 0.010274322785637583), (4549, 0.010264893926039128), (2518, 0.010258166712624507), (3892, 0.010255324000271909), (380, 0.01025437720729841), (1829, 0.01019619939456658), (1322, 0.010185358257208853), (1167, 0.010178694865944233), (1552, 0.010172784287763994), (3774, 0.010160968801564502), (1913, 0.010157475215514924), (1015, 0.010151128674918339), (1624, 0.010130046761494574), (1475, 0.010126039781802113), (4336, 0.010125384585916261), (666, 0.010122135609561763), (3897, 0.010121215729379572), (2199, 0.010117706735313675), (3309, 0.010095255036548224), (3588, 0.010078122438188787), (1942, 0.010064814690802143), (3645, 0.010064154387509829), (3483, 0.01005948660359372), (3307, 0.010057766532920075), (3553, 0.010054216610217954), (1011, 0.010053473856071665), (3779, 0.01004836983409378), (173, 0.010039059257430647), (683, 0.0100380202789159), (3101, 0.010036042413994738), (2797, 0.010026927490691393), (1702, 0.010018137604530134), (4275, 0.009992591004542847), (3310, 0.009975966353436274), (193, 0.009968797153845549), (3282, 0.009958632341823235), (4445, 0.00995355279785487), (3277, 0.009949705473867445), (4621, 0.009948237563400287), (2196, 0.009927159427960682), (2085, 0.009923197418776628), (3246, 0.009921116581299416), (3763, 0.00991359562558513), (1327, 0.009903473382284315), (2258, 0.009902483010489037), (2524, 0.009899468754572137), (406, 0.009897416987486255), (3421, 0.00989368999973023), (2992, 0.009887946310125637), (875, 0.00988684225189727), (1704, 0.009881185482633049), (10, 0.009880693330026597), (2263, 0.009875357967271837), (3810, 0.009866925511705232), (2968, 0.009849580000854312), (1020, 0.009846905777239512), (1575, 0.00984648160909366), (3510, 0.009840586013152337), (4169, 0.009840569575292375), (2675, 0.009826369687454487), (185, 0.009825400339501201), (1104, 0.0098204439208874), (1075, 0.00980731768035573), (1679, 0.00980550980996542), (70, 0.009804930575826858), (3346, 0.009803420821859721), (1629, 0.00980287685229821), (1017, 0.009794705724655146), (4427, 0.009788775187601953), (3830, 0.009785247888457024), (1833, 0.009783732975896901), (3067, 0.009783539560081095), (4312, 0.009775304411837563), (704, 0.009710658549417496), (4045, 0.009703417206307744), (2963, 0.009701906924451784), (1103, 0.009692997143461545), (4136, 0.00968970818028842), (1564, 0.009688499015051354), (2008, 0.009684503524714522), (4076, 0.009681593553007215), (2980, 0.009674150523779184), (2304, 0.009674033766905218), (4613, 0.009672154380169279), (2121, 0.00964990084190016), (2126, 0.009643613975313365), (2831, 0.009637336882861176), (3784, 0.009634393727181965), (298, 0.009622960930980782), (4265, 0.009622493172389774), (1339, 0.009616333130107057), (1346, 0.009610098581236265), (79, 0.009605587673261131), (717, 0.009595885717312654), (4013, 0.009593396709538697), (3244, 0.009586439873324547), (3865, 0.00958472748129656), (2488, 0.009580462453035628), (3190, 0.009575735846752972), (845, 0.009575034565179472), (4376, 0.00957263316565979), (2426, 0.009571239515305828), (3357, 0.009560943621326886), (2900, 0.009556765926256108), (3952, 0.009543398479001746), (375, 0.009542789539469463), (2103, 0.009532564291596993), (2874, 0.009531608393850508), (2434, 0.009529535280421338), (1021, 0.009528652438961982), (1710, 0.009527681458405279), (3507, 0.009519469784878618), (4026, 0.009517531302675594), (3192, 0.009515901840701065), (4117, 0.009497653424171783), (4684, 0.009495854927965286), (651, 0.009490025674259854), (2072, 0.00948188254216157), (918, 0.009476664448546971), (3000, 0.009475536464392139), (1684, 0.009463241808688834), (85, 0.0094577524131907), (1577, 0.009457289716154432), (525, 0.00945471691616641), (3814, 0.009448032225434751), (838, 0.009441562429358296), (3722, 0.009432275989291623), (925, 0.009429679018504649), (2570, 0.009419037893904879), (1049, 0.00941898295910254), (2696, 0.009414306800769746), (2710, 0.009404603563524292), (3846, 0.009400876579967066), (2872, 0.009396496409724783), (2853, 0.009394548553345712), (2986, 0.009391903178649168), (447, 0.00938939177810724), (2796, 0.009383554793935102), (1831, 0.00938331857513246), (2473, 0.009383262193847853), (2278, 0.00938115461653495), (3413, 0.009375910996711066), (1187, 0.009359231936373311), (1993, 0.009355884182365442), (4686, 0.009354366567390311), (2439, 0.009353822711584015), (1689, 0.009350024497832439), (585, 0.009341434706907873), (1519, 0.009335645664833043), (1436, 0.00933001118783053), (3062, 0.009329770760456296), (1864, 0.009325310972754037), (4683, 0.00932508535037345), (3504, 0.00931580944620549), (1385, 0.009308777504550357), (3271, 0.009305649993214109), (2151, 0.009305125748300249), (970, 0.009300854561013365), (1970, 0.009300295767741265), (3321, 0.009295001615697903), (3446, 0.009293463654356349), (2898, 0.00928544273862551), (2501, 0.009283954924206401), (3491, 0.009282730810570499), (1928, 0.009281028066642561), (4592, 0.009271598637768162), (927, 0.009268895028779398), (1220, 0.009265431484056692), (3365, 0.009261861453121776), (4295, 0.009239848131741956), (4587, 0.009227442735880957), (4556, 0.00922492319121586), (1514, 0.009218590109163347), (2414, 0.009217855655439703), (4454, 0.009209158450229325), (985, 0.009205815782748226), (3163, 0.009200689819586503), (2820, 0.009195176204955193), (2702, 0.009195017235420834), (2017, 0.009190733780823091), (4329, 0.009189123248376166), (610, 0.009172059857502296), (1206, 0.009171700818815201), (347, 0.009167273942829304), (1009, 0.009157088073475296), (4233, 0.009154766839574334), (1133, 0.009153689389751836), (4522, 0.00915268268731446), (3258, 0.009143251167735095), (3568, 0.009135054909687275), (3053, 0.009128537665766), (2478, 0.009128265564863153), (998, 0.00909998914010341), (150, 0.009087415238422434), (2955, 0.009084347507282141), (2302, 0.00908330298356012), (2571, 0.009082237511721875), (1857, 0.009074028121570314), (439, 0.009072244594609764), (2071, 0.009068277499015), (2863, 0.009060535652621654), (3966, 0.00905244445353735), (999, 0.009048937334708275), (2803, 0.009038756429292506), (3746, 0.009034309498592418), (3872, 0.00902765833587493), (4177, 0.009025940320730817), (3720, 0.009021928532746082), (2106, 0.009018793236629599), (262, 0.009018255857321687), (3567, 0.009012194377498908), (2148, 0.009009332699312264), (2260, 0.009000294896181028), (175, 0.008999199219627867), (1550, 0.00899685619072285), (2317, 0.008986437614060629), (2108, 0.00898369285721681), (4438, 0.008965619088504694), (3559, 0.008958394343692149), (3994, 0.008954010700830092), (1431, 0.008953559225263655), (3343, 0.00895342504403505), (2938, 0.008952377915921374), (335, 0.008944570955776334), (246, 0.008936974131296434), (183, 0.008936542079686367), (72, 0.00892795566872032), (223, 0.008926969077429603), (1875, 0.008925645848281798), (3985, 0.008924096176557901), (15, 0.008917355821629926), (4582, 0.008916747610975762), (4534, 0.008902408338840682), (3565, 0.00889680168211814), (199, 0.00888569968398859), (2592, 0.00886610564351947), (4328, 0.008859977723674523), (4548, 0.008845360505637124), (3585, 0.008842886964000042), (213, 0.00884142469121774), (2827, 0.008830671650284025), (4339, 0.008828881485399797), (1317, 0.008828768195529243), (2736, 0.008824851018047798), (3880, 0.008824465972297722), (1920, 0.008812596988602926), (790, 0.008810261525374901), (3146, 0.00880752874278952), (1428, 0.008794934583819776), (3891, 0.008791034207187217), (2223, 0.008790475838064686), (3187, 0.00877726855668572), (4134, 0.008773630511446124), (2394, 0.008773245659059691), (350, 0.00877008477516034), (4378, 0.008766962951965435), (2782, 0.00876204047898179), (4063, 0.008756953132570525), (2245, 0.00875131319616561), (519, 0.008749954984718223), (1822, 0.008742061617220093), (147, 0.008738917605703262), (1347, 0.008734739436648629), (573, 0.008732863094078475), (211, 0.00873117538593578), (1404, 0.008726211178954864), (3183, 0.008713909202128806), (3065, 0.00871212822529003), (3528, 0.008709695858075569), (3412, 0.008708586522902377), (1007, 0.008707354957330035), (3465, 0.008700042939663975), (2234, 0.008699103804805609), (3198, 0.008690484500740196), (486, 0.008689650717549962), (915, 0.008683721727384887), (3481, 0.008674240871385713), (318, 0.008670224763525726), (4149, 0.008661923497986378), (1502, 0.008657499346309116), (1451, 0.008655032404952082), (3840, 0.008654538956483264), (492, 0.008650235198312891), (3894, 0.008645113010048215), (2391, 0.008644983067083965), (2631, 0.008638116187665112), (1314, 0.008630849749122444), (4259, 0.008622019293057242), (2375, 0.008614169223801298), (3871, 0.008607407481683253), (2552, 0.00860145085937295), (4634, 0.008594206513912298), (1513, 0.008593274978001952), (665, 0.008572575501099671), (170, 0.00857205135859319), (1998, 0.008566076644816277), (2663, 0.008558767554442384), (284, 0.00855760611986721), (2692, 0.008556266387176359), (4489, 0.008543660716096885), (1419, 0.008537347906586517), (4466, 0.008535353841643806), (3738, 0.008530952300862414), (2491, 0.00851948022246114), (3349, 0.008518280259420884), (4357, 0.008514014381628068), (2776, 0.008499132935473448), (903, 0.008496405686722903), (2999, 0.008496359985930539), (1364, 0.008488524755586802), (2926, 0.008483555809961844), (4314, 0.008479965704412104), (2111, 0.008473591779273221), (306, 0.008458921093714628), (647, 0.008458669550350136), (90, 0.008454114702611518), (3493, 0.008452453518031968), (1795, 0.008447992772411107), (732, 0.008435998531525692), (4422, 0.00843291800782411), (3201, 0.008430950524791954), (3496, 0.008428297036995592), (1568, 0.008426553355123325), (1914, 0.008414240948106465), (724, 0.00841125210066946), (1817, 0.008404649287753302), (3306, 0.00840421612054442), (879, 0.008399478524584027), (2514, 0.008394091922467753), (1028, 0.008393085668215953), (1990, 0.008366326413622286), (4446, 0.008362735276946556), (2525, 0.008358335205401872), (741, 0.008349493661891012), (4297, 0.00832096470018803), (1902, 0.008320857335791229), (547, 0.008318126115292368), (3711, 0.00831432683384175), (2682, 0.00831315801839482), (2661, 0.008312065065564948), (2554, 0.008311409724664412), (4290, 0.008310602224935307), (2242, 0.00830017579956592), (3929, 0.00829625429362582), (339, 0.008276868223610293), (4264, 0.008266882427600392), (1626, 0.008257991711427064), (142, 0.008251239036255263), (1722, 0.00824492237316661), (4610, 0.008244291426124876), (2847, 0.008241736302075007), (2563, 0.008224796693060822), (4044, 0.008218108726152508), (1546, 0.00821405804595065), (4054, 0.008207901864804176), (4287, 0.008193693759478354), (2749, 0.008165373156922178), (3882, 0.008148634929791447), (4588, 0.008147357662527317), (2271, 0.008136787428526108), (238, 0.008115054939596068), (3211, 0.008097230115633238), (3852, 0.00809072840388264), (3673, 0.00808947748699953), (1410, 0.008086463976845574), (779, 0.008075879510202342), (3888, 0.008063695843719371), (4437, 0.008053299636925897), (3944, 0.008040140425971386), (3803, 0.008036487203058253), (3794, 0.008015193275224507), (2100, 0.008010199538611085), (2835, 0.007987713123716352), (167, 0.007964495925217523), (1476, 0.007961503281121482), (3500, 0.007951419812388063), (2687, 0.007949304063400529), (1910, 0.007945998150876247), (4036, 0.00792535509893004), (3641, 0.00791563111091783), (3402, 0.007913852758196747), (2542, 0.00791361566841227), (2945, 0.007908397039216569), (1422, 0.007903184499023747), (2, 0.0079027889418109), (3021, 0.007898363692909973), (1170, 0.00789801832011317), (1178, 0.00789236063769627), (2177, 0.007891895708434732), (1301, 0.0078817781035515), (2842, 0.00787411409120122), (114, 0.007872715645466294), (2204, 0.007867891867011206), (3668, 0.007865110911881842), (1693, 0.007862354859188476), (1337, 0.00785736792141702), (1342, 0.00785428758773492), (4277, 0.00784036860363622), (2397, 0.007834206693082584), (3098, 0.007827623773200764), (1598, 0.007806791492178669), (3418, 0.007801828146590127), (639, 0.007787808271702718), (2068, 0.007764833558737915), (2326, 0.007737893269185499), (1606, 0.007723296304062274), (2402, 0.007722725239193347), (2512, 0.007722121617692653), (3220, 0.00771446275608997), (3050, 0.007713488558742473), (2614, 0.007703219032280428), (4719, 0.007703174701462845), (1417, 0.007701599641170847), (3525, 0.007692967208024958), (3194, 0.007670268775483909), (4414, 0.007666863670812329), (2467, 0.007659909565121949), (3247, 0.00765940297072558), (1084, 0.007656751172121461), (1878, 0.00763822514905384), (325, 0.007636488201194064), (2296, 0.007598363107252136), (1774, 0.007539729467824345), (589, 0.007536283729764389), (2306, 0.007534233165263466), (1395, 0.0075313602067318035), (3082, 0.007523733384721719), (1372, 0.007501027302061938), (1309, 0.00749633737899074), (1458, 0.0074924908518934795), (738, 0.007492329582054032), (641, 0.007469331892626529), (2201, 0.007453279897135776), (381, 0.007451153178346811), (2741, 0.007405650443108916), (125, 0.007405145340248267), (2734, 0.00739172592054137), (2399, 0.007327317966966215), (1543, 0.0073135539031699), (1790, 0.007308564095722449), (103, 0.007293408410261305), (402, 0.00728850336286314), (416, 0.007286101475639162), (2523, 0.007284931162300344), (4066, 0.007281294360960401), (294, 0.007259684882603711), (851, 0.007231115921452848), (1830, 0.007199664467092522), (3423, 0.0071813680490070515), (2505, 0.007179355762852063), (2877, 0.007159331392671053), (1713, 0.007158243095433144), (1251, 0.007125028943879915), (2417, 0.007081626470241491), (2597, 0.0070561353287761815), (1296, 0.007043278232814176), (1616, 0.007041507228584119), (1708, 0.00702945455787829), (3008, 0.007007449715831069), (1014, 0.007006415433435738), (4636, 0.007003186449781052), (1040, 0.006995209403375076), (283, 0.006978696853065285), (4554, 0.006960577322822958), (712, 0.0069400559351912965), (1370, 0.006936528312189806), (1088, 0.006917705603479373), (1943, 0.0068823803530433745), (2636, 0.006875816798955762), (1078, 0.006858721543140442), (1770, 0.006854405734989593), (2157, 0.0068496355238596126), (2737, 0.006814200708673083), (1712, 0.006786999805914758), (4196, 0.006745870587554861), (2545, 0.006728484425960207), (4605, 0.006679464176434128), (1861, 0.0066570196569179785), (1583, 0.006641108037681622), (715, 0.0065893955745572365), (2759, 0.006571743717767239), (4337, 0.006532121582420993), (1043, 0.006513810993523661), (2925, 0.006511891616483875), (4685, 0.006495422796694099), (4367, 0.006488572457656522), (232, 0.006467270380185898), (4008, 0.006460416203698518), (3095, 0.006437972561103295), (3835, 0.006427104306221905), (209, 0.0064237230823369846), (1266, 0.006407562391494592), (3596, 0.006406892133137675), (2708, 0.006396685110140306), (1871, 0.006396341120592411), (782, 0.006360723006762183), (1407, 0.006349637110280475), (748, 0.006345207360102062), (4223, 0.006335859221241605), (631, 0.006311621125404826), (1250, 0.006293585588297745), (1761, 0.006270899160960589), (600, 0.006268335787263786), (313, 0.0062418258620932894), (817, 0.006235632368729485), (83, 0.006222424074508177), (1860, 0.006193957431890748), (1945, 0.006180298665221684), (921, 0.006162483735293812), (1773, 0.0061499629596185965), (2395, 0.00614382168010656), (2572, 0.006122360121347192), (3040, 0.006106930586755412), (3416, 0.0061044644632262295), (3926, 0.006100612762696763), (615, 0.006096194528498292), (446, 0.006093684203114978), (764, 0.006089501160216291), (2858, 0.0060755905684936546), (4303, 0.006057506971683371), (273, 0.006044036483574161), (834, 0.006042032400371352), (321, 0.0060385183531467225), (1012, 0.006029456408165911), (3139, 0.0060265936754622254), (2891, 0.0060218007974319875), (1374, 0.006016253204952624), (996, 0.00601537582600249), (3949, 0.00601341404298084), (2500, 0.006001434037504768), (4236, 0.005958969741919824), (4035, 0.0059411517806162335), (292, 0.0059256776121365835), (230, 0.00591783096371538), (4725, 0.005914548167907749), (2404, 0.005899991475670406), (4222, 0.0058921340787404545), (3439, 0.005883825957583429), (4198, 0.005869183424597354), (833, 0.005862187262123444), (3796, 0.005862024308610289), (300, 0.005840812246057959), (812, 0.005838281587994481), (3715, 0.005838002212515125), (2544, 0.005831402738988057), (2537, 0.005826667412337686), (835, 0.005815449520040024), (4700, 0.005794092487039704), (3909, 0.005791006558304629), (2517, 0.005786253156400011), (3042, 0.005781406692649321), (2715, 0.005767980182755793), (3114, 0.005758694667729448), (1723, 0.005751003789974383), (2110, 0.005749600841274295), (3009, 0.0057462702489947), (3217, 0.005734421187450515), (4166, 0.005724071483759687), (4649, 0.0057143859338462935), (2119, 0.0057124935063594786), (4102, 0.005693305115877399), (2600, 0.005676659002696823), (4562, 0.0056523263419969395), (1939, 0.0056521471673407105), (1538, 0.005630443586351036), (4084, 0.005627911725293298), (2742, 0.005621057912388344), (1316, 0.005614210933238454), (2983, 0.005600317988726553), (2543, 0.005585430701996283), (4571, 0.005565182973108974), (2928, 0.00556309448662868), (3800, 0.005563052797420113), (1809, 0.005538830046073147), (2185, 0.005537949086545269), (4726, 0.005516735225187078), (2948, 0.005513900956306917), (4720, 0.005511282954633879), (2929, 0.005509920113385647), (2020, 0.005494116237435171), (3078, 0.0054847072727529506), (2228, 0.005456716511853377), (3537, 0.0054095026480155545), (3925, 0.0053964345694567754), (4570, 0.005396003658597853), (3544, 0.005371849905176433), (3686, 0.005362135766112754), (3509, 0.005360149185258596), (3249, 0.005351682953730588), (2098, 0.005339060473386747), (3020, 0.005329151082968366), (2727, 0.005327651123662478), (3215, 0.00531029271009465), (4514, 0.00529339698322697), (3276, 0.005291051494836229), (3017, 0.005282873787944543), (4717, 0.0052694853221727156), (2756, 0.005257953840227194), (4408, 0.005251359015567414), (2998, 0.0052492970092817455), (2333, 0.005248750989993553), (3844, 0.005246540684001109), (947, 0.00523760155252241), (3291, 0.005235565253076737), (2730, 0.0052347109410152875), (2781, 0.005233074815337803), (2197, 0.0052315189698179665), (4147, 0.00522426341104273), (4082, 0.005218667294381155), (1424, 0.005214188320769798), (2077, 0.005213050669466023), (2786, 0.0052096009804620666), (1037, 0.005206259641940152), (2113, 0.005205969026238442), (3758, 0.005196507543441772), (2009, 0.005189448798110749), (2490, 0.005184920335084894), (2479, 0.005180200505494525), (4202, 0.005174158274377605), (2464, 0.005169712842513573), (842, 0.00516357505409959), (153, 0.005160628243004281), (2468, 0.005158791724393016), (3257, 0.0051519149816833185), (2308, 0.005151662549210167), (3764, 0.005150863133860767), (3164, 0.005148256642117652), (3371, 0.005144751155243905), (3554, 0.005137308306566719), (1637, 0.005127623169030988), (760, 0.005117913592153632), (2846, 0.005116308386700559), (2989, 0.005115062367987176), (2186, 0.005112123685775503), (2251, 0.005093954909911551), (3649, 0.005090753364459883), (4633, 0.005068027535222902), (3051, 0.005067532859476718), (4285, 0.005059526410731216), (4023, 0.005054383294876455), (3621, 0.005050469791668728), (3080, 0.005044336563830117), (795, 0.005044265100368997), (3940, 0.005042028516804556), (3262, 0.005031316293083684), (3337, 0.005029467668857818), (2768, 0.005029271871456231), (1941, 0.0050217716091658475), (2357, 0.0050183596279986635), (1615, 0.005015515023112521), (2810, 0.0050117324724228704), (1806, 0.005009782403292942), (4463, 0.005001829634559673), (2261, 0.005001144700540518), (2349, 0.0049980373979316385), (1507, 0.004991396052881267), (2635, 0.00498357348671899), (3946, 0.004973024735445502), (905, 0.004969569490030867), (461, 0.004969472828360889), (3808, 0.004968675730901206), (2655, 0.0049668087284704225), (531, 0.004966492424279738), (4599, 0.00496574538086733), (2187, 0.004956349276422061), (1766, 0.004945921717044323), (4617, 0.004938638870369907), (1560, 0.0049386120634425075), (2643, 0.004930384085992181), (3967, 0.004928192383038641), (2575, 0.004921123549609239), (2883, 0.00491658317776992), (3990, 0.004906837519153709), (2775, 0.004905888946453608), (4580, 0.004903577125544612), (3652, 0.00490293958515071), (3003, 0.004902441269340445), (2982, 0.004900853659918807), (2754, 0.004886437460264334), (2082, 0.004885144539843832), (1836, 0.004885126361183129), (2852, 0.004881291790683239), (627, 0.004877490302956535), (3635, 0.004873862606277324), (2889, 0.0048731148085867), (3221, 0.00487179874278831), (4308, 0.00486959457051676), (4346, 0.0048681235131259855), (4710, 0.0048594419160500595), (933, 0.00485097268303217), (3545, 0.004848898553129559), (3109, 0.004844390041918487), (1999, 0.0048427313283849), (2407, 0.004839658582105533), (2932, 0.0048391941355178), (1142, 0.0048349145485980455), (1656, 0.004829114568417636), (4444, 0.004818572923036517), (2604, 0.004817921152449408), (754, 0.004816413856163401), (139, 0.0048113639614901895), (2901, 0.004809463896268929), (3373, 0.00480917462400096), (2559, 0.00480829092064761), (385, 0.004805678740842029), (3964, 0.004801673783876602), (3628, 0.00479938493367096), (678, 0.004798877540213343), (2484, 0.004796489808333098), (3581, 0.004793159117791874), (2561, 0.0047917355615730755), (1260, 0.004789318008496921), (3688, 0.004789003228653954), (2979, 0.0047804093298893366), (1596, 0.004777522915347531), (1201, 0.004774741031490045), (4315, 0.004774671519408965), (2420, 0.0047721487522732545), (4323, 0.004772104439156297), (2021, 0.004759075545782768), (3219, 0.004756927615269045), (1246, 0.004756697445360236), (2255, 0.004751508686893188), (4484, 0.00474589446692568), (3922, 0.004733821215511576), (2257, 0.004723138756540359), (2795, 0.004720013733022939), (784, 0.004716515264708517), (1409, 0.0047145692155355886), (1926, 0.004714294221813377), (2880, 0.004712898135824818), (3140, 0.0047113734094351295), (3676, 0.004706702001649223), (4373, 0.004701408391261905), (2507, 0.004701004874219185), (4433, 0.004699551536275454), (2970, 0.004694844680628249), (146, 0.004694803941588769), (667, 0.004691142638810184), (2709, 0.004683323037072415), (3950, 0.004683232088007155), (3015, 0.00467738878580568), (362, 0.004671364831350858), (2811, 0.004664141208041079), (1955, 0.004664065884256879), (2662, 0.004651627610078315), (2882, 0.0046512002931291185), (2438, 0.004646458921743196), (2075, 0.00464604842537453), (3529, 0.004644261369219222), (3613, 0.004641167338201897), (2415, 0.004639995637357037), (4723, 0.004636794819385007), (1765, 0.004632309208576397), (2086, 0.004628304846414861), (4173, 0.004627470584508321), (3074, 0.004623729966420892), (1731, 0.004623071782786922), (3189, 0.004611544445996816), (990, 0.004606434136384223), (2194, 0.004604651682927915), (4263, 0.004601875776374192), (630, 0.004599006740610511), (1791, 0.004597756867192055), (155, 0.004597625909275689), (3229, 0.004593408169429194), (3290, 0.0045883834472947235), (2566, 0.004587852802218173), (4434, 0.004585508750526669), (3832, 0.004580718238985225), (3934, 0.004578880955804966), (884, 0.004577504911447355), (3113, 0.004575671700843826), (3400, 0.0045741990644381555), (1683, 0.004572946272060134), (1205, 0.004572433206929952), (245, 0.004571601378281945), (2140, 0.004571541442671633), (2472, 0.004570922643776412), (3943, 0.0045686915937319115), (2495, 0.004565702230421059), (474, 0.004564679949500205), (134, 0.00456209567427109), (415, 0.004560988554994615), (3236, 0.004559537211269025), (3245, 0.004559259436929351), (405, 0.004555048210986479), (3766, 0.004551969495402418), (3084, 0.004549307793570897), (1445, 0.004548749357064809), (2966, 0.004546749201082507), (3224, 0.00454535925103342), (2090, 0.004541975612046944), (3828, 0.004541628485787809), (1024, 0.004539971287251044), (4675, 0.00453785720250007), (2292, 0.004537232292662188), (4234, 0.004534504152446718), (1085, 0.004534140671702249), (849, 0.00452902927042091), (3061, 0.004524041283694731), (4637, 0.004523478189918318), (1336, 0.0045228582329952735), (941, 0.004520760078023705), (2081, 0.004515754213494361), (2387, 0.004514285137584023), (2286, 0.0045093159726614295), (3081, 0.004504918170018813), (4457, 0.004500078372085553), (1264, 0.0044993594832984955), (312, 0.004498167802847618), (2249, 0.004496679826013962), (3382, 0.004491060550414641), (3675, 0.004489930537179542), (2879, 0.004488060150620016), (2586, 0.004484437404634845), (2856, 0.00448378988081343), (2569, 0.004476103942249319), (1697, 0.004475955165680156), (1956, 0.004475675889357806), (793, 0.0044722763359860435), (1889, 0.004470325908199772), (4756, 0.00446610156354516), (1165, 0.004465653571548858), (3513, 0.004464651644445746), (2499, 0.0044639329117032635), (4163, 0.0044596976192947365), (3332, 0.004456394394889992), (2456, 0.004455928942873197), (1064, 0.004455784483570329), (4027, 0.004454933196974559), (4660, 0.004454475284030489), (3620, 0.004453380478624136), (2794, 0.004451632167199541), (4521, 0.004451281031266205), (2973, 0.004451033949323817), (1618, 0.004449381998224167), (3155, 0.0044490507651618735), (3363, 0.00444870140345737), (2217, 0.004444987761996244), (1847, 0.004444604658656255), (3443, 0.00444313972199829), (2778, 0.004439950698168578), (4490, 0.004438208039048249), (3102, 0.004435085632356898), (2125, 0.004431646036857857), (3805, 0.004429590450109105), (1837, 0.0044249568425846954), (4552, 0.004424886123264864), (326, 0.004422915642540272), (2284, 0.004422762361324482), (946, 0.004422133971015392), (2685, 0.004420206107928807), (110, 0.004419657439707132), (2266, 0.004418315999504288), (1198, 0.004417818955852647), (1166, 0.00441758513207055), (3570, 0.004417398679585541), (3901, 0.004415960225725556), (2336, 0.004410191572557735), (3521, 0.004408218331818459), (3638, 0.004407935937101495), (2396, 0.004407830458229166), (3072, 0.004399849537567323), (4243, 0.004395514599496134), (2890, 0.004393260383669625), (398, 0.004384672755468577), (2192, 0.004382861878001424), (498, 0.004381510114725236), (4029, 0.004379353579868275), (4443, 0.004377381648738299), (2406, 0.004375419301149786), (670, 0.004374860367467398), (3517, 0.00437441513001606), (3644, 0.0043702009704001885), (720, 0.004370049694180315), (2428, 0.004363943179295686), (2690, 0.004363014936726365), (1330, 0.00436087927631124), (4195, 0.004360461445638621), (1995, 0.0043582610050885056), (2290, 0.004357649488672198), (3004, 0.0043551168468859295), (1100, 0.004353346237397931), (3359, 0.004351492365695962), (1256, 0.004350582482584561), (4049, 0.004346647696559481), (3123, 0.004345592626596238), (42, 0.004342766076895111), (1783, 0.004341716618064815), (1429, 0.004341194905057836), (2435, 0.004341148005088143), (4254, 0.004339903553070495), (3012, 0.004337253791956608), (3302, 0.004336937983314437), (2388, 0.0043334997074638915), (4073, 0.004333335216625731), (2772, 0.004330657033018514), (1053, 0.00433043156214456), (4632, 0.004328734673629753), (3165, 0.004326817222567621), (3879, 0.004326322428627605), (404, 0.004320382498791883), (503, 0.004318962623990194), (494, 0.0043183440395918446), (4244, 0.004313850623173699), (2836, 0.004312641637306076), (2677, 0.0043041269946996665), (2912, 0.004303693031506381), (2019, 0.004301445305135495), (2748, 0.004300518603652212), (1663, 0.004297532042087801), (4412, 0.004296788316330711), (2060, 0.004296687165145029), (1885, 0.004295954240033775), (3606, 0.004294853486686974), (4206, 0.004293868318456768), (2475, 0.0042923810773674905), (2623, 0.004291653313648209), (2450, 0.00429098980968789), (3685, 0.00428991153811089), (1804, 0.004289818364853494), (4037, 0.004288815837883552), (2153, 0.004287180830852772), (770, 0.004285745532683263), (436, 0.004283748534734666), (2804, 0.004282100014870643), (2914, 0.004281834332161667), (2437, 0.004280659176688131), (1126, 0.00427827047858952), (2866, 0.004275723849709234), (2787, 0.004275161964707925), (859, 0.00427512919640467), (1912, 0.004274331955465613), (2693, 0.004272399058142054), (473, 0.004271912597108111), (2440, 0.004271149034778228), (188, 0.00427072758605033), (1947, 0.004269600599830487), (2026, 0.004268825046111782), (721, 0.0042682122199031855), (1547, 0.00426586414171829), (2825, 0.004264123679965861), (3366, 0.004257510345554351), (2179, 0.00425668823001115), (1842, 0.004255470891751567), (4333, 0.0042504751806763325), (3665, 0.004250455869298739), (4706, 0.004249446319891196), (2916, 0.00424328015542542), (2590, 0.004239439918333115), (1211, 0.004239399547199157), (1498, 0.004238607509417909), (2823, 0.004238497108353481), (532, 0.004237798756807142), (3622, 0.004235321918565342), (3274, 0.004233448953960465), (4197, 0.004233360359787216), (4701, 0.004232300252908098), (860, 0.0042293624227090045), (3582, 0.004227599051245293), (3680, 0.004224457289843534), (4713, 0.004222699604604667), (662, 0.004222415055695038), (505, 0.004210317999930762), (1363, 0.0042093656807898625), (1909, 0.004208642409945367), (157, 0.004208324153721554), (1398, 0.004208311570559397), (3595, 0.00420787816110687), (3753, 0.004206601386210841), (1610, 0.004206396471149354), (2089, 0.004203869074469001), (759, 0.004203698995046709), (3296, 0.004202245277801359), (4447, 0.004199778896587274), (3248, 0.004191105589759855), (2881, 0.004188418536146883), (2974, 0.004185675264845505), (2050, 0.004185476658521565), (2594, 0.004181511878393689), (3590, 0.004180898897762166), (1900, 0.0041798361752765295), (1196, 0.0041762800684769785), (3992, 0.004175065815451545), (4718, 0.0041745966069324505), (431, 0.0041720289920094845), (3754, 0.004169241213804476), (596, 0.004167901648071759), (649, 0.004167271805760732), (2664, 0.004165500001355417), (3560, 0.004163519947960501), (2644, 0.004162081133396049), (4368, 0.004158072305534319), (4246, 0.0041575677089965785), (3032, 0.004155497192603636), (2411, 0.004151183560722856), (3883, 0.004147710668073762), (2728, 0.004147677809979843), (1457, 0.004147331830106743), (3732, 0.004144832857882126), (3177, 0.004142616193745762), (2829, 0.004141667679476495), (458, 0.004138024936257567), (3425, 0.004137893632702488), (1184, 0.004137545611647515), (1383, 0.004135335787798699), (1898, 0.004134665247184793), (3506, 0.004129734264127559), (21, 0.004127994233457802), (533, 0.004126186026404961), (1073, 0.00412379098076266), (4160, 0.0041221794138254445), (4494, 0.004118264419939181), (3962, 0.0041174821297642996), (1877, 0.0041146701861564505), (2705, 0.004112579188559186), (4092, 0.00411113950795547), (2888, 0.004109914577122992), (546, 0.004109653854703107), (3148, 0.004109375179887979), (3827, 0.004100927482364178), (3640, 0.0041006158147468665), (2971, 0.00409960444414597), (4087, 0.004097791592197992), (2093, 0.004097447166000646), (984, 0.004096223464615233), (4133, 0.004090944035106016), (1203, 0.004090894021247823), (2424, 0.0040855293081499084), (2943, 0.004083310167799679), (2400, 0.00408078977697817), (1325, 0.004080512048436505), (3639, 0.004076708429526105), (4325, 0.004076113448942146), (4593, 0.004074675108022318), (3116, 0.004069809707919766), (4130, 0.004069469021019485), (4657, 0.004069215054859151), (3893, 0.004064648059403485), (2903, 0.00406221792815037), (311, 0.004059891435453989), (3960, 0.004056881287993598), (1899, 0.004050222859381211), (3196, 0.00404936053696831), (2629, 0.004048033047651904), (576, 0.0040469552009059825), (2170, 0.004045856651929357), (3267, 0.004045492563880205), (3319, 0.004037952359770609), (1200, 0.004037414239015181), (3417, 0.004034703082787038), (587, 0.004034674452554634), (4138, 0.004034603817117658), (1323, 0.004034386313989247), (716, 0.004032899064819541), (4734, 0.004032329111365676), (383, 0.004030933915311214), (3043, 0.004026420166295223), (2225, 0.004022885690100333), (623, 0.004017697334798287), (3867, 0.0040144619728494585), (3037, 0.004011887930047535), (1474, 0.004002714543279984), (2097, 0.004001583465639389), (4116, 0.004001479828082904), (2159, 0.004000337218391982), (1716, 0.004000114499204692), (2555, 0.0039982770384163506), (4187, 0.003997954569910306), (4098, 0.003996310635193307), (4024, 0.00399565115582549), (8, 0.003995620480882153), (3859, 0.003995616806441872), (4528, 0.003992884932705861), (3273, 0.003991832376272053), (1038, 0.003989883685701362), (2361, 0.003989352089932581), (3749, 0.003987392660303301), (4625, 0.0039845288298595), (745, 0.003982329809122802), (210, 0.003975407763808868), (2830, 0.003972867201069093), (3013, 0.003970112793042359), (2770, 0.003966307296233708), (4104, 0.003965860150969476), (2433, 0.003962929626388634), (3112, 0.003962655644435375), (1905, 0.003961873631640785), (4111, 0.003960451791077435), (3862, 0.00395929594439192), (612, 0.003959159018289474), (4014, 0.003957676421106021), (3704, 0.003957472249773471), (1397, 0.003955802375117072), (2264, 0.00395044695396653), (888, 0.003947947996590654), (3692, 0.003947399606891734), (3915, 0.0039472430239628), (4627, 0.003946566930736973), (2289, 0.003945849660059591), (4520, 0.003944195805075164), (3904, 0.00394191513592162), (4079, 0.0039409269287231045), (4249, 0.003935641725929284), (4426, 0.0039349138739018606), (2390, 0.003932666435983932), (1687, 0.00393240852532181), (3485, 0.003929850266305887), (1866, 0.003928635985019831), (3235, 0.003923960721898764), (3527, 0.0039234114363685835), (120, 0.003921468593996474), (2146, 0.003918713564739208), (534, 0.003917793740650656), (4401, 0.003914345662241634), (278, 0.003914087686303846), (4722, 0.00391163532748156), (826, 0.003908379928279171), (1348, 0.0039058283544708594), (896, 0.0039037355418578452), (1916, 0.0039027261355861257), (1652, 0.0039009644154054486), (1703, 0.0039000706511455718), (4519, 0.0038989991865205588), (2721, 0.00389839479915223), (1980, 0.003898097822792812), (673, 0.0038980656801889777), (450, 0.003897901694577853), (227, 0.0038942854129699702), (2344, 0.0038927621580712095), (4231, 0.0038908271305265005), (4601, 0.003889524805896497), (1350, 0.003888345810629134), (3210, 0.003888277259381315), (986, 0.0038875623453791257), (68, 0.0038851389174378156), (774, 0.0038844807788526565), (4123, 0.003884284593391567), (1225, 0.0038832402365546266), (2033, 0.0038765574353872728), (1213, 0.003876294981666977), (3933, 0.003871252909668169), (4430, 0.003869782427179092), (2067, 0.0038692330189368028), (2053, 0.0038686892696570903), (912, 0.0038656685278903972), (3075, 0.003861219647061389), (991, 0.003861092041386624), (2048, 0.003858371653069745), (1960, 0.0038575472278138383), (1918, 0.003850374538161887), (2833, 0.0038491877869313946), (3086, 0.003844111081523392), (564, 0.0038393292473546978), (836, 0.0038379053350339034), (2105, 0.0038371013521032718), (1853, 0.0038356861311442977), (429, 0.0038331046872141818), (3353, 0.0038328935955817297), (2270, 0.0038322561421189074), (2230, 0.0038314563856824972), (3326, 0.003829325592501398), (761, 0.0038291408199928045), (1694, 0.003827535408046803), (3501, 0.0038249736608742726), (2609, 0.0038230218049764156), (743, 0.003814308757079442), (4573, 0.0038139964992262463), (3654, 0.0038109971569245497), (2919, 0.003809936720777688), (1954, 0.003805191095118143), (1400, 0.00380435677450888), (23, 0.0038035054942667347), (4566, 0.003801481366472958), (2254, 0.0037991846053085664), (2091, 0.003798707637057504), (51, 0.0037949570535723487), (652, 0.003787607870554091), (2913, 0.003786781705510644), (2466, 0.003785562620160326), (3666, 0.0037834871236454314), (430, 0.0037831249480667077), (3241, 0.0037815492196568118), (4056, 0.0037795483648808844), (783, 0.0037767532483029905), (3624, 0.0037759166176871244), (4668, 0.0037748819839611824), (622, 0.0037720130306936875), (1083, 0.0037674428896197765), (580, 0.0037656745161186635), (2405, 0.003762588851757533), (1122, 0.0037604459665991135), (2331, 0.003753271054601345), (2393, 0.0037516377877895475), (3542, 0.0037512485667902107), (2006, 0.0037507913999913433), (3653, 0.0037469589450612037), (520, 0.0037445634837456774), (2934, 0.003741373666905085), (1176, 0.0037396384872750072), (636, 0.003736982812305352), (1212, 0.0037366859930681824), (3684, 0.003731361064288055), (2295, 0.0037292276627828597), (964, 0.0037290464419935452), (1639, 0.003726671450979455), (3707, 0.0037259759481242196), (1335, 0.0037249723250577784), (71, 0.0037247917981546516), (2489, 0.003724558842188782), (644, 0.003716479500022325), (4284, 0.003715586840513112), (980, 0.003712898294254763), (87, 0.0037121019340842667), (3727, 0.0037114551739953696), (2076, 0.003709550432583223), (4266, 0.0037092374966535475), (2904, 0.0037003017361722863), (1967, 0.0037000503637974243), (4744, 0.0036989181123971895), (1163, 0.0036985422354308536), (755, 0.0036931233001712763), (637, 0.0036916881520173534), (2364, 0.0036900768864250783), (3212, 0.0036882380070256907), (3799, 0.00368143406814846), (1523, 0.0036814126231848768), (3900, 0.003680311826009003), (2946, 0.0036794153073280316), (3445, 0.0036788067894936603), (1717, 0.0036784023416044794), (2695, 0.0036761122250593206), (2887, 0.0036750524416968443), (2961, 0.0036732546283146823), (2279, 0.003671657115611465), (832, 0.003669050282755519), (3268, 0.0036685354442083547), (2606, 0.003667451233472536), (2018, 0.003665787918032895), (2073, 0.003665126564608193), (3036, 0.003664346503804606), (2313, 0.0036616027728494163), (1268, 0.0036583219669822256), (3430, 0.003657266571851564), (2374, 0.0036557578890951373), (1102, 0.0036508475228302826), (693, 0.003646266626386955), (1334, 0.003645990790490777), (4268, 0.003642960535381521), (698, 0.003639865085996691), (1671, 0.0036385067212402144), (1653, 0.003635548456251392), (806, 0.003634983451283497), (4053, 0.0036250416860291756), (1378, 0.0036229764070286686), (370, 0.003622256462274125), (750, 0.0036177878578541028), (490, 0.003617290964426628), (3170, 0.0036162771916179947), (1621, 0.003613558852912988), (3876, 0.0036134732748607217), (1882, 0.0036103585593739987), (628, 0.00361002056734981), (4503, 0.0036078950519939537), (2362, 0.0036074935426880102), (1706, 0.0036065726238868646), (786, 0.0036064909650418424), (1138, 0.0036063127760840945), (4487, 0.003605236174082733), (4362, 0.0036044265922398665), (1313, 0.00360344161685894), (4670, 0.0036005398357570597), (3171, 0.003598500786805655), (400, 0.0035977821904373316), (1320, 0.00359555488163303), (3195, 0.003589254133222336), (1891, 0.0035881772234601594), (799, 0.0035874641497816596), (1483, 0.003586084531655059), (2593, 0.0035839121404983142), (4530, 0.003576909940099365), (2716, 0.0035754048716425085), (2965, 0.003574924221379265), (2210, 0.00357371206449683), (1421, 0.003573613848310755), (4475, 0.003572178355084148), (1123, 0.003571196307720471), (2886, 0.0035707473861650244), (1161, 0.0035700463305784022), (1892, 0.0035696820813159993), (1247, 0.0035696521581589998), (1558, 0.003557370060220135), (4387, 0.0035567135845181947), (4394, 0.0035519066421149234), (1438, 0.0035517169717253876), (598, 0.003547106683138108), (989, 0.003535675697060912), (2907, 0.0035344019855190326), (3953, 0.003534091051095662), (4673, 0.003532780526046625), (3734, 0.003529712252671067), (475, 0.0035296544531863818), (1628, 0.003528386460076175), (2995, 0.0035280204714021593), (2540, 0.0035245817121497304), (1667, 0.0035235360768999737), (3898, 0.0035193965041134933), (3379, 0.0035141505130366502), (2646, 0.0035128483102507603), (880, 0.0035125670210598794), (1813, 0.0035123087488906327), (2674, 0.0035047820538582916), (1481, 0.0035013619309265604), (1665, 0.0034984929275482294), (421, 0.003498161366103623), (2556, 0.003492265339687971), (1796, 0.0034847762544366057), (1183, 0.0034820215328430913), (471, 0.0034796056495281875), (3660, 0.003478334719528513), (1819, 0.0034772767655425556), (276, 0.0034741250079124235), (2743, 0.003467309448922864), (132, 0.0034659372083048947), (3300, 0.0034656902350906236), (1478, 0.0034639128022178555), (2023, 0.0034517107242265934), (3974, 0.003448862630736497), (3278, 0.003447394655384576), (2482, 0.003444633374524779), (4502, 0.0034444771021055432), (926, 0.0034436802898471174), (1884, 0.0034414323025241888), (3503, 0.0034348840609044924), (3669, 0.003431710000992794), (236, 0.0034290452700590428), (2800, 0.00342620429832775), (3370, 0.0034259872856243073), (4638, 0.003424668054212064), (355, 0.0034227678073984933), (2453, 0.0034212118457060113), (972, 0.003420486754777116), (359, 0.0034156145386691926), (2149, 0.003414838743766471), (1357, 0.0034138618583087195), (92, 0.0034075882564770592), (1065, 0.003402514719663295), (2457, 0.0033949839556977985), (3574, 0.003389878408881517), (1079, 0.0033701046502649604), (1760, 0.0033657328536251118), (1209, 0.003364935718930252), (3755, 0.0033581768257009543), (3120, 0.0033559723403703587), (1739, 0.0033522519814100705), (2191, 0.0033516083122014663), (136, 0.003351286289366122), (910, 0.0033504564086859717), (1273, 0.003337260155707601), (3742, 0.0033337960976307234), (4429, 0.0033215426125374394), (558, 0.0033173693611173423), (1869, 0.003310485483578798), (1219, 0.0033099662353100424), (3913, 0.0033084598131766564), (286, 0.0033077135996574885), (1763, 0.0033066348670556865), (815, 0.003262667668103329), (267, 0.003262362018594939), (1977, 0.003258150493430768), (672, 0.0032519500989658485), (1237, 0.003249049579535355), (2602, 0.0032423324123894526), (1050, 0.0032419551676494307), (1423, 0.003239166264727294), (4247, 0.0032349872979706156), (2976, 0.0032275411773461), (3895, 0.0032128548716225023), (194, 0.0032092828434542005), (3556, 0.0032083999769150313), (3254, 0.003177855909688211), (16, 0.003176992157684076), (4151, 0.0031761474118415277), (3331, 0.0031742093989396364), (4432, 0.0031727649116279674), (611, 0.0031637475182264684), (4311, 0.003160756618892406), (4626, 0.0031459942928179323), (796, 0.003128440763710034), (1828, 0.0031207215744521615), (2359, 0.003120537816728688), (626, 0.003120172117042222), (1415, 0.0031198353889827827), (3056, 0.003117745190908534), (3301, 0.003113055714407185), (3347, 0.0030945863003538454), (442, 0.003094303658095996), (3855, 0.0030854604005107126), (3756, 0.0030753869350119197), (3024, 0.003066889595462436), (1356, 0.003061688151406248), (2697, 0.0030321272864724143), (2010, 0.0030146166085559204), (740, 0.003007575411280777), (942, 0.003006009818135002), (453, 0.002978698502497892), (1989, 0.0029657901609657766), (1303, 0.0029572274363314026), (953, 0.002941479862593034), (2767, 0.0028829392817156015), (571, 0.002871186486555158), (224, 0.0028699637112835088), (542, 0.002666823589870188), (4752, 0.002610483165080478), (858, 0.002568035841234024), (2538, 0.00227711951968969), (1, 0.0), (4, 0.0), (17, 0.0), (20, 0.0), (24, 0.0), (26, 0.0), (30, 0.0), (47, 0.0), (54, 0.0), (58, 0.0), (59, 0.0), (65, 0.0), (69, 0.0), (77, 0.0), (80, 0.0), (89, 0.0), (93, 0.0), (94, 0.0), (95, 0.0), (118, 0.0), (128, 0.0), (133, 0.0), (140, 0.0), (141, 0.0), (143, 0.0), (151, 0.0), (163, 0.0), (176, 0.0), (180, 0.0), (181, 0.0), (187, 0.0), (207, 0.0), (226, 0.0), (229, 0.0), (234, 0.0), (247, 0.0), (257, 0.0), (265, 0.0), (268, 0.0), (281, 0.0), (289, 0.0), (290, 0.0), (295, 0.0), (305, 0.0), (308, 0.0), (314, 0.0), (315, 0.0), (316, 0.0), (320, 0.0), (323, 0.0), (333, 0.0), (337, 0.0), (360, 0.0), (366, 0.0), (378, 0.0), (393, 0.0), (394, 0.0), (420, 0.0), (423, 0.0), (435, 0.0), (459, 0.0), (462, 0.0), (466, 0.0), (476, 0.0), (478, 0.0), (484, 0.0), (487, 0.0), (489, 0.0), (499, 0.0), (501, 0.0), (512, 0.0), (513, 0.0), (516, 0.0), (517, 0.0), (518, 0.0), (526, 0.0), (535, 0.0), (536, 0.0), (539, 0.0), (548, 0.0), (550, 0.0), (552, 0.0), (554, 0.0), (556, 0.0), (557, 0.0), (559, 0.0), (567, 0.0), (570, 0.0), (574, 0.0), (581, 0.0), (592, 0.0), (593, 0.0), (595, 0.0), (599, 0.0), (601, 0.0), (602, 0.0), (603, 0.0), (625, 0.0), (645, 0.0), (646, 0.0), (650, 0.0), (654, 0.0), (658, 0.0), (661, 0.0), (674, 0.0), (675, 0.0), (679, 0.0), (680, 0.0), (682, 0.0), (695, 0.0), (709, 0.0), (711, 0.0), (713, 0.0), (718, 0.0), (730, 0.0), (753, 0.0), (765, 0.0), (767, 0.0), (771, 0.0), (777, 0.0), (797, 0.0), (801, 0.0), (811, 0.0), (819, 0.0), (822, 0.0), (825, 0.0), (837, 0.0), (839, 0.0), (841, 0.0), (848, 0.0), (855, 0.0), (868, 0.0), (882, 0.0), (889, 0.0), (893, 0.0), (914, 0.0), (917, 0.0), (920, 0.0), (922, 0.0), (932, 0.0), (943, 0.0), (954, 0.0), (965, 0.0), (976, 0.0), (977, 0.0), (992, 0.0), (1003, 0.0), (1010, 0.0), (1031, 0.0), (1032, 0.0), (1036, 0.0), (1051, 0.0), (1055, 0.0), (1056, 0.0), (1057, 0.0), (1058, 0.0), (1062, 0.0), (1063, 0.0), (1070, 0.0), (1072, 0.0), (1076, 0.0), (1081, 0.0), (1082, 0.0), (1089, 0.0), (1091, 0.0), (1097, 0.0), (1098, 0.0), (1127, 0.0), (1134, 0.0), (1137, 0.0), (1139, 0.0), (1145, 0.0), (1147, 0.0), (1148, 0.0), (1150, 0.0), (1151, 0.0), (1158, 0.0), (1159, 0.0), (1164, 0.0), (1174, 0.0), (1180, 0.0), (1181, 0.0), (1185, 0.0), (1189, 0.0), (1193, 0.0), (1218, 0.0), (1227, 0.0), (1228, 0.0), (1230, 0.0), (1233, 0.0), (1235, 0.0), (1236, 0.0), (1240, 0.0), (1242, 0.0), (1244, 0.0), (1258, 0.0), (1265, 0.0), (1269, 0.0), (1274, 0.0), (1276, 0.0), (1283, 0.0), (1285, 0.0), (1287, 0.0), (1294, 0.0), (1311, 0.0), (1315, 0.0), (1326, 0.0), (1328, 0.0), (1331, 0.0), (1332, 0.0), (1333, 0.0), (1358, 0.0), (1371, 0.0), (1380, 0.0), (1386, 0.0), (1388, 0.0), (1391, 0.0), (1399, 0.0), (1416, 0.0), (1426, 0.0), (1434, 0.0), (1435, 0.0), (1440, 0.0), (1441, 0.0), (1444, 0.0), (1449, 0.0), (1452, 0.0), (1455, 0.0), (1460, 0.0), (1466, 0.0), (1470, 0.0), (1497, 0.0), (1499, 0.0), (1529, 0.0), (1531, 0.0), (1534, 0.0), (1536, 0.0), (1540, 0.0), (1541, 0.0), (1544, 0.0), (1545, 0.0), (1554, 0.0), (1556, 0.0), (1563, 0.0), (1573, 0.0), (1574, 0.0), (1576, 0.0), (1580, 0.0), (1588, 0.0), (1591, 0.0), (1593, 0.0), (1604, 0.0), (1607, 0.0), (1609, 0.0), (1611, 0.0), (1625, 0.0), (1631, 0.0), (1632, 0.0), (1633, 0.0), (1641, 0.0), (1646, 0.0), (1661, 0.0), (1669, 0.0), (1670, 0.0), (1672, 0.0), (1673, 0.0), (1674, 0.0), (1680, 0.0), (1686, 0.0), (1705, 0.0), (1724, 0.0), (1732, 0.0), (1734, 0.0), (1735, 0.0), (1745, 0.0), (1749, 0.0), (1752, 0.0), (1753, 0.0), (1754, 0.0), (1757, 0.0), (1777, 0.0), (1785, 0.0), (1786, 0.0), (1789, 0.0), (1801, 0.0), (1805, 0.0), (1810, 0.0), (1811, 0.0), (1814, 0.0), (1815, 0.0), (1820, 0.0), (1826, 0.0), (1832, 0.0), (1834, 0.0), (1835, 0.0), (1840, 0.0), (1844, 0.0), (1846, 0.0), (1854, 0.0), (1856, 0.0), (1859, 0.0), (1862, 0.0), (1868, 0.0), (1879, 0.0), (1890, 0.0), (1894, 0.0), (1901, 0.0), (1904, 0.0), (1906, 0.0), (1917, 0.0), (1922, 0.0), (1927, 0.0), (1930, 0.0), (1933, 0.0), (1937, 0.0), (1940, 0.0), (1953, 0.0), (1962, 0.0), (1966, 0.0), (1972, 0.0), (1975, 0.0), (1976, 0.0), (1978, 0.0), (1979, 0.0), (2002, 0.0), (2025, 0.0), (2028, 0.0), (2030, 0.0), (2038, 0.0), (2042, 0.0), (2044, 0.0), (2054, 0.0), (2059, 0.0), (2063, 0.0), (2066, 0.0), (2078, 0.0), (2080, 0.0), (2123, 0.0), (2124, 0.0), (2130, 0.0), (2136, 0.0), (2138, 0.0), (2139, 0.0), (2141, 0.0), (2142, 0.0), (2164, 0.0), (2165, 0.0), (2171, 0.0), (2172, 0.0), (2173, 0.0), (2181, 0.0), (2184, 0.0), (2189, 0.0), (2200, 0.0), (2206, 0.0), (2232, 0.0), (2233, 0.0), (2235, 0.0), (2238, 0.0), (2243, 0.0), (2247, 0.0), (2248, 0.0), (2253, 0.0), (2267, 0.0), (2272, 0.0), (2275, 0.0), (2282, 0.0), (2283, 0.0), (2288, 0.0), (2293, 0.0), (2298, 0.0), (2299, 0.0), (2305, 0.0), (2307, 0.0), (2310, 0.0), (2312, 0.0), (2314, 0.0), (2315, 0.0), (2324, 0.0), (2325, 0.0), (2328, 0.0), (2330, 0.0), (2332, 0.0), (2337, 0.0), (2341, 0.0), (2342, 0.0), (2343, 0.0), (2345, 0.0), (2346, 0.0), (2354, 0.0), (2356, 0.0), (2358, 0.0), (2365, 0.0), (2366, 0.0), (2369, 0.0), (2370, 0.0), (2372, 0.0), (2373, 0.0), (2378, 0.0), (2380, 0.0), (2383, 0.0), (2384, 0.0), (2392, 0.0), (2401, 0.0), (2413, 0.0), (2419, 0.0), (2425, 0.0), (2429, 0.0), (2432, 0.0), (2445, 0.0), (2451, 0.0), (2452, 0.0), (2454, 0.0), (2455, 0.0), (2462, 0.0), (2470, 0.0), (2471, 0.0), (2476, 0.0), (2483, 0.0), (2506, 0.0), (2515, 0.0), (2516, 0.0), (2521, 0.0), (2532, 0.0), (2533, 0.0), (2536, 0.0), (2541, 0.0), (2549, 0.0), (2551, 0.0), (2557, 0.0), (2567, 0.0), (2573, 0.0), (2577, 0.0), (2578, 0.0), (2583, 0.0), (2589, 0.0), (2596, 0.0), (2599, 0.0), (2613, 0.0), (2620, 0.0), (2628, 0.0), (2630, 0.0), (2639, 0.0), (2649, 0.0), (2657, 0.0), (2658, 0.0), (2659, 0.0), (2667, 0.0), (2669, 0.0), (2670, 0.0), (2676, 0.0), (2679, 0.0), (2683, 0.0), (2684, 0.0), (2686, 0.0), (2694, 0.0), (2700, 0.0), (2703, 0.0), (2707, 0.0), (2713, 0.0), (2717, 0.0), (2718, 0.0), (2719, 0.0), (2723, 0.0), (2733, 0.0), (2735, 0.0), (2750, 0.0), (2752, 0.0), (2753, 0.0), (2757, 0.0), (2773, 0.0), (2783, 0.0), (2785, 0.0), (2788, 0.0), (2806, 0.0), (2815, 0.0), (2824, 0.0), (2828, 0.0), (2837, 0.0), (2849, 0.0), (2851, 0.0), (2860, 0.0), (2861, 0.0), (2864, 0.0), (2869, 0.0), (2875, 0.0), (2885, 0.0), (2896, 0.0), (2902, 0.0), (2905, 0.0), (2909, 0.0), (2918, 0.0), (2921, 0.0), (2922, 0.0), (2927, 0.0), (2930, 0.0), (2937, 0.0), (2939, 0.0), (2941, 0.0), (2947, 0.0), (2950, 0.0), (2952, 0.0), (2953, 0.0), (2956, 0.0), (2957, 0.0), (2959, 0.0), (2960, 0.0), (2967, 0.0), (2987, 0.0), (2990, 0.0), (2991, 0.0), (2993, 0.0), (2997, 0.0), (3002, 0.0), (3006, 0.0), (3007, 0.0), (3025, 0.0), (3029, 0.0), (3030, 0.0), (3031, 0.0), (3035, 0.0), (3038, 0.0), (3041, 0.0), (3047, 0.0), (3048, 0.0), (3049, 0.0), (3052, 0.0), (3054, 0.0), (3055, 0.0), (3057, 0.0), (3058, 0.0), (3059, 0.0), (3060, 0.0), (3064, 0.0), (3068, 0.0), (3069, 0.0), (3079, 0.0), (3087, 0.0), (3088, 0.0), (3090, 0.0), (3093, 0.0), (3100, 0.0), (3103, 0.0), (3104, 0.0), (3105, 0.0), (3106, 0.0), (3107, 0.0), (3110, 0.0), (3115, 0.0), (3119, 0.0), (3124, 0.0), (3126, 0.0), (3128, 0.0), (3131, 0.0), (3136, 0.0), (3138, 0.0), (3156, 0.0), (3158, 0.0), (3159, 0.0), (3160, 0.0), (3161, 0.0), (3162, 0.0), (3167, 0.0), (3174, 0.0), (3176, 0.0), (3180, 0.0), (3185, 0.0), (3186, 0.0), (3191, 0.0), (3202, 0.0), (3203, 0.0), (3204, 0.0), (3206, 0.0), (3207, 0.0), (3208, 0.0), (3209, 0.0), (3213, 0.0), (3216, 0.0), (3223, 0.0), (3230, 0.0), (3250, 0.0), (3251, 0.0), (3252, 0.0), (3255, 0.0), (3261, 0.0), (3263, 0.0), (3266, 0.0), (3280, 0.0), (3281, 0.0), (3292, 0.0), (3305, 0.0), (3312, 0.0), (3322, 0.0), (3324, 0.0), (3334, 0.0), (3338, 0.0), (3339, 0.0), (3340, 0.0), (3341, 0.0), (3350, 0.0), (3354, 0.0), (3356, 0.0), (3358, 0.0), (3361, 0.0), (3369, 0.0), (3372, 0.0), (3376, 0.0), (3378, 0.0), (3381, 0.0), (3383, 0.0), (3385, 0.0), (3392, 0.0), (3396, 0.0), (3404, 0.0), (3405, 0.0), (3415, 0.0), (3419, 0.0), (3422, 0.0), (3427, 0.0), (3428, 0.0), (3429, 0.0), (3431, 0.0), (3432, 0.0), (3434, 0.0), (3438, 0.0), (3440, 0.0), (3441, 0.0), (3442, 0.0), (3452, 0.0), (3453, 0.0), (3455, 0.0), (3462, 0.0), (3466, 0.0), (3468, 0.0), (3472, 0.0), (3473, 0.0), (3476, 0.0), (3480, 0.0), (3482, 0.0), (3488, 0.0), (3489, 0.0), (3490, 0.0), (3494, 0.0), (3497, 0.0), (3519, 0.0), (3520, 0.0), (3522, 0.0), (3523, 0.0), (3530, 0.0), (3535, 0.0), (3543, 0.0), (3547, 0.0), (3548, 0.0), (3550, 0.0), (3561, 0.0), (3572, 0.0), (3573, 0.0), (3576, 0.0), (3586, 0.0), (3587, 0.0), (3591, 0.0), (3593, 0.0), (3597, 0.0), (3600, 0.0), (3602, 0.0), (3605, 0.0), (3607, 0.0), (3608, 0.0), (3609, 0.0), (3615, 0.0), (3617, 0.0), (3625, 0.0), (3627, 0.0), (3630, 0.0), (3636, 0.0), (3642, 0.0), (3647, 0.0), (3662, 0.0), (3663, 0.0), (3664, 0.0), (3672, 0.0), (3679, 0.0), (3682, 0.0), (3683, 0.0), (3687, 0.0), (3691, 0.0), (3693, 0.0), (3697, 0.0), (3699, 0.0), (3700, 0.0), (3702, 0.0), (3703, 0.0), (3710, 0.0), (3712, 0.0), (3714, 0.0), (3717, 0.0), (3718, 0.0), (3719, 0.0), (3721, 0.0), (3723, 0.0), (3724, 0.0), (3725, 0.0), (3726, 0.0), (3729, 0.0), (3735, 0.0), (3737, 0.0), (3740, 0.0), (3744, 0.0), (3750, 0.0), (3757, 0.0), (3760, 0.0), (3761, 0.0), (3762, 0.0), (3768, 0.0), (3769, 0.0), (3770, 0.0), (3773, 0.0), (3775, 0.0), (3776, 0.0), (3781, 0.0), (3782, 0.0), (3785, 0.0), (3788, 0.0), (3791, 0.0), (3793, 0.0), (3795, 0.0), (3798, 0.0), (3804, 0.0), (3806, 0.0), (3816, 0.0), (3817, 0.0), (3820, 0.0), (3824, 0.0), (3831, 0.0), (3834, 0.0), (3837, 0.0), (3838, 0.0), (3843, 0.0), (3847, 0.0), (3848, 0.0), (3849, 0.0), (3850, 0.0), (3851, 0.0), (3860, 0.0), (3861, 0.0), (3863, 0.0), (3870, 0.0), (3874, 0.0), (3878, 0.0), (3884, 0.0), (3885, 0.0), (3887, 0.0), (3896, 0.0), (3899, 0.0), (3908, 0.0), (3918, 0.0), (3930, 0.0), (3931, 0.0), (3935, 0.0), (3939, 0.0), (3942, 0.0), (3945, 0.0), (3947, 0.0), (3958, 0.0), (3969, 0.0), (3971, 0.0), (3972, 0.0), (3975, 0.0), (3978, 0.0), (3981, 0.0), (3986, 0.0), (3987, 0.0), (3988, 0.0), (3993, 0.0), (3995, 0.0), (3997, 0.0), (3999, 0.0), (4000, 0.0), (4004, 0.0), (4019, 0.0), (4021, 0.0), (4030, 0.0), (4040, 0.0), (4041, 0.0), (4042, 0.0), (4043, 0.0), (4047, 0.0), (4048, 0.0), (4058, 0.0), (4060, 0.0), (4065, 0.0), (4072, 0.0), (4078, 0.0), (4080, 0.0), (4081, 0.0), (4083, 0.0), (4088, 0.0), (4090, 0.0), (4091, 0.0), (4096, 0.0), (4100, 0.0), (4103, 0.0), (4107, 0.0), (4115, 0.0), (4120, 0.0), (4122, 0.0), (4124, 0.0), (4126, 0.0), (4127, 0.0), (4128, 0.0), (4129, 0.0), (4131, 0.0), (4139, 0.0), (4142, 0.0), (4144, 0.0), (4145, 0.0), (4161, 0.0), (4165, 0.0), (4167, 0.0), (4170, 0.0), (4172, 0.0), (4175, 0.0), (4179, 0.0), (4180, 0.0), (4181, 0.0), (4184, 0.0), (4185, 0.0), (4186, 0.0), (4204, 0.0), (4208, 0.0), (4209, 0.0), (4212, 0.0), (4214, 0.0), (4215, 0.0), (4219, 0.0), (4220, 0.0), (4221, 0.0), (4224, 0.0), (4225, 0.0), (4227, 0.0), (4228, 0.0), (4229, 0.0), (4230, 0.0), (4232, 0.0), (4235, 0.0), (4238, 0.0), (4239, 0.0), (4240, 0.0), (4241, 0.0), (4245, 0.0), (4248, 0.0), (4250, 0.0), (4251, 0.0), (4256, 0.0), (4258, 0.0), (4260, 0.0), (4261, 0.0), (4273, 0.0), (4276, 0.0), (4278, 0.0), (4279, 0.0), (4280, 0.0), (4291, 0.0), (4292, 0.0), (4296, 0.0), (4301, 0.0), (4302, 0.0), (4305, 0.0), (4306, 0.0), (4307, 0.0), (4310, 0.0), (4316, 0.0), (4317, 0.0), (4318, 0.0), (4322, 0.0), (4326, 0.0), (4331, 0.0), (4340, 0.0), (4343, 0.0), (4349, 0.0), (4352, 0.0), (4353, 0.0), (4355, 0.0), (4358, 0.0), (4361, 0.0), (4365, 0.0), (4366, 0.0), (4370, 0.0), (4372, 0.0), (4375, 0.0), (4377, 0.0), (4380, 0.0), (4381, 0.0), (4383, 0.0), (4384, 0.0), (4386, 0.0), (4390, 0.0), (4393, 0.0), (4396, 0.0), (4397, 0.0), (4398, 0.0), (4400, 0.0), (4405, 0.0), (4407, 0.0), (4409, 0.0), (4410, 0.0), (4413, 0.0), (4415, 0.0), (4416, 0.0), (4417, 0.0), (4418, 0.0), (4421, 0.0), (4423, 0.0), (4424, 0.0), (4425, 0.0), (4428, 0.0), (4439, 0.0), (4441, 0.0), (4449, 0.0), (4450, 0.0), (4455, 0.0), (4456, 0.0), (4458, 0.0), (4461, 0.0), (4464, 0.0), (4468, 0.0), (4469, 0.0), (4474, 0.0), (4485, 0.0), (4491, 0.0), (4493, 0.0), (4496, 0.0), (4497, 0.0), (4499, 0.0), (4500, 0.0), (4505, 0.0), (4506, 0.0), (4508, 0.0), (4509, 0.0), (4512, 0.0), (4513, 0.0), (4518, 0.0), (4525, 0.0), (4526, 0.0), (4527, 0.0), (4529, 0.0), (4531, 0.0), (4532, 0.0), (4537, 0.0), (4538, 0.0), (4539, 0.0), (4540, 0.0), (4544, 0.0), (4545, 0.0), (4547, 0.0), (4550, 0.0), (4553, 0.0), (4558, 0.0), (4559, 0.0), (4560, 0.0), (4561, 0.0), (4567, 0.0), (4569, 0.0), (4572, 0.0), (4574, 0.0), (4577, 0.0), (4578, 0.0), (4579, 0.0), (4581, 0.0), (4583, 0.0), (4584, 0.0), (4585, 0.0), (4586, 0.0), (4595, 0.0), (4606, 0.0), (4607, 0.0), (4608, 0.0), (4611, 0.0), (4615, 0.0), (4616, 0.0), (4618, 0.0), (4620, 0.0), (4622, 0.0), (4623, 0.0), (4631, 0.0), (4635, 0.0), (4639, 0.0), (4641, 0.0), (4644, 0.0), (4645, 0.0), (4646, 0.0), (4647, 0.0), (4648, 0.0), (4651, 0.0), (4653, 0.0), (4654, 0.0), (4655, 0.0), (4656, 0.0), (4659, 0.0), (4661, 0.0), (4662, 0.0), (4664, 0.0), (4665, 0.0), (4666, 0.0), (4671, 0.0), (4672, 0.0), (4676, 0.0), (4677, 0.0), (4678, 0.0), (4681, 0.0), (4690, 0.0), (4691, 0.0), (4692, 0.0), (4693, 0.0), (4694, 0.0), (4696, 0.0), (4697, 0.0), (4698, 0.0), (4702, 0.0), (4703, 0.0), (4704, 0.0), (4705, 0.0), (4707, 0.0), (4709, 0.0), (4711, 0.0), (4714, 0.0), (4715, 0.0), (4716, 0.0), (4724, 0.0), (4728, 0.0), (4729, 0.0), (4735, 0.0), (4736, 0.0), (4737, 0.0), (4740, 0.0), (4741, 0.0), (4742, 0.0), (4743, 0.0), (4745, 0.0), (4747, 0.0), (4749, 0.0), (4750, 0.0), (4751, 0.0), (4753, 0.0), (4754, 0.0), (4755, 0.0), (4758, 0.0), (4759, 0.0)]\n"
          ]
        }
      ]
    },
    {
      "cell_type": "markdown",
      "source": [
        "**Prediction**"
      ],
      "metadata": {
        "id": "bQJWmPt7KmAE"
      }
    },
    {
      "cell_type": "code",
      "source": [
        "print('Top 30 Movies suggested exclusively for you: \\n')\n",
        "i=1\n",
        "\n",
        "for movie in Sorted_Similar_Movies:\n",
        "  index= movie[0]\n",
        "  title_from_index= df[df.index==index]['Movie_Title'].values[0]\n",
        "  if(i<31):\n",
        "    print(i,'.',title_from_index)\n",
        "    i+=1"
      ],
      "metadata": {
        "colab": {
          "base_uri": "https://localhost:8080/"
        },
        "id": "s5_HM3E42srq",
        "outputId": "ae6936a7-6e83-4a54-e800-ca9b582bfd78"
      },
      "execution_count": 38,
      "outputs": [
        {
          "output_type": "stream",
          "name": "stdout",
          "text": [
            "Top 30 Movies suggested exclusively for you: \n",
            "\n",
            "1 . Forrest Gump\n",
            "2 . The Green Mile\n",
            "3 . Rain Man\n",
            "4 . A Home at the End of the World\n",
            "5 . Cast Away\n",
            "6 . Apollo 13\n",
            "7 . Letters from Iwo Jima\n",
            "8 . What's Eating Gilbert Grape\n",
            "9 . Saving Private Ryan\n",
            "10 . The Big Bounce\n",
            "11 . The Purge: Election Year\n",
            "12 . Memoirs of an Invisible Man\n",
            "13 . You've Got Mail\n",
            "14 . Dangerous Liaisons\n",
            "15 . The Musketeer\n",
            "16 . The Happening\n",
            "17 . Snake Eyes\n",
            "18 . Dancin' It's On\n",
            "19 . Gigli\n",
            "20 . A Prairie Home Companion\n",
            "21 . Space Cowboys\n",
            "22 . Rugrats in Paris: The Movie\n",
            "23 . Silver Linings Playbook\n",
            "24 . As It Is in Heaven\n",
            "25 . Teenage Mutant Ninja Turtles\n",
            "26 . Big\n",
            "27 . That Thing You Do!\n",
            "28 . Lake Mungo\n",
            "29 . Impostor\n",
            "30 . Moneyball\n"
          ]
        }
      ]
    },
    {
      "cell_type": "markdown",
      "source": [
        "**Top 10 Movie Recommendation System**"
      ],
      "metadata": {
        "id": "DNy7CHBUItiI"
      }
    },
    {
      "cell_type": "code",
      "source": [
        "Movie_Name=input('Enter your favourite movie and let us recommend the Top 10 movies you would love!')\n",
        "list_of_all_titles= df['Movie_Title'].tolist()\n",
        "Find_Close_Match= difflib.get_close_matches(Movie_Name,list_of_all_titles)\n",
        "Close_Match= Find_Close_Match[0]\n",
        "Index_of_Movie= df[df.Movie_Title==Close_Match]['Movie_ID'].values[0]\n",
        "Recommendation_Score= list(enumerate(Similarity_Score[Index_of_Movie]))\n",
        "sorted_similar_movies= sorted(Recommendation_Score,key=lambda x:x[1], reverse= True)\n",
        "print('Top 10 movies suggested for you: \\n')\n",
        "i=1\n",
        "for movie in sorted_similar_movies:\n",
        "  index= movie[0]\n",
        "  title_from_index= df[df.index==index]['Movie_Title'].values\n",
        "  if(i<11):\n",
        "    print(i,'.',title_from_index)\n",
        "    i+=1\n",
        "\n",
        ""
      ],
      "metadata": {
        "colab": {
          "base_uri": "https://localhost:8080/"
        },
        "id": "VWjK2I3e3ZNl",
        "outputId": "44f9f384-d546-49a0-c9e6-e3425c7f1218"
      },
      "execution_count": 39,
      "outputs": [
        {
          "output_type": "stream",
          "name": "stdout",
          "text": [
            "Enter your favourite movie and let us recommend the Top 10 movies you would love!You have got mail\n",
            "Top 10 movies suggested for you: \n",
            "\n",
            "1 . ['Half Baked']\n",
            "2 . [\"All the King's Men\"]\n",
            "3 . ['Screwed']\n",
            "4 . ['Superstar']\n",
            "5 . ['200 Cigarettes']\n",
            "6 . ['Hansel and Gretel Get Baked']\n",
            "7 . ['The Wood']\n",
            "8 . ['Blue Streak']\n",
            "9 . ['Made of Honor']\n",
            "10 . ['Severance']\n"
          ]
        }
      ]
    },
    {
      "cell_type": "markdown",
      "source": [
        "***Explanation***\n",
        "*The recommendation system has succesfully predicted and filtered preferences according to the user's choices. It tells us what movies/items are most similar to the user's movie choice using Python and Pandas*\n",
        "\n"
      ],
      "metadata": {
        "id": "yV4DIsSXKqyM"
      }
    }
  ]
}